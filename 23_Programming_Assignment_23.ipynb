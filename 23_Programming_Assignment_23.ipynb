{
  "cells": [
    {
      "cell_type": "markdown",
      "id": "fde597ec",
      "metadata": {
        "id": "fde597ec"
      },
      "source": [
        "# Assignment 23 Solutions"
      ]
    },
    {
      "cell_type": "markdown",
      "id": "3b8368dc",
      "metadata": {
        "id": "3b8368dc"
      },
      "source": [
        "#### 1.Create a function that takes a number as an argument and returns True or False depending on whether the number is symmetrical or not. A number is symmetrical when it is the same as its reverse.\n",
        "**Examples:**    \n",
        "`is_symmetrical(7227) ➞ True`  \n",
        "`is_symmetrical(12567) ➞ False`  \n",
        "`is_symmetrical(44444444) ➞ True`  \n",
        "`is_symmetrical(9939) ➞ False`  \n",
        "`is_symmetrical(1112111) ➞ True`  "
      ]
    },
    {
      "cell_type": "code",
      "execution_count": 2,
      "id": "c26dbf7e",
      "metadata": {
        "colab": {
          "base_uri": "https://localhost:8080/"
        },
        "id": "c26dbf7e",
        "outputId": "0ec212d6-b429-4051-ef8e-555a738bd79c"
      },
      "outputs": [
        {
          "output_type": "stream",
          "name": "stdout",
          "text": [
            "7227 ➞ True\n",
            "12567 ➞ False\n",
            "44444444 ➞ True\n",
            "9939 ➞ False\n",
            "1112111 ➞ True\n"
          ]
        }
      ],
      "source": [
        "def checksymmetricalnumber(input_num):\n",
        "    if str(input_num) == str(input_num)[::-1]:\n",
        "        print(f'{input_num} ➞ {True}')\n",
        "    else:\n",
        "        print(f'{input_num} ➞ {False}')\n",
        "\n",
        "checksymmetricalnumber(7227)\n",
        "checksymmetricalnumber(12567)\n",
        "checksymmetricalnumber(44444444)\n",
        "checksymmetricalnumber(9939)\n",
        "checksymmetricalnumber(1112111)"
      ]
    },
    {
      "cell_type": "markdown",
      "id": "45b97989",
      "metadata": {
        "id": "45b97989"
      },
      "source": [
        "#### 2.Given a string of numbers separated by a comma and space, return the product of the numbers.\n",
        "**Examples:**  \n",
        "`multiply_nums(\"2, 3\") ➞ 6`  \n",
        "`multiply_nums(\"1, 2, 3, 4\") ➞ 24`  \n",
        "`multiply_nums(\"54, 75, 453, 0\") ➞ 0`  \n",
        "`multiply_nums(\"10, -2\") ➞ -20`  "
      ]
    },
    {
      "cell_type": "code",
      "execution_count": 3,
      "id": "60133913",
      "metadata": {
        "colab": {
          "base_uri": "https://localhost:8080/"
        },
        "id": "60133913",
        "outputId": "20b7b4da-d88d-4470-eb4f-1809c49bd159"
      },
      "outputs": [
        {
          "output_type": "stream",
          "name": "stdout",
          "text": [
            "2, 3 ➞ 6\n",
            "1, 2, 3, 4 ➞ 24\n",
            "54, 75, 453, 0 ➞ 0\n",
            "10, -2 ➞ -20\n"
          ]
        }
      ],
      "source": [
        "def proudctnums(in_string):\n",
        "    out_string = in_string.replace(' ','').split(',')\n",
        "    out_num = 1\n",
        "    for ele in out_string:\n",
        "        out_num *= int(ele)\n",
        "    print(f'{in_string} ➞ {out_num}')\n",
        "    \n",
        "proudctnums(\"2, 3\")\n",
        "proudctnums(\"1, 2, 3, 4\")\n",
        "proudctnums(\"54, 75, 453, 0\")\n",
        "proudctnums(\"10, -2\")"
      ]
    },
    {
      "cell_type": "markdown",
      "id": "42e17e6f",
      "metadata": {
        "id": "42e17e6f"
      },
      "source": [
        "#### 3.Create a function that squares every digit of a number.\n",
        "**Examples:**  \n",
        "`square_digits(9119) ➞ 811181`  \n",
        "`square_digits(2483) ➞ 416649`  \n",
        "`square_digits(3212) ➞ 9414`  \n",
        "\n",
        "**Notes:**   \n",
        "The function receives an integer and must return an integer."
      ]
    },
    {
      "cell_type": "code",
      "execution_count": 4,
      "id": "fb0d6d2b",
      "metadata": {
        "colab": {
          "base_uri": "https://localhost:8080/"
        },
        "id": "fb0d6d2b",
        "outputId": "c17eaa50-ca5b-402d-eff3-af02f3207b74"
      },
      "outputs": [
        {
          "output_type": "stream",
          "name": "stdout",
          "text": [
            "9119 ➞ 811181\n",
            "2483 ➞ 416649\n",
            "3212 ➞ 9414\n"
          ]
        }
      ],
      "source": [
        "def squaredigit(in_num):\n",
        "    in_list = [str(int(ele)**2) for ele in str(in_num)]\n",
        "    out_list = ''.join(in_list)\n",
        "    print(f'{in_num} ➞ {int(out_list)}')\n",
        "\n",
        "squaredigit(9119)\n",
        "squaredigit(2483)\n",
        "squaredigit(3212)"
      ]
    },
    {
      "cell_type": "markdown",
      "id": "5edc0e1b",
      "metadata": {
        "id": "5edc0e1b"
      },
      "source": [
        "#### 4.Create a function that sorts a list and removes all duplicate items from it.\n",
        "**Examples:**  \n",
        "`setify([1, 3, 3, 5, 5]) ➞ [1, 3, 5]`  \n",
        "`setify([4, 4, 4, 4]) ➞ [4]`  \n",
        "`setify([5, 7, 8, 9, 10, 15]) ➞ [5, 7, 8, 9, 10, 15]`  \n",
        "`setify([3, 3, 3, 2, 1]) ➞ [1, 2, 3]`  "
      ]
    },
    {
      "cell_type": "code",
      "execution_count": 5,
      "id": "8ca50bbd",
      "metadata": {
        "colab": {
          "base_uri": "https://localhost:8080/"
        },
        "id": "8ca50bbd",
        "outputId": "49f2b657-4fb3-4eeb-b706-ae5ef19df450"
      },
      "outputs": [
        {
          "output_type": "stream",
          "name": "stdout",
          "text": [
            "[1, 3, 3, 5, 5] ➞ [1, 3, 5]\n",
            "[4, 4, 4, 4] ➞ [4]\n",
            "[5, 7, 8, 9, 10, 15] ➞ [5, 7, 8, 9, 10, 15]\n",
            "[3, 3, 3, 2, 1] ➞ [1, 2, 3]\n"
          ]
        }
      ],
      "source": [
        "def sortlist(input_list):\n",
        "    outputlist = sorted(set(input_list))\n",
        "    print(f'{input_list} ➞ {outputlist}')\n",
        "    \n",
        "sortlist([1, 3, 3, 5, 5]) \n",
        "sortlist([4, 4, 4, 4])\n",
        "sortlist([5, 7, 8, 9, 10, 15])\n",
        "sortlist([3, 3, 3, 2, 1])"
      ]
    },
    {
      "cell_type": "markdown",
      "id": "02d28ede",
      "metadata": {
        "id": "02d28ede"
      },
      "source": [
        "#### 5.Create a function that returns the mean of all digits.\n",
        "**Examples:**  \n",
        "`mean(42) ➞ 3`  \n",
        "`mean(12345) ➞ 3`  \n",
        "`mean(666) ➞ 6`  \n",
        "\n",
        "**Notes:**   \n",
        "    1.The mean of all digits is the sum of digits / how many digits there are (e.g. mean of digits in 512 is (5+1+2)/3(number of digits) = 8/3=2).  \n",
        "    2.The mean will always be an integer."
      ]
    },
    {
      "cell_type": "code",
      "execution_count": 6,
      "id": "30baa94c",
      "metadata": {
        "colab": {
          "base_uri": "https://localhost:8080/"
        },
        "id": "30baa94c",
        "outputId": "4aec7b15-a7d4-4981-89d8-31a64ad4badd"
      },
      "outputs": [
        {
          "output_type": "stream",
          "name": "stdout",
          "text": [
            "Mean of 42  ➞ 3\n",
            "Mean of 12345  ➞ 3\n",
            "Mean of 666  ➞ 6\n"
          ]
        }
      ],
      "source": [
        "def avgmean(inputnum):\n",
        "    in_list = [int(ele) for ele in str(inputnum)]\n",
        "    output_num = sum(in_list)/len(str(inputnum))\n",
        "    print(f'Mean of {inputnum}  ➞ {output_num:.0f}')\n",
        "    \n",
        "avgmean(42)\n",
        "avgmean(12345)\n",
        "avgmean(666)"
      ]
    }
  ],
  "metadata": {
    "kernelspec": {
      "display_name": "Python 3",
      "language": "python",
      "name": "python3"
    },
    "language_info": {
      "codemirror_mode": {
        "name": "ipython",
        "version": 3
      },
      "file_extension": ".py",
      "mimetype": "text/x-python",
      "name": "python",
      "nbconvert_exporter": "python",
      "pygments_lexer": "ipython3",
      "version": "3.8.8"
    },
    "colab": {
      "provenance": []
    }
  },
  "nbformat": 4,
  "nbformat_minor": 5
}