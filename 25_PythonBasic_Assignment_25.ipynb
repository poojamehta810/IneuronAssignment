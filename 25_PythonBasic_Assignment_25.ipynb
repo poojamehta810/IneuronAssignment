{
  "cells": [
    {
      "cell_type": "markdown",
      "id": "7f9b8597",
      "metadata": {
        "id": "7f9b8597"
      },
      "source": [
        "# Assignment 25 Solutions"
      ]
    },
    {
      "cell_type": "markdown",
      "id": "5aee2c7e",
      "metadata": {
        "id": "5aee2c7e"
      },
      "source": [
        "#### 1) . What is the difference between enclosing a list comprehension in square brackets and parentheses?\n",
        "**Ans:** Enclosing a list comprehension in square brackets gives a list where as enclosing a list comprehension in parentheses gives a `generator` object."
      ]
    },
    {
      "cell_type": "code",
      "execution_count": 1,
      "id": "b4745353-bbeb-46d7-bcab-9f81ab1914b5",
      "metadata": {
        "colab": {
          "base_uri": "https://localhost:8080/"
        },
        "id": "b4745353-bbeb-46d7-bcab-9f81ab1914b5",
        "outputId": "22fbdb68-444f-4020-ca17-da0558077b24"
      },
      "outputs": [
        {
          "output_type": "stream",
          "name": "stdout",
          "text": [
            "[0, 1, 2, 3, 4] <class 'list'>\n",
            "<generator object <genexpr> at 0x7f09467b1700> <class 'generator'>\n"
          ]
        }
      ],
      "source": [
        "ls = [ele for ele in range(5)]\n",
        "print(ls, type(ls))\n",
        "gt = (ele for ele in range(5))\n",
        "print(gt, type(gt))"
      ]
    },
    {
      "cell_type": "markdown",
      "id": "43ead631",
      "metadata": {
        "id": "43ead631"
      },
      "source": [
        "#### 2) What is the relationship between generators and iterators?\n",
        "**Ans:** An `iterator` is an object which contains a countable number of values and it is used to iterate over iterable objects like list, tuples, sets, etc. Iterators are implemented using a class. It follows lazy evaluation where the evaluation of the expression will be on hold and stored in the memory until the item is called specifically which helps us to avoid repeated evaluation. As lazy evaluation is implemented, it requires only 1 memory location to process the value and when we are using a large dataset then, wastage of RAM space will be reduced the need to load the entire dataset at the same time will not be there.For an iterator: `iter()` keyword is used to create an iterator containing an iterable object.`next()` \n",
        "keyword is used to call the next element in the iterable object.\n",
        "\n",
        "Similarly `Generators` are an another way of creating iterators in a simple way where it uses the keyword `yield` statement instead of `return` statement in a defined function.Generators are implemented using a function. Just as iterators, generators also follow `lazy evaluation`. Here, the yield function returns the data without affecting or exiting the function. It will return a sequence of data in an iterable format where we need to iterate over the sequence to use the data as they won’t store the entire sequence in the memory.\n",
        "\n",
        "iterators are objects that can be iterated on, and generators are special functions that leverage lazy evaluation. Implementing your own iterator means you must create an __iter__() and __next__() method, whereas a generator can be implemented using the yield keyword in a Python function or comprehension."
      ]
    },
    {
      "cell_type": "code",
      "execution_count": 5,
      "id": "475ad9eb-18b8-4e3a-a246-86c341de25ad",
      "metadata": {
        "tags": [],
        "colab": {
          "base_uri": "https://localhost:8080/"
        },
        "id": "475ad9eb-18b8-4e3a-a246-86c341de25ad",
        "outputId": "4b3b020a-8018-43b2-9eb9-109ca8696b6d"
      },
      "outputs": [
        {
          "output_type": "stream",
          "name": "stdout",
          "text": [
            "A: 1\n",
            "A: 2\n",
            "A: 3\n",
            "A: 4\n",
            "B: 1\n",
            "1\n"
          ]
        }
      ],
      "source": [
        "# Example of iterartor\n",
        "list_instance = [1, 2, 3, 4]\n",
        "iterator_a = iter(list_instance)\n",
        "iterator_b = iter(list_instance)\n",
        "print(f\"A: {next(iterator_a)}\")\n",
        "print(f\"A: {next(iterator_a)}\")\n",
        "print(f\"A: {next(iterator_a)}\")\n",
        "print(f\"A: {next(iterator_a)}\")\n",
        "print(f\"B: {next(iterator_b)}\")\n",
        "\n",
        "# Example of Generator\n",
        "def factors(n):\n",
        "  for val in range(1, n+1):\n",
        "      if n % val == 0:\n",
        "          yield val\n",
        "         \n",
        "factors_of_20 = factors(20)\n",
        "print(next(factors_of_20))"
      ]
    },
    {
      "cell_type": "markdown",
      "id": "c4bd6bf0",
      "metadata": {
        "id": "c4bd6bf0"
      },
      "source": [
        "#### 3) What are the signs that a function is a generator function?\n",
        "**Ans:** A generator function uses a `yield` statement instead of a `return` statement. A generator function will always return a iterable object called generator. where as a normal function can return a `string/list/tuple/dict/NoneType` ... etc"
      ]
    },
    {
      "cell_type": "markdown",
      "id": "b35dd5fe",
      "metadata": {
        "id": "b35dd5fe"
      },
      "source": [
        "#### 4) What is the purpose of a yield statement?\n",
        "**Ans:** The yield keyword in Python controls the flow of a generator function. This is similar to a return statement used for returning values in Python."
      ]
    },
    {
      "cell_type": "markdown",
      "id": "d2182986",
      "metadata": {
        "tags": [],
        "id": "d2182986"
      },
      "source": [
        "#### 5) What is the relationship between map calls and list comprehensions? Make a comparison and contrast between the two ?\n",
        "**Ans:** The main differences between map calls and list comprehensiosn are:\n",
        "1. List comprehension is more concise and easier to read as compared to map.\n",
        "2. List comprehension allows filtering. In map, we have no such facility. For example, to print all odd numbers in range of 50, we can write `[n for n in range(50) if n%2 != 0]`. There is no alternate for it in map\n",
        "3. List comprehension are used when a list of results is required as final output.but map only returns a map object. it needs to be explicitly coverted to desired datatype.\n",
        "4. List comprehension is faster than map when we need to evaluate expressions that are too long or complicated to express\n",
        "5. Map is faster in case of calling an already defined function on a set of values."
      ]
    }
  ],
  "metadata": {
    "kernelspec": {
      "display_name": "Python 3",
      "language": "python",
      "name": "python3"
    },
    "language_info": {
      "codemirror_mode": {
        "name": "ipython",
        "version": 3
      },
      "file_extension": ".py",
      "mimetype": "text/x-python",
      "name": "python",
      "nbconvert_exporter": "python",
      "pygments_lexer": "ipython3",
      "version": "3.8.8"
    },
    "colab": {
      "provenance": []
    }
  },
  "nbformat": 4,
  "nbformat_minor": 5
}