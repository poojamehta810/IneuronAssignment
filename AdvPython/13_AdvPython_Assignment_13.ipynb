{
  "cells": [
    {
      "cell_type": "markdown",
      "id": "e51b77c7",
      "metadata": {
        "id": "e51b77c7"
      },
      "source": [
        "# Assignment 13 Solutions"
      ]
    },
    {
      "cell_type": "markdown",
      "id": "dfee8ef3",
      "metadata": {
        "id": "dfee8ef3"
      },
      "source": [
        "#### Q1. Can you create a programme or function that employs both positive and negative indexing? Is there any repercussion if you do so?"
      ]
    },
    {
      "cell_type": "code",
      "execution_count": 2,
      "id": "900d1a45",
      "metadata": {
        "id": "900d1a45",
        "outputId": "462d8d21-5dc4-49d4-9d73-0924d2c663a5",
        "colab": {
          "base_uri": "https://localhost:8080/"
        }
      },
      "outputs": [
        {
          "output_type": "stream",
          "name": "stdout",
          "text": [
            "Positive Indexing -> 6\n",
            "Negative Indexing -> 10\n"
          ]
        }
      ],
      "source": [
        "my_list = [1,2,3,4,5,6,6,7,8,9,10]\n",
        "def checkindexboth(in_list,position):\n",
        "    return in_list[position]\n",
        "print('Positive Indexing ->',checkindexboth(my_list,5))\n",
        "print('Negative Indexing ->',checkindexboth(my_list,-1))"
      ]
    },
    {
      "cell_type": "markdown",
      "id": "12df6e66",
      "metadata": {
        "id": "12df6e66"
      },
      "source": [
        "#### Q2. What is the most effective way of starting with 1,000 elements in a Python list? Assume that all elements should be set to the same value.\n"
      ]
    },
    {
      "cell_type": "code",
      "execution_count": null,
      "id": "4c491202",
      "metadata": {
        "id": "4c491202",
        "outputId": "a9ae5d3f-c9d0-4881-8b36-dd54c0069fd0"
      },
      "outputs": [
        {
          "name": "stdout",
          "output_type": "stream",
          "text": [
            "[1, 1, 1, 1, 1, 1, 1, 1, 1, 1, 1, 1, 1, 1, 1, 1, 1, 1, 1, 1, 1, 1, 1, 1, 1, 1, 1, 1, 1, 1, 1, 1, 1, 1, 1, 1, 1, 1, 1, 1, 1, 1, 1, 1, 1, 1, 1, 1, 1, 1, 1, 1, 1, 1, 1, 1, 1, 1, 1, 1, 1, 1, 1, 1, 1, 1, 1, 1, 1, 1, 1, 1, 1, 1, 1, 1, 1, 1, 1, 1, 1, 1, 1, 1, 1, 1, 1, 1, 1, 1, 1, 1, 1, 1, 1, 1, 1, 1, 1, 1, 1, 1, 1, 1, 1, 1, 1, 1, 1, 1, 1, 1, 1, 1, 1, 1, 1, 1, 1, 1, 1, 1, 1, 1, 1, 1, 1, 1, 1, 1, 1, 1, 1, 1, 1, 1, 1, 1, 1, 1, 1, 1, 1, 1, 1, 1, 1, 1, 1, 1, 1, 1, 1, 1, 1, 1, 1, 1, 1, 1, 1, 1, 1, 1, 1, 1, 1, 1, 1, 1, 1, 1, 1, 1, 1, 1, 1, 1, 1, 1, 1, 1, 1, 1, 1, 1, 1, 1, 1, 1, 1, 1, 1, 1, 1, 1, 1, 1, 1, 1, 1, 1, 1, 1, 1, 1, 1, 1, 1, 1, 1, 1, 1, 1, 1, 1, 1, 1, 1, 1, 1, 1, 1, 1, 1, 1, 1, 1, 1, 1, 1, 1, 1, 1, 1, 1, 1, 1, 1, 1, 1, 1, 1, 1, 1, 1, 1, 1, 1, 1, 1, 1, 1, 1, 1, 1, 1, 1, 1, 1, 1, 1, 1, 1, 1, 1, 1, 1, 1, 1, 1, 1, 1, 1, 1, 1, 1, 1, 1, 1, 1, 1, 1, 1, 1, 1, 1, 1, 1, 1, 1, 1, 1, 1, 1, 1, 1, 1, 1, 1, 1, 1, 1, 1, 1, 1, 1, 1, 1, 1, 1, 1, 1, 1, 1, 1, 1, 1, 1, 1, 1, 1, 1, 1, 1, 1, 1, 1, 1, 1, 1, 1, 1, 1, 1, 1, 1, 1, 1, 1, 1, 1, 1, 1, 1, 1, 1, 1, 1, 1, 1, 1, 1, 1, 1, 1, 1, 1, 1, 1, 1, 1, 1, 1, 1, 1, 1, 1, 1, 1, 1, 1, 1, 1, 1, 1, 1, 1, 1, 1, 1, 1, 1, 1, 1, 1, 1, 1, 1, 1, 1, 1, 1, 1, 1, 1, 1, 1, 1, 1, 1, 1, 1, 1, 1, 1, 1, 1, 1, 1, 1, 1, 1, 1, 1, 1, 1, 1, 1, 1, 1, 1, 1, 1, 1, 1, 1, 1, 1, 1, 1, 1, 1, 1, 1, 1, 1, 1, 1, 1, 1, 1, 1, 1, 1, 1, 1, 1, 1, 1, 1, 1, 1, 1, 1, 1, 1, 1, 1, 1, 1, 1, 1, 1, 1, 1, 1, 1, 1, 1, 1, 1, 1, 1, 1, 1, 1, 1, 1, 1, 1, 1, 1, 1, 1, 1, 1, 1, 1, 1, 1, 1, 1, 1, 1, 1, 1, 1, 1, 1, 1, 1, 1, 1, 1, 1, 1, 1, 1, 1, 1, 1, 1, 1, 1, 1, 1, 1, 1, 1, 1, 1, 1, 1, 1, 1, 1, 1, 1, 1, 1, 1, 1, 1, 1, 1, 1, 1, 1, 1, 1, 1, 1, 1, 1, 1, 1, 1, 1, 1, 1, 1, 1, 1, 1, 1, 1, 1, 1, 1, 1, 1, 1, 1, 1, 1, 1, 1, 1, 1, 1, 1, 1, 1, 1, 1, 1, 1, 1, 1, 1, 1, 1, 1, 1, 1, 1, 1, 1, 1, 1, 1, 1, 1, 1, 1, 1, 1, 1, 1, 1, 1, 1, 1, 1, 1, 1, 1, 1, 1, 1, 1, 1, 1, 1, 1, 1, 1, 1, 1, 1, 1, 1, 1, 1, 1, 1, 1, 1, 1, 1, 1, 1, 1, 1, 1, 1, 1, 1, 1, 1, 1, 1, 1, 1, 1, 1, 1, 1, 1, 1, 1, 1, 1, 1, 1, 1, 1, 1, 1, 1, 1, 1, 1, 1, 1, 1, 1, 1, 1, 1, 1, 1, 1, 1, 1, 1, 1, 1, 1, 1, 1, 1, 1, 1, 1, 1, 1, 1, 1, 1, 1, 1, 1, 1, 1, 1, 1, 1, 1, 1, 1, 1, 1, 1, 1, 1, 1, 1, 1, 1, 1, 1, 1, 1, 1, 1, 1, 1, 1, 1, 1, 1, 1, 1, 1, 1, 1, 1, 1, 1, 1, 1, 1, 1, 1, 1, 1, 1, 1, 1, 1, 1, 1, 1, 1, 1, 1, 1, 1, 1, 1, 1, 1, 1, 1, 1, 1, 1, 1, 1, 1, 1, 1, 1, 1, 1, 1, 1, 1, 1, 1, 1, 1, 1, 1, 1, 1, 1, 1, 1, 1, 1, 1, 1, 1, 1, 1, 1, 1, 1, 1, 1, 1, 1, 1, 1, 1, 1, 1, 1, 1, 1, 1, 1, 1, 1, 1, 1, 1, 1, 1, 1, 1, 1, 1, 1, 1, 1, 1, 1, 1, 1, 1, 1, 1, 1, 1, 1, 1, 1, 1, 1, 1, 1, 1, 1, 1, 1, 1, 1, 1, 1, 1, 1, 1, 1, 1, 1, 1, 1, 1, 1, 1, 1, 1, 1, 1, 1, 1, 1, 1, 1, 1, 1, 1, 1, 1, 1, 1, 1, 1, 1, 1, 1, 1, 1, 1, 1, 1, 1, 1, 1, 1, 1, 1, 1, 1, 1, 1, 1, 1, 1, 1, 1, 1, 1, 1, 1, 1, 1, 1, 1, 1, 1, 1, 1, 1, 1, 1, 1, 1, 1, 1, 1, 1, 1, 1, 1, 1, 1, 1, 1, 1, 1, 1, 1, 1, 1, 1, 1, 1, 1, 1, 1, 1, 1, 1, 1, 1, 1, 1, 1, 1, 1, 1, 1, 1, 1, 1, 1, 1, 1, 1, 1, 1, 1, 1, 1, 1, 1, 1, 1, 1, 1, 1, 1, 1, 1, 1, 1, 1, 1, 1, 1, 1, 1, 1, 1, 1, 1, 1, 1, 1, 1, 1, 1, 1, 1, 1, 1, 1, 1, 1, 1, 1, 1, 1, 1, 1, 1]\n"
          ]
        }
      ],
      "source": [
        "start_list = [1 for x in range(1001)] # Quick Way to Create a List Using List Comprehension\n",
        "print(start_list)"
      ]
    },
    {
      "cell_type": "markdown",
      "id": "6351fa74",
      "metadata": {
        "id": "6351fa74"
      },
      "source": [
        "#### Q3. How do you slice a list to get any other part while missing the rest? (For example, suppose you want to make a new list with the elements first, third, fifth, seventh, and so on.)"
      ]
    },
    {
      "cell_type": "code",
      "execution_count": 3,
      "id": "8086d0ef",
      "metadata": {
        "id": "8086d0ef",
        "outputId": "11d6a219-2168-454f-f351-d0b0a79598cd",
        "colab": {
          "base_uri": "https://localhost:8080/"
        }
      },
      "outputs": [
        {
          "output_type": "stream",
          "name": "stdout",
          "text": [
            "my_list -> [1, 2, 3, 4, 5, 6, 7, 8, 9, 10, 11, 12, 13, 14, 15, 16, 17, 18, 19]\n",
            "sliced_list -> [1, 3, 5, 7, 9, 11, 13, 15, 17, 19]\n"
          ]
        }
      ],
      "source": [
        "my_list = [x for x in range(1,20)]\n",
        "print(f'my_list -> {my_list}')\n",
        "sliced_list = my_list[::2]\n",
        "print(f'sliced_list -> {sliced_list}')"
      ]
    },
    {
      "cell_type": "markdown",
      "id": "250146a1",
      "metadata": {
        "id": "250146a1"
      },
      "source": [
        "#### Q4. Explain the distinctions between indexing and slicing ?\n",
        "**Ans:**  Indexing is used when we have to work on index level. While slicing are used over a range of items."
      ]
    },
    {
      "cell_type": "code",
      "execution_count": 4,
      "id": "f8d34711",
      "metadata": {
        "id": "f8d34711",
        "outputId": "07a79f09-b33c-4659-df7c-f551cf7c825c",
        "colab": {
          "base_uri": "https://localhost:8080/"
        }
      },
      "outputs": [
        {
          "output_type": "stream",
          "name": "stdout",
          "text": [
            "my_list -> [1, 2, 3, 4, 5, 6, 7, 8, 9, 10, 11, 12, 13, 14, 15, 16, 17, 18, 19]\n",
            "Example of indexing -> (2, 6)\n",
            "Example of slicing -> [2, 3, 4, 5]\n"
          ]
        }
      ],
      "source": [
        "my_list = [x for x in range(1,20)]\n",
        "print(f'my_list -> {my_list}')\n",
        "print(f'Example of indexing -> {my_list[1], my_list[5]}')\n",
        "print(f'Example of slicing -> {my_list[1:5]}')"
      ]
    },
    {
      "cell_type": "markdown",
      "id": "a4d16dbf",
      "metadata": {
        "id": "a4d16dbf"
      },
      "source": [
        "#### Q5. What happens if one of the slicing expression's indexes is out of range?\n",
        "**Ans:** If start index is out of range then it will return empty entity."
      ]
    },
    {
      "cell_type": "code",
      "execution_count": 5,
      "id": "5f827cf4",
      "metadata": {
        "id": "5f827cf4",
        "outputId": "68d1afc7-a70e-4b0a-e6f9-ff39913b8ff7",
        "colab": {
          "base_uri": "https://localhost:8080/"
        }
      },
      "outputs": [
        {
          "output_type": "stream",
          "name": "stdout",
          "text": [
            "my_list -> [1, 2, 3, 4, 5, 6, 7, 8, 9, 10, 11, 12, 13, 14, 15, 16, 17, 18, 19]\n",
            "Case #1 -> []\n",
            "Case #2 -> [11, 12, 13, 14, 15, 16, 17, 18, 19]\n"
          ]
        }
      ],
      "source": [
        "my_list = [x for x in range(1,20)]\n",
        "my_list = [x for x in range(1,20)]\n",
        "print(f'my_list -> {my_list}')\n",
        "print(f'Case #1 -> {my_list[20:]}')\n",
        "print(f'Case #2 -> {my_list[10:100]}')"
      ]
    },
    {
      "cell_type": "markdown",
      "id": "33dbda88",
      "metadata": {
        "id": "33dbda88"
      },
      "source": [
        "#### Q6. If you pass a list to a function, and if you want the function to be able to change the values of the list—so that the list is different after the function returns—what action should you do?\n",
        "**Ans:** Always use **`return`** statement, if we want the see the changes in the input list."
      ]
    },
    {
      "cell_type": "code",
      "execution_count": null,
      "id": "97340aef",
      "metadata": {
        "id": "97340aef",
        "outputId": "d1400ca5-c5a2-4fd8-a86c-8b5da16aa98d"
      },
      "outputs": [
        {
          "name": "stdout",
          "output_type": "stream",
          "text": [
            "[1, 2, 3, 4, 5, 6, 200]\n"
          ]
        }
      ],
      "source": [
        "my_list = [1,2,3,4,5,6]\n",
        "def modify_list(in_list):\n",
        "    in_list.append(200)\n",
        "    return in_list\n",
        "print(modify_list(my_list))"
      ]
    },
    {
      "cell_type": "markdown",
      "id": "6b1caf1f",
      "metadata": {
        "id": "6b1caf1f"
      },
      "source": [
        "#### Q7. What is the concept of an unbalanced matrix?\n",
        "**Ans:** In Unbalanced Matrix number of rows is not same as number of columns."
      ]
    },
    {
      "cell_type": "markdown",
      "id": "95862b0d",
      "metadata": {
        "id": "95862b0d"
      },
      "source": [
        "#### Q8. Why is it necessary to use either list comprehension or a loop to create arbitrarily large matrices?\n",
        "**Ans:**  List comprehension or a Loop helps creation of large matrices easy. it also helps to implemeent and avoid manual errors. it also makes reading code easy. Also lot of time for manual feeding is reduced."
      ]
    }
  ],
  "metadata": {
    "kernelspec": {
      "display_name": "Python 3",
      "language": "python",
      "name": "python3"
    },
    "language_info": {
      "codemirror_mode": {
        "name": "ipython",
        "version": 3
      },
      "file_extension": ".py",
      "mimetype": "text/x-python",
      "name": "python",
      "nbconvert_exporter": "python",
      "pygments_lexer": "ipython3",
      "version": "3.6.13"
    },
    "colab": {
      "provenance": []
    }
  },
  "nbformat": 4,
  "nbformat_minor": 5
}