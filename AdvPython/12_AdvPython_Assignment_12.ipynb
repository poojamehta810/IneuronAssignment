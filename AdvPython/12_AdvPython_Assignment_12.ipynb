{
  "cells": [
    {
      "cell_type": "markdown",
      "id": "b7b2ee9a",
      "metadata": {
        "id": "b7b2ee9a"
      },
      "source": [
        "# Assignment 12 Solutions"
      ]
    },
    {
      "cell_type": "markdown",
      "id": "096440ca",
      "metadata": {
        "id": "096440ca"
      },
      "source": [
        "#### Q1. Does assigning a value to a string's indexed character violate Python's string immutability ?\n",
        "**Ans:**  String’s indexed character cannot to be assigned a New value , as Strings are **immutable.**\n",
        "`Example: `\n",
        "`name = \"Reinforcement\"`\n",
        "`print(id(name)) #73472`\n",
        "`name[0] = \"V\" # Raises TypeError`"
      ]
    },
    {
      "cell_type": "code",
      "source": [
        "name = \"Reinforcement\"\n",
        "print(id(name)) #73472\n",
        "name[0] = \"V\" # Raises TypeError"
      ],
      "metadata": {
        "colab": {
          "base_uri": "https://localhost:8080/",
          "height": 217
        },
        "id": "zjpJKFJsGhhe",
        "outputId": "18b77bc2-6635-4baa-8cb8-b4eea1b4109b"
      },
      "id": "zjpJKFJsGhhe",
      "execution_count": 1,
      "outputs": [
        {
          "output_type": "stream",
          "name": "stdout",
          "text": [
            "140112440339696\n"
          ]
        },
        {
          "output_type": "error",
          "ename": "TypeError",
          "evalue": "ignored",
          "traceback": [
            "\u001b[0;31m---------------------------------------------------------------------------\u001b[0m",
            "\u001b[0;31mTypeError\u001b[0m                                 Traceback (most recent call last)",
            "\u001b[0;32m<ipython-input-1-06b817714934>\u001b[0m in \u001b[0;36m<cell line: 3>\u001b[0;34m()\u001b[0m\n\u001b[1;32m      1\u001b[0m \u001b[0mname\u001b[0m \u001b[0;34m=\u001b[0m \u001b[0;34m\"Reinforcement\"\u001b[0m\u001b[0;34m\u001b[0m\u001b[0;34m\u001b[0m\u001b[0m\n\u001b[1;32m      2\u001b[0m \u001b[0mprint\u001b[0m\u001b[0;34m(\u001b[0m\u001b[0mid\u001b[0m\u001b[0;34m(\u001b[0m\u001b[0mname\u001b[0m\u001b[0;34m)\u001b[0m\u001b[0;34m)\u001b[0m \u001b[0;31m#73472\u001b[0m\u001b[0;34m\u001b[0m\u001b[0;34m\u001b[0m\u001b[0m\n\u001b[0;32m----> 3\u001b[0;31m \u001b[0mname\u001b[0m\u001b[0;34m[\u001b[0m\u001b[0;36m0\u001b[0m\u001b[0;34m]\u001b[0m \u001b[0;34m=\u001b[0m \u001b[0;34m\"V\"\u001b[0m \u001b[0;31m# Raises TypeError\u001b[0m\u001b[0;34m\u001b[0m\u001b[0;34m\u001b[0m\u001b[0m\n\u001b[0m",
            "\u001b[0;31mTypeError\u001b[0m: 'str' object does not support item assignment"
          ]
        }
      ]
    },
    {
      "cell_type": "markdown",
      "id": "b16a1f3f",
      "metadata": {
        "id": "b16a1f3f"
      },
      "source": [
        "#### Q2. Does using the += operator to concatenate strings violate Python's string immutability? Why or why not ?\n",
        "**Ans:**  **`+=`** operator is used to concatenate strings, it does not violate Python’s string immutability Property. Because doing so new creates a new association with data and variable. E.g. `str_1=\"a\"` and `str_1+=\"b`. effect of this statements to create string `ab` and reassign it to variable `str_1`, any string data is not actually modified."
      ]
    },
    {
      "cell_type": "code",
      "execution_count": 2,
      "id": "85e75136",
      "metadata": {
        "id": "85e75136",
        "outputId": "3fc9d58f-7234-4eb1-e21a-d313a69988e4",
        "colab": {
          "base_uri": "https://localhost:8080/"
        }
      },
      "outputs": [
        {
          "output_type": "stream",
          "name": "stdout",
          "text": [
            "140112725589808\n",
            "140112440332976\n"
          ]
        }
      ],
      "source": [
        "str_1 = 'a'\n",
        "print(id(str_1))\n",
        "str_1 += 'b'\n",
        "print(id(str_1)) # Does not Modify existing string, Creates a New String Object"
      ]
    },
    {
      "cell_type": "markdown",
      "id": "76ec588b",
      "metadata": {
        "id": "76ec588b"
      },
      "source": [
        "#### Q3. In Python, how many different ways are there to index a character?\n",
        "**Ans:** A Character in string can be indexed using string name followed by index number of character in square bracket. **Positive Indexing** i.e. first index is 0 an so on, or **Negative Indexing** i.e. last letter is -1 and so on can be used to index a character"
      ]
    },
    {
      "cell_type": "code",
      "execution_count": 3,
      "id": "8b363c3b",
      "metadata": {
        "id": "8b363c3b",
        "outputId": "34023510-69df-44bb-ca94-6608ffed5333",
        "colab": {
          "base_uri": "https://localhost:8080/"
        }
      },
      "outputs": [
        {
          "output_type": "stream",
          "name": "stdout",
          "text": [
            "u l e\n",
            "0 e .\n"
          ]
        }
      ],
      "source": [
        "in_string = \"iNeuron Full Stack Data Science 2.0\"\n",
        "print(in_string[9],in_string[10],in_string[2]) # Positive Indexing\n",
        "print(in_string[-1],in_string[-5],in_string[-2]) # Negative Indexing"
      ]
    },
    {
      "cell_type": "markdown",
      "id": "c3b59e35",
      "metadata": {
        "id": "c3b59e35"
      },
      "source": [
        "#### Q4. What is the relationship between indexing and slicing?\n",
        "**Ans:** We can access elements of sequence datatypes by using slicing and indexing. Indexing is used to obtaining individual element while slicing for sequence of elements."
      ]
    },
    {
      "cell_type": "code",
      "execution_count": 4,
      "id": "1da25970",
      "metadata": {
        "id": "1da25970",
        "outputId": "96f41336-8e9a-4149-aa01-20980dbd8fb0",
        "colab": {
          "base_uri": "https://localhost:8080/"
        }
      },
      "outputs": [
        {
          "output_type": "stream",
          "name": "stdout",
          "text": [
            "N u o\n",
            "Neuron Full St\n"
          ]
        }
      ],
      "source": [
        "in_string = \"iNeuron Full Stack Data Science 2.0\"\n",
        "print(in_string[1],in_string[3],in_string[5]) # Indexing\n",
        "print(in_string[1:15]) # Slicing"
      ]
    },
    {
      "cell_type": "markdown",
      "id": "a942747b",
      "metadata": {
        "id": "a942747b"
      },
      "source": [
        "#### Q5. What is an indexed character's exact data type? What is the data form of a slicing-generated substring?\n",
        "**Ans:** Indexed characters and sliced substrings have datatype **String**."
      ]
    },
    {
      "cell_type": "code",
      "execution_count": 5,
      "id": "20fe9f03",
      "metadata": {
        "id": "20fe9f03",
        "outputId": "24c5837e-de1d-4a66-af4b-91c397859b9f",
        "colab": {
          "base_uri": "https://localhost:8080/"
        }
      },
      "outputs": [
        {
          "output_type": "stream",
          "name": "stdout",
          "text": [
            "<class 'str'>\n",
            "<class 'str'>\n"
          ]
        }
      ],
      "source": [
        "in_string = \"iNeuron Full Stack Data Scienc 2.0\"\n",
        "print(type(in_string[4])) # Indexing -> str\n",
        "print(type(in_string[2:10])) # Indexing -> str"
      ]
    },
    {
      "cell_type": "markdown",
      "id": "2b61703e",
      "metadata": {
        "id": "2b61703e"
      },
      "source": [
        "#### Q6. What is the relationship between string and character \"types\" in Python?\n",
        "**Ans:** Object that contains sequence of character datatypes are called String."
      ]
    },
    {
      "cell_type": "markdown",
      "id": "7c5362fc",
      "metadata": {
        "id": "7c5362fc"
      },
      "source": [
        "#### Q7. Identify at least two operators & one method that allow you to combine one or more smaller strings to create a larger string ?\n",
        "**Ans:** **`+`**, **`+=`** and **`*`** allow to combine one or more smaller strings to create a larger string. **`<string>.join(<sep>)`** method joins element of iterable type like list and tuple to get a combined string."
      ]
    },
    {
      "cell_type": "code",
      "execution_count": 6,
      "id": "064b196f",
      "metadata": {
        "id": "064b196f",
        "outputId": "7e5ae6b2-3f30-4245-91d0-22fb67432b7f",
        "colab": {
          "base_uri": "https://localhost:8080/"
        }
      },
      "outputs": [
        {
          "output_type": "stream",
          "name": "stdout",
          "text": [
            "Machine Learning Full Stack Data Science course FSDS\n",
            "FSDS FSDS FSDS \n",
            "I N E U R O N\n",
            "i n e u r o n\n"
          ]
        }
      ],
      "source": [
        "in_string = 'Machine Learning '\n",
        "in_string += 'Full Stack Data Science course'\n",
        "print(in_string + ' FSDS')\n",
        "print('FSDS '*3)\n",
        "print(\" \".join(['I','N','E','U','R','O','N'])) # List Iterable\n",
        "print(\" \".join(('I','N','E','U','R','O','N')).lower()) # Tuple Iterable"
      ]
    },
    {
      "cell_type": "markdown",
      "id": "f0e842af",
      "metadata": {
        "id": "f0e842af"
      },
      "source": [
        "#### Q8. What is the benefit of first checking the target string with in or not in before using the index method to find a substring ?\n",
        "**Ans:** Checking the target string with **`in`** or **`not`** Operators before using the index method to find a  substring just helps confirming availability of substring and thus avoid raising of **`ValueError.`**\n",
        "**`Example:`**\n",
        "`in_string = \"ineuron\"`\n",
        "`in_string.index('x') # Raises ValueError`\n",
        "`in_string.index('u') # 3`"
      ]
    },
    {
      "cell_type": "markdown",
      "id": "86b6bc76",
      "metadata": {
        "id": "86b6bc76"
      },
      "source": [
        "#### Q9. Which operators and built-in string methods produce simple Boolean (true/false) results?\n",
        "**Ans:** The String Operators and built-in methods to Produce Simple Boolean (True/False) Results are:\n",
        "- **`in`**\n",
        "- **`not`**\n",
        "- **`<string>.isalpha()`**\n",
        "- **`<string>.isalnum()`**\n",
        "- **`<string>.isdecimal()`**\n",
        "- **`<string>.isdigit()`**\n",
        "- **`<string>.islower()`**\n",
        "- **`<string>.isnumeric()`**\n",
        "- **`<string>.isprintable()`**\n",
        "- **`<string>.isspace()`**\n",
        "- **`<string>.istitle()`**"
      ]
    }
  ],
  "metadata": {
    "kernelspec": {
      "display_name": "Python 3",
      "language": "python",
      "name": "python3"
    },
    "language_info": {
      "codemirror_mode": {
        "name": "ipython",
        "version": 3
      },
      "file_extension": ".py",
      "mimetype": "text/x-python",
      "name": "python",
      "nbconvert_exporter": "python",
      "pygments_lexer": "ipython3",
      "version": "3.6.13"
    },
    "colab": {
      "provenance": []
    }
  },
  "nbformat": 4,
  "nbformat_minor": 5
}