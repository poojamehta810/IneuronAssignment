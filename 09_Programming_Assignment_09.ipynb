{
  "cells": [
    {
      "cell_type": "markdown",
      "id": "d0105bec",
      "metadata": {
        "id": "d0105bec"
      },
      "source": [
        "# Assignment 9 Solutions"
      ]
    },
    {
      "cell_type": "markdown",
      "id": "abd957e6",
      "metadata": {
        "id": "abd957e6"
      },
      "source": [
        "#### 1.Write a Python Program to check if the given number is a Disarium Number ?"
      ]
    },
    {
      "cell_type": "code",
      "execution_count": 1,
      "id": "746fd8cb",
      "metadata": {
        "colab": {
          "base_uri": "https://localhost:8080/"
        },
        "id": "746fd8cb",
        "outputId": "2105c244-dab2-4172-9537-25f386374d5f"
      },
      "outputs": [
        {
          "output_type": "stream",
          "name": "stdout",
          "text": [
            "Enter a Number: 175\n",
            "175 is a Disarium Number\n",
            "Enter a Number: 123\n",
            "123 is a Not Disarium Number\n"
          ]
        }
      ],
      "source": [
        "def checkDisariumNumber():\n",
        "    in_num = input('Enter a Number: ')\n",
        "    sum = 0\n",
        "    for item in range(len(in_num)):\n",
        "        sum = sum + int(in_num[item])**(item+1)\n",
        "    if sum == int(in_num):\n",
        "        print(f'{in_num} is a Disarium Number')\n",
        "    else:\n",
        "        print(f'{in_num} is a Not Disarium Number') \n",
        "\n",
        "checkDisariumNumber()\n"
      ]
    },
    {
      "cell_type": "markdown",
      "id": "f11e7cd5",
      "metadata": {
        "id": "f11e7cd5"
      },
      "source": [
        "#### 2.Write a Python Program to print all Disarium numbers between 1 to 100 ?"
      ]
    },
    {
      "cell_type": "code",
      "execution_count": 2,
      "id": "03d9e0f4",
      "metadata": {
        "colab": {
          "base_uri": "https://localhost:8080/"
        },
        "id": "03d9e0f4",
        "outputId": "3d043d5c-e2d3-4500-981c-4150064a1d41"
      },
      "outputs": [
        {
          "output_type": "execute_result",
          "data": {
            "text/plain": [
              "[1, 2, 3, 4, 5, 6, 7, 8, 9, 89]"
            ]
          },
          "metadata": {},
          "execution_count": 2
        }
      ],
      "source": [
        "def printDisariumNumbers(start=0,end=100):\n",
        "    output_num = []\n",
        "    for number in range(start,end+1):\n",
        "        sum = 0\n",
        "        for item in range(len(str(number))):\n",
        "            sum = sum + int(str(number)[item])**(item+1)\n",
        "        if sum == number:\n",
        "            output_num.append(number)\n",
        "    return output_num\n",
        "            \n",
        "        \n",
        "printDisariumNumbers(1,100)"
      ]
    },
    {
      "cell_type": "markdown",
      "id": "a3f58a68",
      "metadata": {
        "id": "a3f58a68"
      },
      "source": [
        "#### 3.Write a Python Program to check if the given number is Happy Number ?"
      ]
    },
    {
      "cell_type": "code",
      "execution_count": 3,
      "id": "28d42beb",
      "metadata": {
        "colab": {
          "base_uri": "https://localhost:8080/"
        },
        "id": "28d42beb",
        "outputId": "06ca3208-15bd-4849-8dc2-89c7bf21e200"
      },
      "outputs": [
        {
          "output_type": "stream",
          "name": "stdout",
          "text": [
            "Enter a Number: 32\n",
            "32 is a Happy Number\n"
          ]
        }
      ],
      "source": [
        "def checkHappyNumber():\n",
        "    in_num = input('Enter a Number: ')\n",
        "    in_num_duplicate = in_num\n",
        "    trackNumber = set()   \n",
        "    while True:\n",
        "        if in_num != '1' and str(in_num) not in trackNumber:\n",
        "            trackNumber.add(in_num)\n",
        "            sum = 0\n",
        "            for ele in range(len((in_num))):\n",
        "                sum = sum + int(in_num[ele])**2\n",
        "            in_num = str(sum)\n",
        "        elif str(in_num) in trackNumber:\n",
        "            print(f'{in_num_duplicate} is not a Happy Number')\n",
        "            break\n",
        "        else:\n",
        "            print(f'{in_num_duplicate} is a Happy Number')\n",
        "            break\n",
        "\n",
        "checkHappyNumber()\n"
      ]
    },
    {
      "cell_type": "markdown",
      "id": "4c5027f6",
      "metadata": {
        "id": "4c5027f6"
      },
      "source": [
        "#### 4.Write a Python Program to print all Happy numbers between 1 and 100 ?"
      ]
    },
    {
      "cell_type": "code",
      "execution_count": 4,
      "id": "a578ab2a",
      "metadata": {
        "colab": {
          "base_uri": "https://localhost:8080/"
        },
        "id": "a578ab2a",
        "outputId": "ce1fc209-128f-4ce8-dbd3-34f048a7d0ee"
      },
      "outputs": [
        {
          "output_type": "stream",
          "name": "stdout",
          "text": [
            "The Happy Numbers between 0 and 100 are [1, 7, 10, 13, 19, 23, 28, 31, 32, 44, 49, 68, 70, 79, 82, 86, 91, 94, 97, 100]\n"
          ]
        }
      ],
      "source": [
        "def checkHappyNumber(start=0,end=100):\n",
        "    happyNumbersList = []\n",
        "    for in_num in range(start,end+1):\n",
        "        in_num = str(in_num)\n",
        "        inum_holder = in_num\n",
        "        trackNumber = set()   \n",
        "        while True:\n",
        "            if in_num != '1' and str(in_num) not in trackNumber:\n",
        "                trackNumber.add(in_num)\n",
        "                sum = 0\n",
        "                for ele in range(len((in_num))):\n",
        "                    sum = sum + int(in_num[ele])**2\n",
        "                in_num = str(sum)\n",
        "            elif str(in_num) in trackNumber:\n",
        "                break\n",
        "            else:\n",
        "                happyNumbersList.append(int(inum_holder))\n",
        "                break\n",
        "    print(f'The Happy Numbers between {start} and {end} are {happyNumbersList}')\n",
        "    \n",
        "checkHappyNumber(0,100)"
      ]
    },
    {
      "cell_type": "markdown",
      "id": "ed74970d",
      "metadata": {
        "id": "ed74970d"
      },
      "source": [
        "#### 5.Write a Python Program to determine whether the given number is a Harshad Number ?"
      ]
    },
    {
      "cell_type": "code",
      "execution_count": 1,
      "id": "c2459d31",
      "metadata": {
        "colab": {
          "base_uri": "https://localhost:8080/"
        },
        "id": "c2459d31",
        "outputId": "80fa841b-b3f7-4baa-933a-f4e211c0d305"
      },
      "outputs": [
        {
          "output_type": "stream",
          "name": "stdout",
          "text": [
            "Enter a Number: 156\n",
            "156 is a Harshad Number\n"
          ]
        }
      ],
      "source": [
        "def checkHarshadNumber():\n",
        "    in_num = input('Enter a Number: ')\n",
        "    sum = 0\n",
        "    for item in range(len(in_num)):\n",
        "        sum = sum + int(in_num[item])\n",
        "    if int(in_num)%sum == 0:\n",
        "        print(f'{in_num} is a Harshad Number')\n",
        "    else:\n",
        "        print(f'{in_num} is a Not Harshad Number')\n",
        "        \n",
        "checkHarshadNumber()\n"
      ]
    },
    {
      "cell_type": "markdown",
      "id": "142b8027",
      "metadata": {
        "id": "142b8027"
      },
      "source": [
        "#### 6.Write a Python Program to print all pronic numbers between 1 and 100 ?"
      ]
    },
    {
      "cell_type": "code",
      "execution_count": 3,
      "id": "dc0b22c6",
      "metadata": {
        "colab": {
          "base_uri": "https://localhost:8080/"
        },
        "id": "dc0b22c6",
        "outputId": "4c204530-1695-4287-afb3-b82fc9d6c74a"
      },
      "outputs": [
        {
          "output_type": "stream",
          "name": "stdout",
          "text": [
            "[2, 6, 12, 20, 30, 42, 56, 72, 90, 110, 132, 156, 182, 210, 240, 272, 306, 342, 380, 420, 462, 506, 552, 600, 650, 702, 756, 812, 870, 930, 992, 1056, 1122, 1190, 1260, 1332, 1406, 1482, 1560, 1640, 1722, 1806, 1892, 1980, 2070, 2162, 2256, 2352, 2450, 2550, 2652, 2756, 2862, 2970, 3080, 3192, 3306, 3422, 3540, 3660, 3782, 3906, 4032, 4160, 4290, 4422, 4556, 4692, 4830, 4970, 5112, 5256, 5402, 5550, 5700, 5852, 6006, 6162, 6320, 6480, 6642, 6806, 6972, 7140, 7310, 7482, 7656, 7832, 8010, 8190, 8372, 8556, 8742, 8930, 9120, 9312, 9506, 9702, 9900, 10100]\n"
          ]
        }
      ],
      "source": [
        "def printPronicNumbers(start=1,end=100):\n",
        "    outputList = []\n",
        "    for ele in range(start,end+1):\n",
        "        outputList.append((ele)*(ele+1))\n",
        "    print(outputList)\n",
        "                   \n",
        "printPronicNumbers()"
      ]
    }
  ],
  "metadata": {
    "kernelspec": {
      "display_name": "Python 3",
      "language": "python",
      "name": "python3"
    },
    "language_info": {
      "codemirror_mode": {
        "name": "ipython",
        "version": 3
      },
      "file_extension": ".py",
      "mimetype": "text/x-python",
      "name": "python",
      "nbconvert_exporter": "python",
      "pygments_lexer": "ipython3",
      "version": "3.8.8"
    },
    "colab": {
      "provenance": []
    }
  },
  "nbformat": 4,
  "nbformat_minor": 5
}