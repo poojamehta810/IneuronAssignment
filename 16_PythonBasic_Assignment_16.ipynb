{
  "cells": [
    {
      "cell_type": "markdown",
      "id": "df944f86",
      "metadata": {
        "id": "df944f86"
      },
      "source": [
        "# Assignment 16 Solutions"
      ]
    },
    {
      "cell_type": "markdown",
      "id": "8b2e208a",
      "metadata": {
        "id": "8b2e208a"
      },
      "source": [
        "#### 1. Create a list called years_list, starting with the year of your birth, and each year thereafter until the year of your fifth birthday. For example, if you were born in 1980. the list would be years_list = [1980, 1981, 1982, 1983, 1984, 1985]."
      ]
    },
    {
      "cell_type": "code",
      "execution_count": 1,
      "id": "f98f2f79",
      "metadata": {
        "colab": {
          "base_uri": "https://localhost:8080/"
        },
        "id": "f98f2f79",
        "outputId": "0ef5b88f-4ee5-413b-c9a9-6215dd97c96b"
      },
      "outputs": [
        {
          "output_type": "stream",
          "name": "stdout",
          "text": [
            "[1985, 1986, 1987, 1988, 1989, 1990]\n"
          ]
        }
      ],
      "source": [
        "years_list = [ele for ele in range(1985,1985+6)]\n",
        "print(years_list)"
      ]
    },
    {
      "cell_type": "markdown",
      "id": "53f11d18",
      "metadata": {
        "id": "53f11d18"
      },
      "source": [
        "#### 2. In which year in years_list was your third birthday? Remember, you were 0 years of age for your first year."
      ]
    },
    {
      "cell_type": "code",
      "execution_count": 2,
      "id": "73ed754a",
      "metadata": {
        "colab": {
          "base_uri": "https://localhost:8080/"
        },
        "id": "73ed754a",
        "outputId": "10e09623-9ced-42c6-e746-3fabf30f8d34"
      },
      "outputs": [
        {
          "output_type": "stream",
          "name": "stdout",
          "text": [
            "1988\n"
          ]
        }
      ],
      "source": [
        "print(years_list[3])"
      ]
    },
    {
      "cell_type": "markdown",
      "id": "75fe5c14",
      "metadata": {
        "id": "75fe5c14"
      },
      "source": [
        "#### 3.In the years list, which year were you the oldest?"
      ]
    },
    {
      "cell_type": "code",
      "execution_count": 3,
      "id": "dbf3bf0e",
      "metadata": {
        "colab": {
          "base_uri": "https://localhost:8080/"
        },
        "id": "dbf3bf0e",
        "outputId": "d0804297-2586-4cd4-b60f-3f8e90beb12e"
      },
      "outputs": [
        {
          "output_type": "stream",
          "name": "stdout",
          "text": [
            "1990\n"
          ]
        }
      ],
      "source": [
        "print(years_list[-1])"
      ]
    },
    {
      "cell_type": "markdown",
      "id": "547d3121",
      "metadata": {
        "id": "547d3121"
      },
      "source": [
        "#### 4. Make a list called things with these three strings as elements: \"mozzarella\", \"cinderella\", \"salmonella\"."
      ]
    },
    {
      "cell_type": "code",
      "execution_count": 4,
      "id": "7d0e9971",
      "metadata": {
        "colab": {
          "base_uri": "https://localhost:8080/"
        },
        "id": "7d0e9971",
        "outputId": "318603b3-345a-4d73-91e8-6202d6362977"
      },
      "outputs": [
        {
          "output_type": "stream",
          "name": "stdout",
          "text": [
            "['mozzarella', 'cinderella', 'salmonella']\n"
          ]
        }
      ],
      "source": [
        "things = [ele+'ella' for ele in ['mozzar','cinder','salmon']]\n",
        "print(things)"
      ]
    },
    {
      "cell_type": "markdown",
      "id": "343162ff",
      "metadata": {
        "id": "343162ff"
      },
      "source": [
        "#### 5. Capitalize the element in things that refers to a person and then print the list. Did it change the element in the list?"
      ]
    },
    {
      "cell_type": "code",
      "execution_count": null,
      "id": "2cb97cb0",
      "metadata": {
        "id": "2cb97cb0",
        "outputId": "2563c331-f78e-4798-df81-bc249dded643"
      },
      "outputs": [
        {
          "name": "stdout",
          "output_type": "stream",
          "text": [
            "['mozzarella', 'Cinderella', 'salmonella']\n"
          ]
        }
      ],
      "source": [
        "for ele in range(len(things)):\n",
        "    if things[ele] == 'cinderella':\n",
        "        things[ele] = things[ele].capitalize()\n",
        "print(things)"
      ]
    },
    {
      "cell_type": "markdown",
      "id": "1a3f12df",
      "metadata": {
        "id": "1a3f12df"
      },
      "source": [
        "#### 6. Make a surprise list with the elements \"Groucho,\" \"Chico,\" and \"Harpo.\""
      ]
    },
    {
      "cell_type": "code",
      "execution_count": 5,
      "id": "2baf9583",
      "metadata": {
        "colab": {
          "base_uri": "https://localhost:8080/"
        },
        "id": "2baf9583",
        "outputId": "507bfdbd-f49f-4f3a-a3ec-1cd24a273246"
      },
      "outputs": [
        {
          "output_type": "stream",
          "name": "stdout",
          "text": [
            "['Groucho', 'Chico', 'Harpo']\n"
          ]
        }
      ],
      "source": [
        "suprise_list = ['Groucho','Chico','Harpo']\n",
        "print(suprise_list)"
      ]
    },
    {
      "cell_type": "markdown",
      "id": "363d3992",
      "metadata": {
        "id": "363d3992"
      },
      "source": [
        "#### 7. Lowercase the last element of the surprise list, reverse it, and then capitalize it."
      ]
    },
    {
      "cell_type": "code",
      "execution_count": null,
      "id": "68e92414",
      "metadata": {
        "id": "68e92414",
        "outputId": "4342a7a3-9e7f-45a9-932f-1946bff4c08f"
      },
      "outputs": [
        {
          "name": "stdout",
          "output_type": "stream",
          "text": [
            "Oprah\n"
          ]
        }
      ],
      "source": [
        "print(suprise_list[-1].lower()[::-1].capitalize())"
      ]
    },
    {
      "cell_type": "markdown",
      "id": "fca0656b",
      "metadata": {
        "id": "fca0656b"
      },
      "source": [
        "#### 8. Make an English-to-French dictionary called e2f and print it. Here are your starter words: dog is chien, cat is chat, and walrus is morse."
      ]
    },
    {
      "cell_type": "code",
      "execution_count": 6,
      "id": "c44ff88e",
      "metadata": {
        "colab": {
          "base_uri": "https://localhost:8080/"
        },
        "id": "c44ff88e",
        "outputId": "f7a2332d-12ff-4fcd-dd63-dad5a7ff735d"
      },
      "outputs": [
        {
          "output_type": "stream",
          "name": "stdout",
          "text": [
            "{'dog': 'chien', 'cat': 'chat', 'walrus': 'morse'}\n"
          ]
        }
      ],
      "source": [
        "e2f = {'dog':'chien','cat':'chat','walrus':'morse'}\n",
        "print(e2f)"
      ]
    },
    {
      "cell_type": "markdown",
      "id": "30528203",
      "metadata": {
        "id": "30528203"
      },
      "source": [
        "#### 9. Write the French word for walrus in your three-word dictionary e2f."
      ]
    },
    {
      "cell_type": "code",
      "execution_count": 9,
      "id": "2f33cb74",
      "metadata": {
        "colab": {
          "base_uri": "https://localhost:8080/"
        },
        "id": "2f33cb74",
        "outputId": "49c06f7b-4e98-4195-8645-da05e67fb042"
      },
      "outputs": [
        {
          "output_type": "stream",
          "name": "stdout",
          "text": [
            "morse\n"
          ]
        }
      ],
      "source": [
        "print(e2f.get('walrus'))\n"
      ]
    },
    {
      "cell_type": "markdown",
      "id": "cd6847c4",
      "metadata": {
        "id": "cd6847c4"
      },
      "source": [
        "#### 10. Make a French-to-English dictionary called f2e from e2f. Use the items method."
      ]
    },
    {
      "cell_type": "code",
      "execution_count": null,
      "id": "36bc927e",
      "metadata": {
        "id": "36bc927e",
        "outputId": "263132b4-e084-4d23-cd9a-a5e0c91f20e6"
      },
      "outputs": [
        {
          "name": "stdout",
          "output_type": "stream",
          "text": [
            "{'chien': 'dog', 'chat': 'cat', 'morse': 'walrus'}\n"
          ]
        }
      ],
      "source": [
        "f2e = dict([ele[::-1] for ele in e2f.items()])\n",
        "print(f2e)"
      ]
    },
    {
      "cell_type": "markdown",
      "id": "5b97492b",
      "metadata": {
        "id": "5b97492b"
      },
      "source": [
        "#### 11. Print the English version of the French word chien using f2e."
      ]
    },
    {
      "cell_type": "code",
      "execution_count": null,
      "id": "491998e7",
      "metadata": {
        "id": "491998e7",
        "outputId": "23aacbb3-7ba6-411e-da4f-9b9f2b43793d"
      },
      "outputs": [
        {
          "name": "stdout",
          "output_type": "stream",
          "text": [
            "dog\n"
          ]
        }
      ],
      "source": [
        "print(f2e.get('chien'))"
      ]
    },
    {
      "cell_type": "markdown",
      "id": "f23702c7",
      "metadata": {
        "id": "f23702c7"
      },
      "source": [
        "#### 12. Make and print a set of English words from the keys in e2f."
      ]
    },
    {
      "cell_type": "code",
      "execution_count": null,
      "id": "87105261",
      "metadata": {
        "id": "87105261",
        "outputId": "d513d4c3-a121-4eb3-fa41-75e45ad5f0db"
      },
      "outputs": [
        {
          "name": "stdout",
          "output_type": "stream",
          "text": [
            "['dog', 'cat', 'walrus']\n"
          ]
        }
      ],
      "source": [
        "print(list(e2f.keys()))"
      ]
    },
    {
      "cell_type": "markdown",
      "id": "4e256021",
      "metadata": {
        "id": "4e256021"
      },
      "source": [
        "#### 13. Make a multilevel dictionary called life. Use these strings for the topmost keys: 'animals', 'plants', and 'other'. Make the 'animals' key refer to another dictionary with the keys 'cats', 'octopi', and 'emus'. Make the 'cats' key refer to a list of strings with the values 'Henri', 'Grumpy', and 'Lucy'. Make all the other keys refer to empty dictionaries."
      ]
    },
    {
      "cell_type": "code",
      "execution_count": 10,
      "id": "7f38dfaf",
      "metadata": {
        "colab": {
          "base_uri": "https://localhost:8080/"
        },
        "id": "7f38dfaf",
        "outputId": "7d94cbc5-6e33-484c-89e1-6259d60a21db"
      },
      "outputs": [
        {
          "output_type": "stream",
          "name": "stdout",
          "text": [
            "{'animals': {'cats': ['Henri', 'Grumpy', 'Lucy'], 'octopi': {}, 'emus': {}}, 'plants': {}, 'other': {}}\n"
          ]
        }
      ],
      "source": [
        "life = {\n",
        "    'animals':{\n",
        "        'cats':['Henri','Grumpy','Lucy'],\n",
        "        'octopi':{},\n",
        "        'emus':{}\n",
        "    },\n",
        "    'plants':{},\n",
        "    'other':{}\n",
        "}\n",
        "print(life)"
      ]
    },
    {
      "cell_type": "markdown",
      "id": "3616f392",
      "metadata": {
        "id": "3616f392"
      },
      "source": [
        "#### 14. Print the top-level keys of life."
      ]
    },
    {
      "cell_type": "code",
      "execution_count": null,
      "id": "035ef2db",
      "metadata": {
        "id": "035ef2db",
        "outputId": "dd6c0394-d694-4078-d958-dafb23a2108a"
      },
      "outputs": [
        {
          "name": "stdout",
          "output_type": "stream",
          "text": [
            "['animals', 'plants', 'other']\n"
          ]
        }
      ],
      "source": [
        "print(list(life.keys()))"
      ]
    },
    {
      "cell_type": "markdown",
      "id": "e1d4ef45",
      "metadata": {
        "id": "e1d4ef45"
      },
      "source": [
        "#### 15. Print the keys for life['animals']."
      ]
    },
    {
      "cell_type": "code",
      "execution_count": null,
      "id": "b05d9f11",
      "metadata": {
        "id": "b05d9f11",
        "outputId": "6943f755-378f-4845-a6c2-c058b7bff5fd"
      },
      "outputs": [
        {
          "name": "stdout",
          "output_type": "stream",
          "text": [
            "['cats', 'octopi', 'emus']\n"
          ]
        }
      ],
      "source": [
        "print(list(life['animals'].keys()))"
      ]
    },
    {
      "cell_type": "markdown",
      "id": "8dfc03a8",
      "metadata": {
        "id": "8dfc03a8"
      },
      "source": [
        "#### 16. Print the values for life['animals']['cats']"
      ]
    },
    {
      "cell_type": "code",
      "execution_count": null,
      "id": "8a2b4b95",
      "metadata": {
        "id": "8a2b4b95",
        "outputId": "089dfe84-b32c-432f-ceef-9c341e1cc7ac"
      },
      "outputs": [
        {
          "name": "stdout",
          "output_type": "stream",
          "text": [
            "['Henri', 'Grumpy', 'Lucy']\n"
          ]
        }
      ],
      "source": [
        "print(life['animals']['cats'])"
      ]
    }
  ],
  "metadata": {
    "kernelspec": {
      "display_name": "Python 3 (ipykernel)",
      "language": "python",
      "name": "python3"
    },
    "language_info": {
      "codemirror_mode": {
        "name": "ipython",
        "version": 3
      },
      "file_extension": ".py",
      "mimetype": "text/x-python",
      "name": "python",
      "nbconvert_exporter": "python",
      "pygments_lexer": "ipython3",
      "version": "3.8.8"
    },
    "colab": {
      "provenance": []
    }
  },
  "nbformat": 4,
  "nbformat_minor": 5
}