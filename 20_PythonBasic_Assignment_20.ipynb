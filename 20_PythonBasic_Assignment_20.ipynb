{
  "cells": [
    {
      "cell_type": "markdown",
      "id": "d09f5fba",
      "metadata": {
        "id": "d09f5fba"
      },
      "source": [
        "# Assignment 20 Solutions"
      ]
    },
    {
      "cell_type": "markdown",
      "id": "94c15b38",
      "metadata": {
        "id": "94c15b38"
      },
      "source": [
        "#### 1. Set the variable test1 to the string 'This is a test of the emergency text system,' and save test1 to a file named test.txt."
      ]
    },
    {
      "cell_type": "code",
      "execution_count": 2,
      "id": "25e840b0",
      "metadata": {
        "id": "25e840b0",
        "outputId": "8a30a660-de17-4106-9786-6c83ceef2765",
        "colab": {
          "base_uri": "https://localhost:8080/"
        }
      },
      "outputs": [
        {
          "output_type": "stream",
          "name": "stdout",
          "text": [
            "This is a test of the emergency text system,\n"
          ]
        }
      ],
      "source": [
        "test1 = 'This is a test of the emergency text system,'\n",
        "print(test1)\n",
        "with open('test.txt','w') as file1:\n",
        "    file1.write(test1)\n",
        "    file1.close()"
      ]
    },
    {
      "cell_type": "code",
      "execution_count": null,
      "id": "43e784ce-0c03-41a0-994f-c20551df74e8",
      "metadata": {
        "id": "43e784ce-0c03-41a0-994f-c20551df74e8",
        "outputId": "acb12e92-7375-4145-9a38-c39c6e7532c0"
      },
      "outputs": [
        {
          "name": "stdout",
          "output_type": "stream",
          "text": [
            "This is a test of the emergency text system,\n"
          ]
        }
      ],
      "source": [
        "# read the contents of test.txt\n",
        "! type test.txt "
      ]
    },
    {
      "cell_type": "markdown",
      "id": "5661169a",
      "metadata": {
        "id": "5661169a"
      },
      "source": [
        "#### 2. Read the contents of the file test.txt into the variable test2. Is there a difference between test 1 and test 2?"
      ]
    },
    {
      "cell_type": "code",
      "execution_count": 3,
      "id": "8b923630",
      "metadata": {
        "id": "8b923630",
        "outputId": "7e761a55-c0fd-4b12-e332-a6268a16ae81",
        "colab": {
          "base_uri": "https://localhost:8080/"
        }
      },
      "outputs": [
        {
          "output_type": "stream",
          "name": "stdout",
          "text": [
            "This is a test of the emergency text system,\n",
            "True\n"
          ]
        }
      ],
      "source": [
        "with open('test.txt','r') as file:\n",
        "    test2 = file.read()\n",
        "    \n",
        "print(test2)   \n",
        "print(test1 == test2)"
      ]
    },
    {
      "cell_type": "markdown",
      "id": "baec82d2",
      "metadata": {
        "id": "baec82d2"
      },
      "source": [
        "#### 3. Create a CSV file called books.csv by using these lines:\n",
        "`title,author,year`  \n",
        "`The Weirdstone of Brisingamen,Alan Garner,1960`  \n",
        "`Perdido Street Station,China Miéville,2000`  \n",
        "`Thud!,Terry Pratchett,2005`  \n",
        "`The Spellman Files,Lisa Lutz,2007`  \n",
        "`Small Gods,Terry Pratchett,1992`"
      ]
    },
    {
      "cell_type": "code",
      "execution_count": 4,
      "id": "5a8b0840",
      "metadata": {
        "id": "5a8b0840"
      },
      "outputs": [],
      "source": [
        "data = '''title,author,year\n",
        "The Weirdstone of Brisingamen,Alan Garner,1960\n",
        "Perdido Street Station,China Miéville,2000\n",
        "Thud!,Terry Pratchett,2005\n",
        "The Spellman Files,Lisa Lutz,2007\n",
        "Small Gods,Terry Pratchett,1992'''\n",
        "\n",
        "with open('books.csv','w') as file:\n",
        "    file.write(data)"
      ]
    },
    {
      "cell_type": "markdown",
      "id": "2182eeba",
      "metadata": {
        "id": "2182eeba"
      },
      "source": [
        "#### 4. Use the sqlite3 module to create a SQLite database called books.db, and a table called books with these fields: title (text), author (text), and year (integer)."
      ]
    },
    {
      "cell_type": "code",
      "execution_count": 8,
      "id": "a184138e",
      "metadata": {
        "id": "a184138e",
        "colab": {
          "base_uri": "https://localhost:8080/"
        },
        "outputId": "88c8bf34-09ba-4765-dd33-fd80308002c5"
      },
      "outputs": [
        {
          "output_type": "execute_result",
          "data": {
            "text/plain": [
              "<sqlite3.Cursor at 0x7fc91820d0c0>"
            ]
          },
          "metadata": {},
          "execution_count": 8
        }
      ],
      "source": [
        "import sqlite3\n",
        "db = sqlite3.connect('books.db')\n",
        "curs = db.cursor()\n",
        "curs.execute('''create table book (title text, author text, year int)''')"
      ]
    },
    {
      "cell_type": "markdown",
      "id": "eb7f88c5",
      "metadata": {
        "id": "eb7f88c5"
      },
      "source": [
        "#### 5. Read books.csv and insert its data into the books table."
      ]
    },
    {
      "cell_type": "code",
      "execution_count": 9,
      "id": "59e71d93",
      "metadata": {
        "id": "59e71d93"
      },
      "outputs": [],
      "source": [
        "import sqlite3\n",
        "import csv\n",
        "conn = sqlite3.connect(\"books.db\")\n",
        "cursor = conn.cursor()\n",
        "with open(\"books.csv\",\"r\") as file:\n",
        "    books = csv.DictReader(file)\n",
        "    for book in books:\n",
        "        cursor.execute(\"INSERT INTO books VALUES (?,?,?)\",(book['title'],book['author'],book['year']))\n",
        "conn.commit()\n",
        "conn.close()"
      ]
    },
    {
      "cell_type": "markdown",
      "id": "023dce44",
      "metadata": {
        "id": "023dce44"
      },
      "source": [
        "#### 6. Select and print the title column from the books table in alphabetical order."
      ]
    },
    {
      "cell_type": "code",
      "execution_count": 10,
      "id": "a2be54a2",
      "metadata": {
        "id": "a2be54a2",
        "outputId": "29183741-b6d8-4c34-82b3-7bd4be5438dc",
        "colab": {
          "base_uri": "https://localhost:8080/"
        }
      },
      "outputs": [
        {
          "output_type": "stream",
          "name": "stdout",
          "text": [
            "Perdido Street Station\n",
            "Small Gods\n",
            "The Spellman Files\n",
            "The Weirdstone of Brisingamen\n",
            "Thud!\n"
          ]
        }
      ],
      "source": [
        "import sqlite3\n",
        "conn = sqlite3.connect('books.db')\n",
        "cursor = conn.cursor()\n",
        "output = cursor.execute(\"SELECT title FROM books ORDER BY title ASC\")\n",
        "for ele in output:\n",
        "    print(ele[0])\n",
        "conn.commit()\n",
        "conn.close()"
      ]
    },
    {
      "cell_type": "markdown",
      "id": "d9c960c1",
      "metadata": {
        "id": "d9c960c1"
      },
      "source": [
        "#### 7. From the books table, select and print all columns in the order of publication."
      ]
    },
    {
      "cell_type": "code",
      "execution_count": null,
      "id": "dc95077c",
      "metadata": {
        "id": "dc95077c",
        "outputId": "9fa33565-dc7a-488e-cb74-1e76a7a101be"
      },
      "outputs": [
        {
          "name": "stdout",
          "output_type": "stream",
          "text": [
            "('The Weirdstone of Brisingamen', 'Alan Garner', 1960)\n",
            "('Small Gods', 'Terry Pratchett', 1992)\n",
            "('Perdido Street Station', 'China Miéville', 2000)\n",
            "('Thud!', 'Terry Pratchett', 2005)\n",
            "('The Spellman Files', 'Lisa Lutz', 2007)\n"
          ]
        }
      ],
      "source": [
        "import sqlite3\n",
        "conn = sqlite3.connect('books.db')\n",
        "cursor = conn.cursor()\n",
        "ouput = cursor.execute(\"SELECT * FROM books ORDER BY year\")\n",
        "for record in ouput:\n",
        "    print(record)"
      ]
    },
    {
      "cell_type": "markdown",
      "id": "f3ec47e1",
      "metadata": {
        "id": "f3ec47e1"
      },
      "source": [
        "#### 8. Use the sqlalchemy module to connect to the sqlite3 database books.db that you just made in exercise 6."
      ]
    },
    {
      "cell_type": "code",
      "execution_count": null,
      "id": "63a761be",
      "metadata": {
        "id": "63a761be",
        "outputId": "e06fb810-371c-4d72-8fbd-294c9dbd0bf8"
      },
      "outputs": [
        {
          "data": {
            "text/plain": [
              "Engine(sqlite:///books.db)"
            ]
          },
          "execution_count": 9,
          "metadata": {},
          "output_type": "execute_result"
        }
      ],
      "source": [
        "import sqlalchemy\n",
        "conn = sqlalchemy.create_engine('sqlite:///books.db')\n",
        "conn"
      ]
    },
    {
      "cell_type": "markdown",
      "id": "405ddc1f",
      "metadata": {
        "id": "405ddc1f"
      },
      "source": [
        "#### 9. Install the Redis server and the Python redis library (pip install redis) on your computer. Create a Redis hash called test with the fields count (1) and name ('Fester Bestertester'). Print all the fields for test."
      ]
    },
    {
      "cell_type": "code",
      "execution_count": null,
      "id": "4650d673",
      "metadata": {
        "id": "4650d673",
        "outputId": "0da2159f-bfdf-479c-8a6c-626a30b57f42"
      },
      "outputs": [
        {
          "name": "stdout",
          "output_type": "stream",
          "text": [
            "Requirement already satisfied: redis in c:\\programdata\\anaconda3\\lib\\site-packages (3.5.3)\n"
          ]
        }
      ],
      "source": [
        "! python -m pip install redis"
      ]
    },
    {
      "cell_type": "code",
      "execution_count": null,
      "id": "4e5ccdf0",
      "metadata": {
        "id": "4e5ccdf0"
      },
      "outputs": [],
      "source": [
        "import redis\n",
        "conn = redis.Redis()\n",
        "conn.hset('test',{\n",
        "    'count':1,\n",
        "    'name':'Fester Bestertester'\n",
        "})\n",
        "conn.hgetall('test')"
      ]
    },
    {
      "cell_type": "markdown",
      "id": "2c69b326",
      "metadata": {
        "id": "2c69b326"
      },
      "source": [
        "#### 10. Increment the count field of test and print it."
      ]
    },
    {
      "cell_type": "code",
      "execution_count": null,
      "id": "07a3b052",
      "metadata": {
        "id": "07a3b052",
        "outputId": "a5abde4e-ab8a-4b3f-b57a-1214ff96bb72"
      },
      "outputs": [
        {
          "data": {
            "text/plain": [
              "b'13'"
            ]
          },
          "execution_count": 14,
          "metadata": {},
          "output_type": "execute_result"
        }
      ],
      "source": [
        "conn.hincrby('test', 'count', 1)\n",
        "conn.hget('test', 'count')"
      ]
    }
  ],
  "metadata": {
    "kernelspec": {
      "display_name": "Python 3",
      "language": "python",
      "name": "python3"
    },
    "language_info": {
      "codemirror_mode": {
        "name": "ipython",
        "version": 3
      },
      "file_extension": ".py",
      "mimetype": "text/x-python",
      "name": "python",
      "nbconvert_exporter": "python",
      "pygments_lexer": "ipython3",
      "version": "3.8.8"
    },
    "colab": {
      "provenance": []
    }
  },
  "nbformat": 4,
  "nbformat_minor": 5
}