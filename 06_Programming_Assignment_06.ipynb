{
  "cells": [
    {
      "cell_type": "markdown",
      "id": "0a66efc2",
      "metadata": {
        "id": "0a66efc2"
      },
      "source": [
        "# Assignment 6 Solutions"
      ]
    },
    {
      "cell_type": "markdown",
      "id": "cd035ec4",
      "metadata": {
        "id": "cd035ec4"
      },
      "source": [
        "#### 1. Write a Python Program to Display Fibonacci Sequence using Recursion ?"
      ]
    },
    {
      "cell_type": "code",
      "execution_count": 2,
      "id": "c6a0db1b",
      "metadata": {
        "colab": {
          "base_uri": "https://localhost:8080/"
        },
        "id": "c6a0db1b",
        "outputId": "646921e8-4ad1-4ce9-c746-2d127dfb435f"
      },
      "outputs": [
        {
          "output_type": "stream",
          "name": "stdout",
          "text": [
            "Enter the length of Series: 5\n",
            "0, 1, 3, 5, 8, 13, 21, "
          ]
        }
      ],
      "source": [
        "def Fibonacci(n,a,b):\n",
        "    if n == 0:\n",
        "        return 1\n",
        "    else:\n",
        "        result = a+b\n",
        "        print(result, end=', ')\n",
        "        Fibonacci(n-1,b,result)\n",
        "in_num = int(input('Enter the length of Series: '))\n",
        "print('0, 1',end=', ')\n",
        "4Fibonacci(in_num,1,2)"
      ]
    },
    {
      "cell_type": "markdown",
      "id": "15b838c7",
      "metadata": {
        "id": "15b838c7"
      },
      "source": [
        "#### 2. Write a Python Program to Find Factorial of a Number using Recursion ?"
      ]
    },
    {
      "cell_type": "code",
      "execution_count": null,
      "id": "56e04b25",
      "metadata": {
        "id": "56e04b25",
        "outputId": "9163d1a2-eec7-4deb-9c8a-c30ab71558f7"
      },
      "outputs": [
        {
          "name": "stdout",
          "output_type": "stream",
          "text": [
            "Enter a number: 5\n",
            "The Factorial of 5 is 120\n"
          ]
        }
      ],
      "source": [
        "def factorial(num):\n",
        "    if (num < 1):\n",
        "        return 1\n",
        "    else:\n",
        "        return num*factorial(num-1)\n",
        "num = int(input('Enter a number: '))\n",
        "value = factorial(num)\n",
        "print(f'The Factorial of {num} is {value}')"
      ]
    },
    {
      "cell_type": "markdown",
      "id": "95f7ab1e",
      "metadata": {
        "id": "95f7ab1e"
      },
      "source": [
        "#### 3. Write a Python Program to Calculate your Body Mass Index ?"
      ]
    },
    {
      "cell_type": "code",
      "execution_count": 3,
      "id": "8e0c3d17",
      "metadata": {
        "colab": {
          "base_uri": "https://localhost:8080/"
        },
        "id": "8e0c3d17",
        "outputId": "d13e8e03-49b1-4f8e-89c3-49db773f1e86"
      },
      "outputs": [
        {
          "output_type": "stream",
          "name": "stdout",
          "text": [
            "Enter your Weight(kgs): 65\n",
            "Enter your Height(mts): 1.67\n",
            "Your're BMI is 23.306680053067517 and status is Healthy \n"
          ]
        }
      ],
      "source": [
        "\n",
        "    in_weight = eval(input('Enter your Weight(kgs): '))\n",
        "    in_height = eval(input('Enter your Height(mts): '))\n",
        "    calc_bmi = in_weight/pow(in_height,2)\n",
        "    if (calc_bmi < 18.5):\n",
        "        status = 'Underweight'\n",
        "    elif (calc_bmi >= 18.5 and calc_bmi < 24.9):\n",
        "        status = 'Healthy'\n",
        "    elif (calc_bmi >= 24.9 and calc_bmi < 30):\n",
        "        status = 'Overweight'\n",
        "    elif (calc_bmi >=30):\n",
        "        status = 'Suffering from Obesity'\n",
        "    print(f'Your\\'re BMI is {calc_bmi} and status is {status} ')\n"
      ]
    },
    {
      "cell_type": "markdown",
      "id": "8be593fe",
      "metadata": {
        "id": "8be593fe"
      },
      "source": [
        "#### 4. Write a Python Program to Calculate the Natural Logarithm of any Number ?"
      ]
    },
    {
      "cell_type": "code",
      "execution_count": 4,
      "id": "e1db8d0f",
      "metadata": {
        "colab": {
          "base_uri": "https://localhost:8080/"
        },
        "id": "e1db8d0f",
        "outputId": "5cf8265f-614c-4f29-9428-195b29164ed2"
      },
      "outputs": [
        {
          "output_type": "stream",
          "name": "stdout",
          "text": [
            "Enter a Number:5\n",
            "1.6094379124341003\n"
          ]
        }
      ],
      "source": [
        "import math\n",
        "\n",
        "in_num = eval(input(\"Enter a Number:\"))\n",
        "print(math.log(in_num))\n",
        "\n"
      ]
    },
    {
      "cell_type": "markdown",
      "id": "5dc827ea",
      "metadata": {
        "id": "5dc827ea"
      },
      "source": [
        "#### 5. Write a Python Program for Cube sum of first n Natural Numbers ?"
      ]
    },
    {
      "cell_type": "code",
      "execution_count": 5,
      "id": "70a3a203",
      "metadata": {
        "colab": {
          "base_uri": "https://localhost:8080/"
        },
        "id": "70a3a203",
        "outputId": "c3756f1f-4319-47d0-affd-0fcc379976df"
      },
      "outputs": [
        {
          "output_type": "stream",
          "name": "stdout",
          "text": [
            "Enter the no of Natural Numbers: 5\n",
            "The Cube Sum of First 5 Natural Numbers is 225.0\n"
          ]
        }
      ],
      "source": [
        "in_num = int(input(\"Enter the no of Natural Numbers: \"))\n",
        "result = pow(((in_num * (in_num +1))/2),2)\n",
        "print(f'The Cube Sum of First {in_num} Natural Numbers is {result}')\n"
      ]
    }
  ],
  "metadata": {
    "kernelspec": {
      "display_name": "Python 3",
      "language": "python",
      "name": "python3"
    },
    "language_info": {
      "codemirror_mode": {
        "name": "ipython",
        "version": 3
      },
      "file_extension": ".py",
      "mimetype": "text/x-python",
      "name": "python",
      "nbconvert_exporter": "python",
      "pygments_lexer": "ipython3",
      "version": "3.8.8"
    },
    "colab": {
      "provenance": []
    }
  },
  "nbformat": 4,
  "nbformat_minor": 5
}