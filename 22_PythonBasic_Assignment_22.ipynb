{
  "cells": [
    {
      "cell_type": "markdown",
      "id": "80a0e3c4",
      "metadata": {
        "id": "80a0e3c4"
      },
      "source": [
        "# Assignment 22 Solutions"
      ]
    },
    {
      "cell_type": "markdown",
      "id": "a091ea5b",
      "metadata": {
        "id": "a091ea5b"
      },
      "source": [
        "#### 1. What is the result of the code, and explain?\n",
        "`>>> X = 'iNeuron'`  \n",
        "`>>> def func():`  \n",
        "`    print(X)`  \n",
        "`>>> func()`  \n",
        "**Ans:** The Result of this code is `iNeuron`. The global variables are accessible inside the functions in python.But we can not access function variable outside function. Since x is global variable we are able to print it inside the function solution : 'iNeuron'"
      ]
    },
    {
      "cell_type": "code",
      "execution_count": 1,
      "id": "ee98b909",
      "metadata": {
        "colab": {
          "base_uri": "https://localhost:8080/"
        },
        "id": "ee98b909",
        "outputId": "197d0169-6d7b-4a73-bd6a-6ab50233d498"
      },
      "outputs": [
        {
          "output_type": "stream",
          "name": "stdout",
          "text": [
            "iNeuron\n"
          ]
        }
      ],
      "source": [
        "X = 'iNeuron'\n",
        "def func():\n",
        "    print(X)\n",
        "func()"
      ]
    },
    {
      "cell_type": "markdown",
      "id": "ef65e0b3",
      "metadata": {
        "id": "ef65e0b3"
      },
      "source": [
        "#### 2. What is the result of the code, and explain?\n",
        "`>>> X = 'iNeuron'`  \n",
        "`>>> def func():`  \n",
        "`X = 'NI!'`  \n",
        "`>>> func()`  \n",
        "`>>> print(X)`  \n",
        "**Ans:** The Result of this cide is `NI!`, because the function initially looks for the variable `X` in its local scope if `X` is not available then it checks for variable `X` in the global scope, Since here the `X` is present in the local scope. it prints the value `NI!`"
      ]
    },
    {
      "cell_type": "code",
      "execution_count": 2,
      "id": "8f219394",
      "metadata": {
        "colab": {
          "base_uri": "https://localhost:8080/"
        },
        "id": "8f219394",
        "outputId": "60e986c7-1e86-40b1-f2f1-d2b4705cd4a1"
      },
      "outputs": [
        {
          "output_type": "stream",
          "name": "stdout",
          "text": [
            "NI!\n"
          ]
        }
      ],
      "source": [
        "X = 'iNeuron'\n",
        "def func():\n",
        "    X = 'NI!'\n",
        "    print(X)\n",
        "func()"
      ]
    },
    {
      "cell_type": "markdown",
      "id": "952c9d0e",
      "metadata": {
        "id": "952c9d0e"
      },
      "source": [
        "#### 3. What does this code print, and why?\n",
        "`>>> X = 'iNeuron'`  \n",
        "`>>> def func():`  \n",
        "`X = 'NI'`  \n",
        "`print(X)`  \n",
        "`>>> func()`  \n",
        "`>>> print(X)`   \n",
        "**Ans:** The output of the code is `NI` and `iNeuron`. `X=NI` is in the local scope of the function `func()` hence the function prints the x value as  `NI`.  `X = 'iNeuron'` is in the global scope. hence `print(X)` prints output as `iNeuron`"
      ]
    },
    {
      "cell_type": "code",
      "execution_count": null,
      "id": "cabebabc",
      "metadata": {
        "id": "cabebabc",
        "outputId": "513199eb-12dc-4523-f227-c5d5070e49b2"
      },
      "outputs": [
        {
          "name": "stdout",
          "output_type": "stream",
          "text": [
            "NI\n",
            "iNeuron\n"
          ]
        }
      ],
      "source": [
        "X = 'iNeuron'\n",
        "def func():\n",
        "    X = 'NI'\n",
        "    print(X)\n",
        "func()\n",
        "print(X)"
      ]
    },
    {
      "cell_type": "markdown",
      "id": "905d8b7b",
      "metadata": {
        "id": "905d8b7b"
      },
      "source": [
        "#### 4. What output does this code produce? Why?\n",
        "`>>> X = 'iNeuron'`   \n",
        "`>>> def func():`   \n",
        "`global X`   \n",
        "`X = 'NI'`   \n",
        "`>>> func()`   \n",
        "`>>> print(X)`   \n",
        "**Ans:** The output of the code is `NI`. the `global` keyword allows a variable to be accessible in the current scope. since we are using global keyword inside the function `func` it directly access the variable in `X` in global scope. and changes its value to `NI`. hence the output of the code is `NI`"
      ]
    },
    {
      "cell_type": "code",
      "execution_count": 3,
      "id": "64e260a6",
      "metadata": {
        "colab": {
          "base_uri": "https://localhost:8080/"
        },
        "id": "64e260a6",
        "outputId": "c8a9d7cc-d272-4fc1-c97e-ee3af78b41c9"
      },
      "outputs": [
        {
          "output_type": "stream",
          "name": "stdout",
          "text": [
            "NI\n"
          ]
        }
      ],
      "source": [
        "X = 'iNeuron'\n",
        "def func():\n",
        "    global X\n",
        "    X = 'NI'\n",
        "func()\n",
        "print(X)"
      ]
    },
    {
      "cell_type": "markdown",
      "id": "1c755c9f",
      "metadata": {
        "id": "1c755c9f"
      },
      "source": [
        "#### 5. What about this code—what’s the output, and why?\n",
        "`>>> X = 'iNeuron'`   \n",
        "`>>> def func():`   \n",
        "`X = 'NI'`   \n",
        "`def nested():`   \n",
        "`print(X)`   \n",
        "`nested()`   \n",
        "`>>> func()`   \n",
        "`>>> X`   \n",
        "**Ans:** The output of the code is `NI`. the reason for this output is if a function wants to access a variable, if its not available in its localscope. it looks for the variable in its global scope. similarly here also function `nested` looks for variable `X` in its global scope. hence the output of the code is `NI`"
      ]
    },
    {
      "cell_type": "code",
      "execution_count": 4,
      "id": "9fd84bb5",
      "metadata": {
        "colab": {
          "base_uri": "https://localhost:8080/",
          "height": 53
        },
        "id": "9fd84bb5",
        "outputId": "5a993377-32f3-4af3-ccfd-dc337049f029"
      },
      "outputs": [
        {
          "output_type": "stream",
          "name": "stdout",
          "text": [
            "NI\n"
          ]
        },
        {
          "output_type": "execute_result",
          "data": {
            "text/plain": [
              "'iNeuron'"
            ],
            "application/vnd.google.colaboratory.intrinsic+json": {
              "type": "string"
            }
          },
          "metadata": {},
          "execution_count": 4
        }
      ],
      "source": [
        "X = 'iNeuron'\n",
        "def func():\n",
        "    X = 'NI'\n",
        "    def nested():\n",
        "        print(X)\n",
        "    nested()\n",
        "func()\n",
        "X"
      ]
    },
    {
      "cell_type": "markdown",
      "id": "f8c745c5",
      "metadata": {
        "id": "f8c745c5"
      },
      "source": [
        "#### 6. How about this code: what is its output in Python 3, and explain?\n",
        "`>>> def func():`  \n",
        "`X = 'NI'`  \n",
        "`def nested():`  \n",
        "`nonlocal X`  \n",
        "`X = 'Spam'`  \n",
        "`nested()`  \n",
        "`print(X)`  \n",
        "`>>> func()`  \n",
        "**Ans:** Nonlocal variables are used in nested functions whose local scope is not defined. This means that the variable can be neither in the local nor the global scope. it print the updated value from nested function."
      ]
    },
    {
      "cell_type": "code",
      "execution_count": 5,
      "id": "9fab6b46",
      "metadata": {
        "colab": {
          "base_uri": "https://localhost:8080/"
        },
        "id": "9fab6b46",
        "outputId": "c9bae5b3-ad6b-44ce-ce33-ec7610f67c28"
      },
      "outputs": [
        {
          "output_type": "stream",
          "name": "stdout",
          "text": [
            "Spam\n"
          ]
        }
      ],
      "source": [
        "def func():\n",
        "    X = 'NI'\n",
        "    def nested():\n",
        "        nonlocal X\n",
        "        X = 'Spam'\n",
        "    nested()\n",
        "    print(X)\n",
        "func()"
      ]
    }
  ],
  "metadata": {
    "kernelspec": {
      "display_name": "Python 3",
      "language": "python",
      "name": "python3"
    },
    "language_info": {
      "codemirror_mode": {
        "name": "ipython",
        "version": 3
      },
      "file_extension": ".py",
      "mimetype": "text/x-python",
      "name": "python",
      "nbconvert_exporter": "python",
      "pygments_lexer": "ipython3",
      "version": "3.8.8"
    },
    "colab": {
      "provenance": []
    }
  },
  "nbformat": 4,
  "nbformat_minor": 5
}