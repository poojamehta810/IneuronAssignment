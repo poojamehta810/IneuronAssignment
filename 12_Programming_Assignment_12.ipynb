{
  "cells": [
    {
      "cell_type": "markdown",
      "id": "b1d78136",
      "metadata": {
        "id": "b1d78136"
      },
      "source": [
        "# Assignment 12 Solutions"
      ]
    },
    {
      "cell_type": "markdown",
      "id": "47588382",
      "metadata": {
        "id": "47588382"
      },
      "source": [
        "#### 1.Write a Python program to Extract Unique values dictionary values?"
      ]
    },
    {
      "cell_type": "code",
      "source": [],
      "metadata": {
        "id": "2wYvEw7GIgKF"
      },
      "id": "2wYvEw7GIgKF",
      "execution_count": null,
      "outputs": []
    },
    {
      "cell_type": "code",
      "execution_count": 2,
      "id": "8cfece02",
      "metadata": {
        "colab": {
          "base_uri": "https://localhost:8080/"
        },
        "id": "8cfece02",
        "outputId": "dd340d38-6f81-481a-ed1c-d5492ac79f43"
      },
      "outputs": [
        {
          "output_type": "stream",
          "name": "stdout",
          "text": [
            "dict_values(['China', 'Japan', 'Hongkong', 'Russia', 'USA', 'India', 'Singapore'])\n",
            "Unique Values: ['Japan', 'India', 'China', 'Hongkong', 'Singapore', 'USA', 'Russia']\n"
          ]
        }
      ],
      "source": [
        "in_dict = {1:'China',2:'Japan',3:'Hongkong',4:'Russia',5:'USA',6:'India',7:'Singapore'}\n",
        "print(in_dict.values())\n",
        "print(f'Unique Values: {list(set(in_dict.values()))}')"
      ]
    },
    {
      "cell_type": "markdown",
      "id": "3cfcbbc9",
      "metadata": {
        "id": "3cfcbbc9"
      },
      "source": [
        "#### 2.Write a Python program to find the sum of all items in a dictionary?"
      ]
    },
    {
      "cell_type": "code",
      "execution_count": 3,
      "id": "33738c60",
      "metadata": {
        "colab": {
          "base_uri": "https://localhost:8080/"
        },
        "id": "33738c60",
        "outputId": "cc6b2f56-4cf3-4af5-ffad-231963ea435e"
      },
      "outputs": [
        {
          "output_type": "stream",
          "name": "stdout",
          "text": [
            "Sum of All items:  120\n"
          ]
        }
      ],
      "source": [
        "in_dict = {'Pencil':10,'Eraser':20,'Scale':30,'Sharpner':40,'Pen':20}\n",
        "print('Sum of All items: ',sum(in_dict.values()))"
      ]
    },
    {
      "cell_type": "markdown",
      "id": "5e26e96b",
      "metadata": {
        "id": "5e26e96b"
      },
      "source": [
        "#### 3.Write a Python program to Merging two Dictionaries?"
      ]
    },
    {
      "cell_type": "code",
      "execution_count": 4,
      "id": "059056dd",
      "metadata": {
        "colab": {
          "base_uri": "https://localhost:8080/"
        },
        "id": "059056dd",
        "outputId": "723ebec8-612a-4357-e444-08aabdaad9f0"
      },
      "outputs": [
        {
          "output_type": "stream",
          "name": "stdout",
          "text": [
            "{'cousre_name': 'Ineuron Data Science', 'course_instructors': ['Sunny Savita', 'Krish Naik']}\n"
          ]
        }
      ],
      "source": [
        "course_details = {\n",
        "    'cousre_name':'Ineuron Data Science'\n",
        "}\n",
        "instructors = {\n",
        "    'course_instructors':['Sunny Savita','Krish Naik']\n",
        "}\n",
        "course_details.update(instructors)\n",
        "print(course_details)"
      ]
    },
    {
      "cell_type": "markdown",
      "id": "ea32cefe",
      "metadata": {
        "id": "ea32cefe"
      },
      "source": [
        "#### 4.Write a Python program to convert key-values list to flat dictionary?"
      ]
    },
    {
      "cell_type": "code",
      "execution_count": 5,
      "id": "55139b2d",
      "metadata": {
        "colab": {
          "base_uri": "https://localhost:8080/"
        },
        "id": "55139b2d",
        "outputId": "d593de3c-c404-46c8-c32e-ccfddce0ebac"
      },
      "outputs": [
        {
          "output_type": "execute_result",
          "data": {
            "text/plain": [
              "{'A': 10,\n",
              " 'B': 20,\n",
              " 'C': 30,\n",
              " 'D': 40,\n",
              " 'E': 50,\n",
              " 'F': 60,\n",
              " 'G': 70,\n",
              " 'H': 80,\n",
              " 'I': 90,\n",
              " 'J': 100}"
            ]
          },
          "metadata": {},
          "execution_count": 5
        }
      ],
      "source": [
        "in_list = [('A',10),('B',20),('C',30),('D',40),('E',50),('F',60),('G',70),('H',80),('I',90),('J',100)]\n",
        "\n",
        "dict(in_list)\n",
        "\n"
      ]
    },
    {
      "cell_type": "markdown",
      "id": "e945b1cf",
      "metadata": {
        "id": "e945b1cf"
      },
      "source": [
        "#### 5.Write a Python program to insertion at the beginning in OrderedDict?"
      ]
    },
    {
      "cell_type": "code",
      "execution_count": null,
      "id": "b28845f5",
      "metadata": {
        "id": "b28845f5",
        "outputId": "f8da5fdd-8a62-49a4-ee6d-b644c19013ef"
      },
      "outputs": [
        {
          "name": "stdout",
          "output_type": "stream",
          "text": [
            "dict_one OrderedDict([('Apple', 'Iphone'), ('Microsoft', 'Windows'), ('Google', 'chrome')])\n",
            "dict_one OrderedDict([('Apple', 'Iphone'), ('Microsoft', 'Windows'), ('Google', 'chrome'), ('Tesla', 'SpaceX')])\n",
            "dict_one OrderedDict([('Tesla', 'SpaceX'), ('Apple', 'Iphone'), ('Microsoft', 'Windows'), ('Google', 'chrome')])\n"
          ]
        }
      ],
      "source": [
        "from collections import OrderedDict\n",
        "dict_one = OrderedDict({'Apple':'Iphone','Microsoft':'Windows','Google':'chrome'})\n",
        "print('dict_one',dict_one)\n",
        "dict_two = {'Tesla':'SpaceX'}\n",
        "dict_one.update(dict_two)\n",
        "print('dict_one',dict_one)\n",
        "dict_one.move_to_end('Tesla',last=False)\n",
        "print('dict_one',dict_one)"
      ]
    },
    {
      "cell_type": "markdown",
      "id": "a67da729",
      "metadata": {
        "id": "a67da729"
      },
      "source": [
        "#### 6.Write a Python program to check order of character in string using OrderedDict()?"
      ]
    },
    {
      "cell_type": "code",
      "execution_count": 6,
      "id": "cc023a52",
      "metadata": {
        "colab": {
          "base_uri": "https://localhost:8080/"
        },
        "id": "cc023a52",
        "outputId": "b772c34b-0ca0-441b-e178-f1ef97a7a339"
      },
      "outputs": [
        {
          "output_type": "stream",
          "name": "stdout",
          "text": [
            "{'m': 1000, 'n': 200, 'a': 300, 'c': 400, 'b': 500, 'e': 600}\n",
            "OrderedDict([('a', 300), ('b', 500), ('c', 400), ('e', 600), ('m', 1000), ('n', 200)])\n"
          ]
        }
      ],
      "source": [
        "from collections import OrderedDict\n",
        "\n",
        "initial_list = {'m': 1000, 'n': 200, 'a': 300, 'c': 400, 'b': 500, 'e': 600}\n",
        "print(initial_list)\n",
        "\n",
        "final_list = OrderedDict(dict(sorted(initial_list.items())))\n",
        "print(final_list)"
      ]
    },
    {
      "cell_type": "markdown",
      "id": "00e77a00",
      "metadata": {
        "id": "00e77a00"
      },
      "source": [
        "#### 7.Write a Python program to sort Python Dictionaries by Key or Value?"
      ]
    },
    {
      "cell_type": "code",
      "execution_count": 7,
      "id": "799ba84a",
      "metadata": {
        "colab": {
          "base_uri": "https://localhost:8080/"
        },
        "id": "799ba84a",
        "outputId": "6a83715e-2409-4629-cac8-92d062236980"
      },
      "outputs": [
        {
          "output_type": "stream",
          "name": "stdout",
          "text": [
            "{'Mahir': 29, 'Manya': 15, 'Parth': 32, 'Pooja': 12, 'yash': 2}\n"
          ]
        }
      ],
      "source": [
        "\n",
        "myDict = {'Pooja': 12, 'Mahir': 29,\n",
        "        'Manya': 15, 'yash': 2, 'Parth': 32}\n",
        " \n",
        "myKeys = list(myDict.keys())\n",
        "myKeys.sort()\n",
        "sorted_dict = {i: myDict[i] for i in myKeys}\n",
        " \n",
        "print(sorted_dict)"
      ]
    }
  ],
  "metadata": {
    "kernelspec": {
      "display_name": "Python 3 (ipykernel)",
      "language": "python",
      "name": "python3"
    },
    "language_info": {
      "codemirror_mode": {
        "name": "ipython",
        "version": 3
      },
      "file_extension": ".py",
      "mimetype": "text/x-python",
      "name": "python",
      "nbconvert_exporter": "python",
      "pygments_lexer": "ipython3",
      "version": "3.8.8"
    },
    "colab": {
      "provenance": []
    }
  },
  "nbformat": 4,
  "nbformat_minor": 5
}