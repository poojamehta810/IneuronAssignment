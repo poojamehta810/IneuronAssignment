{
  "cells": [
    {
      "cell_type": "markdown",
      "id": "372ee7a9",
      "metadata": {
        "id": "372ee7a9"
      },
      "source": [
        "# Assignment 23 Solutions"
      ]
    },
    {
      "cell_type": "markdown",
      "id": "cbe5add1",
      "metadata": {
        "id": "cbe5add1"
      },
      "source": [
        "#### 1. What is the result of the code, and why?\n",
        "`>>> def func(a, b=6, c=8):`   \n",
        "`print(a, b, c)`   \n",
        "`>>> func(1, 2)`   \n",
        "**Ans:** The result of the above code is `1 2 8`. its because the function uses the default value of c ie 8 which  is provided at the time of declaration"
      ]
    },
    {
      "cell_type": "code",
      "execution_count": 1,
      "id": "25277357",
      "metadata": {
        "colab": {
          "base_uri": "https://localhost:8080/"
        },
        "id": "25277357",
        "outputId": "bb82b22d-3b11-4558-b256-73eda21aa2af"
      },
      "outputs": [
        {
          "output_type": "stream",
          "name": "stdout",
          "text": [
            "1 2 8\n"
          ]
        }
      ],
      "source": [
        "def func(a,b=6,c=8):\n",
        "    print(a,b,c)\n",
        "func(1,2)"
      ]
    },
    {
      "cell_type": "markdown",
      "id": "9fcdfe9e",
      "metadata": {
        "id": "9fcdfe9e"
      },
      "source": [
        "#### 2. What is the result of this code, and why?\n",
        "`>>> def func(a, b, c=5):`  \n",
        "`print(a, b, c)`  \n",
        "`>>> func(1, c=3, b=2)`     \n",
        "**Ans:** The result of the above code is `1 2 3`. it is because the function will use default values only when a value for a argument is not provided and if argument name is mentioned while doing a function call, the order of arguments is also ignored by the python interpreter"
      ]
    },
    {
      "cell_type": "code",
      "execution_count": null,
      "id": "dfb849ce",
      "metadata": {
        "id": "dfb849ce",
        "outputId": "7d67a8cf-d402-493c-c7b1-7feabd53cfdc"
      },
      "outputs": [
        {
          "name": "stdout",
          "output_type": "stream",
          "text": [
            "1 2 3\n"
          ]
        }
      ],
      "source": [
        "def func(a,b,c=5):\n",
        "    print(a,b,c)\n",
        "func(1,c=3,b=2)"
      ]
    },
    {
      "cell_type": "code",
      "source": [],
      "metadata": {
        "id": "Yf78HJNUZgaf"
      },
      "id": "Yf78HJNUZgaf",
      "execution_count": null,
      "outputs": []
    },
    {
      "cell_type": "markdown",
      "id": "d030f9f1",
      "metadata": {
        "id": "d030f9f1"
      },
      "source": [
        "#### 3. How about this code: what is its result, and why?\n",
        "`>>> def func(a, *pargs):`   \n",
        "`print(a, pargs)`   \n",
        "`>>> func(1, 2, 3)`   \n",
        "**Ans:** The result of the code is `1 (2,3)`. `*pargs` stands for variable length arguments. this format is used when we are not sure about the no of arguments to be passed to a function. all the values under this argument will be stored in a tuple."
      ]
    },
    {
      "cell_type": "code",
      "execution_count": 2,
      "id": "82ddc925",
      "metadata": {
        "colab": {
          "base_uri": "https://localhost:8080/"
        },
        "id": "82ddc925",
        "outputId": "c830e4bc-790e-47bd-ceab-e65dea44f6bd"
      },
      "outputs": [
        {
          "output_type": "stream",
          "name": "stdout",
          "text": [
            "1 (2, 3)\n"
          ]
        }
      ],
      "source": [
        "def func(a, *pargs):\n",
        "    print(a,pargs)\n",
        "func(1,2,3)"
      ]
    },
    {
      "cell_type": "markdown",
      "id": "c1c3848b",
      "metadata": {
        "id": "c1c3848b"
      },
      "source": [
        "#### 4. What does this code print, and why?\n",
        "`>>> def func(a, **kargs):`   \n",
        "`print(a, kargs)`   \n",
        "`>>> func(a=1, c=3, b=2)`   \n",
        "**Ans:** The result of the above code is `1 {'c': 3, 'b': 2}`. `**args` stands for variable length keyword arguments. this format is used when we want pass key value pairs as input to a function. All these key value pairs will be stored in a dictionary"
      ]
    },
    {
      "cell_type": "code",
      "execution_count": null,
      "id": "53f34da6",
      "metadata": {
        "id": "53f34da6",
        "outputId": "0c8a68c5-a8d9-4c70-f389-633a8a858733"
      },
      "outputs": [
        {
          "name": "stdout",
          "output_type": "stream",
          "text": [
            "1 {'c': 3, 'b': 2}\n"
          ]
        }
      ],
      "source": [
        "def func(a,**kargs):\n",
        "    print(a,kargs)\n",
        "func(a=1,c=3,b=2)"
      ]
    },
    {
      "cell_type": "markdown",
      "id": "473e1bdf",
      "metadata": {
        "id": "473e1bdf"
      },
      "source": [
        "#### 5. What gets printed by this, and explain?\n",
        "`>>> def func(a, b, c=8, d=5): print(a, b, c, d)`   \n",
        "`>>> func(1, *(5, 6))`   \n",
        "    **Ans:** The output of the above is `1 5 6 5`. This reason for this function not throwing an error is because, this function expects 4 arguments. the value for a is provided explicitly whereas for arguments b and c, the function will expand the `*(5,6)` and consider the value of b as 5 and value of c as 6. since the default value of d is provided in function declaration d value will be 5. However it is recommended to use the feature of positional arguments at the end."
      ]
    },
    {
      "cell_type": "code",
      "execution_count": 3,
      "id": "ab5de589",
      "metadata": {
        "colab": {
          "base_uri": "https://localhost:8080/"
        },
        "id": "ab5de589",
        "outputId": "bb01787b-0989-45af-c7b7-1ec61d063576"
      },
      "outputs": [
        {
          "output_type": "stream",
          "name": "stdout",
          "text": [
            "1 5 6 5\n"
          ]
        }
      ],
      "source": [
        "def func(a,b,c=8,d=5):\n",
        "    print(a,b,c,d)\n",
        "func(1,*(5,6))"
      ]
    },
    {
      "cell_type": "markdown",
      "id": "e6fd179c",
      "metadata": {
        "id": "e6fd179c"
      },
      "source": [
        "#### 6. what is the result of this, and explain?\n",
        "`>>> def func(a, b, c): a = 2; b[0] = 'x'; c['a'] = 'y'`   \n",
        "`>>> l=1; m=[1]; n={'a':0}`   \n",
        "`>>> func(l, m, n)`   \n",
        "`>>> l, m, n`   \n",
        "**Ans:** The output of above code is `1, ['x'], {'a': 'y'}`.\n",
        "1. Eventhough Python gives importance to indentation. its provides a facility to declare an entire function in one single line. where statements in a function body are sepereated by `;`\n",
        "2. When `l,m,n` are provided as inputs to the function. its modifies the values of l,m,n and sets the value of `l=1` ,`m=['x']` and `n={'a':'y'}`"
      ]
    },
    {
      "cell_type": "code",
      "execution_count": 6,
      "id": "3a23e9c9",
      "metadata": {
        "colab": {
          "base_uri": "https://localhost:8080/"
        },
        "id": "3a23e9c9",
        "outputId": "5770c42d-7766-4e1c-a73c-e9faf5d84305"
      },
      "outputs": [
        {
          "output_type": "execute_result",
          "data": {
            "text/plain": [
              "(1, ['x'], {'a': 'y'})"
            ]
          },
          "metadata": {},
          "execution_count": 6
        }
      ],
      "source": [
        "def func(a, b, c): \n",
        "  a = 2; b[0] = 'x'; c['a'] = 'y'\n",
        "l=1; m=[1]; n={'a':0}\n",
        "func(l, m, n)\n",
        "l,m,n"
      ]
    }
  ],
  "metadata": {
    "kernelspec": {
      "display_name": "Python 3",
      "language": "python",
      "name": "python3"
    },
    "language_info": {
      "codemirror_mode": {
        "name": "ipython",
        "version": 3
      },
      "file_extension": ".py",
      "mimetype": "text/x-python",
      "name": "python",
      "nbconvert_exporter": "python",
      "pygments_lexer": "ipython3",
      "version": "3.8.8"
    },
    "colab": {
      "provenance": []
    }
  },
  "nbformat": 4,
  "nbformat_minor": 5
}