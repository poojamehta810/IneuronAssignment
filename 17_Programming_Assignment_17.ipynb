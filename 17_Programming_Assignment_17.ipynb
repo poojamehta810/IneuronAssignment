{
  "cells": [
    {
      "cell_type": "markdown",
      "id": "85eacd12",
      "metadata": {
        "id": "85eacd12"
      },
      "source": [
        "# Assignment 17 Solutions"
      ]
    },
    {
      "cell_type": "markdown",
      "id": "86c4e861",
      "metadata": {
        "id": "86c4e861"
      },
      "source": [
        "#### 1.Create a function that takes three arguments a, b, c and returns the sum of the numbers that are evenly divided by c from the range a, b inclusive ?\n",
        "**Examples:**  \n",
        "`evenly_divisible(1, 10, 20) ➞ 0\n",
        "    # No number between 1 and 10 can be evenly divided by 20.\n",
        "evenly_divisible(1, 10, 2) ➞ 30\n",
        "    # 2 + 4 + 6 + 8 + 10 = 30\n",
        "evenly_divisible(1, 10, 3) ➞ 18\n",
        "    # 3 + 6 + 9 = 18`"
      ]
    },
    {
      "cell_type": "code",
      "execution_count": null,
      "id": "b9f60e1c",
      "metadata": {
        "id": "b9f60e1c",
        "outputId": "d918a158-4523-47b1-cb75-59e371b04372"
      },
      "outputs": [
        {
          "name": "stdout",
          "output_type": "stream",
          "text": [
            "(1, 10, 20) ➞ 0\n",
            "(1, 10, 2) ➞ 30\n",
            "(1, 10, 3) ➞ 18\n"
          ]
        }
      ],
      "source": [
        "def evenDivisible(a,b,c):\n",
        "    divList = []\n",
        "    for num in range(a,b+1):\n",
        "        if num%c == 0:\n",
        "            divList.append(num)\n",
        "    print(f'{a,b,c} ➞ {sum(divList)}')\n",
        "\n",
        "evenDivisible(1,10,20)\n",
        "evenDivisible(1,10,2)\n",
        "evenDivisible(1,10,3)"
      ]
    },
    {
      "cell_type": "markdown",
      "id": "8589ab33",
      "metadata": {
        "id": "8589ab33"
      },
      "source": [
        "#### 2.Create a function that returns True if a given inequality expression is correct and False otherwise ?\n",
        "**Examples:**  \n",
        "`correct_signs(\"3 < 7 < 11\") ➞ True`  \n",
        "`correct_signs(\"13 > 44 > 33 > 1\") ➞ False`  \n",
        "`correct_signs(\"1 < 2 < 6 < 9 > 3\") ➞ True`"
      ]
    },
    {
      "cell_type": "code",
      "execution_count": 1,
      "id": "0021eeb2",
      "metadata": {
        "colab": {
          "base_uri": "https://localhost:8080/"
        },
        "id": "0021eeb2",
        "outputId": "2da08ddc-b74f-4c80-be8f-0c8bf1c78bf4"
      },
      "outputs": [
        {
          "output_type": "stream",
          "name": "stdout",
          "text": [
            "Enter the inequality expression: 4<6<7\n",
            "4<6<7 ➞ True\n",
            "Enter the inequality expression: 12>44>33>1\n",
            "12>44>33>1 ➞ False\n",
            "Enter the inequality expression: 3<5>1\n",
            "3<5>1 ➞ True\n"
          ]
        }
      ],
      "source": [
        "def checkEquality():\n",
        "    in_string = input('Enter the inequality expression: ')\n",
        "    out_result = eval(in_string)\n",
        "    print(f'{in_string} ➞ {out_result}')\n",
        "\n",
        "for x in range(3):\n",
        "    checkEquality()"
      ]
    },
    {
      "cell_type": "markdown",
      "id": "d7200223",
      "metadata": {
        "id": "d7200223"
      },
      "source": [
        "#### 3.Create a function that replaces all the vowels in a string with a specified character ?\n",
        "**Examples:**  \n",
        "`replace_vowels(\"the aardvark\", \"#\") ➞ \"th# ##rdv#rk\"`  \n",
        "`replace_vowels(\"minnie mouse\", \"?\") ➞ \"m?nn?? m??s?\"`  \n",
        "`replace_vowels(\"shakespeare\", \"*\") ➞ \"shksp**r\"`"
      ]
    },
    {
      "cell_type": "code",
      "execution_count": null,
      "id": "e83aad2e",
      "metadata": {
        "id": "e83aad2e",
        "outputId": "126ffbbd-bc03-414b-f657-a8008e780d73"
      },
      "outputs": [
        {
          "name": "stdout",
          "output_type": "stream",
          "text": [
            "String: the aardvark\n",
            "Replacement character: #\n",
            "the aardvark # ➞ th# ##rdv#rk\n",
            "String: minnie mouse\n",
            "Replacement character: ?\n",
            "minnie mouse ? ➞ m?nn?? m??s?\n",
            "String: shakespeare\n",
            "Replacement character: *\n",
            "shakespeare * ➞ sh*k*sp**r*\n"
          ]
        }
      ],
      "source": [
        "def replaceVowels():\n",
        "    vowels = ['a','e','i','o','u','A','E','I','O','U']\n",
        "    in_string = input(\"String: \")\n",
        "    in_string_copy = in_string\n",
        "    in_char = input('Replacement character: ')\n",
        "    for ele in in_string:\n",
        "        if ele in vowels:\n",
        "            in_string = in_string.replace(ele,in_char)\n",
        "    print(f'{in_string_copy} {in_char} ➞ {in_string}')\n",
        "            \n",
        "for x in range(3):\n",
        "    replaceVowels()"
      ]
    },
    {
      "cell_type": "markdown",
      "id": "4c343c6e",
      "metadata": {
        "id": "4c343c6e"
      },
      "source": [
        "#### 4.Write a function that calculates the factorial of a number recursively ?\n",
        "**Examples:**  \n",
        "`factorial(5) ➞ 120`  \n",
        "`factorial(3) ➞ 6`  \n",
        "`factorial(1) ➞ 1`  \n",
        "`factorial(0) ➞ 1`  "
      ]
    },
    {
      "cell_type": "code",
      "execution_count": null,
      "id": "4d026831",
      "metadata": {
        "id": "4d026831",
        "outputId": "60f4f824-e15b-4a56-f192-caaa116fb24d"
      },
      "outputs": [
        {
          "name": "stdout",
          "output_type": "stream",
          "text": [
            "factorial(5) ➞ 120\n",
            "factorial(3) ➞ 6\n",
            "factorial(1) ➞ 1\n",
            "factorial(0) ➞ 1\n"
          ]
        }
      ],
      "source": [
        "def factorial(n):\n",
        "    if n==0:\n",
        "        return 1\n",
        "    return n * factorial(n-1)\n",
        "\n",
        "print(f'factorial(5) ➞ {factorial(5)}')\n",
        "print(f'factorial(3) ➞ {factorial(3)}')\n",
        "print(f'factorial(1) ➞ {factorial(1)}')\n",
        "print(f'factorial(0) ➞ {factorial(0)}')"
      ]
    },
    {
      "cell_type": "markdown",
      "id": "a0d0b57f",
      "metadata": {
        "id": "a0d0b57f"
      },
      "source": [
        "#### 5.Hamming distance is the number of characters that differ between two strings ?\n",
        "To illustrate:  \n",
        "    `String1: \"abcbba\"`  \n",
        "    `String2: \"abcbda\"`  \n",
        "Hamming Distance: 1 - \"b\" vs. \"d\" is the only difference.  \n",
        "Create a function that computes the hamming distance between two strings.  \n",
        "**Examples:**  \n",
        "`hamming_distance(\"abcde\", \"bcdef\") ➞ 5`  \n",
        "`hamming_distance(\"abcde\", \"abcde\") ➞ 0`  \n",
        "`hamming_distance(\"strong\", \"strung\") ➞ 1`  "
      ]
    },
    {
      "cell_type": "code",
      "execution_count": null,
      "id": "d72b29ae",
      "metadata": {
        "id": "d72b29ae",
        "outputId": "91ef3581-a0c5-4bac-a323-732e23601e21"
      },
      "outputs": [
        {
          "name": "stdout",
          "output_type": "stream",
          "text": [
            "Enter the String_1: abcde\n",
            "Enter the String_2: bcdef\n",
            "Hamning Distance b/w abcde and bcdef ➞ 5\n",
            "Enter the String_1: abcde\n",
            "Enter the String_2: abcde\n",
            "Hamning Distance b/w abcde and abcde ➞ 0\n",
            "Enter the String_1: strong\n",
            "Enter the String_2: strung\n",
            "Hamning Distance b/w strong and strung ➞ 1\n"
          ]
        }
      ],
      "source": [
        "def genHamDistance():\n",
        "    in_string_1 = input('Enter the String_1: ')\n",
        "    in_string_2 = input('Enter the String_2: ')\n",
        "    if len(in_string_1) == len(in_string_2):\n",
        "        count = 0\n",
        "        for i in range(len(in_string_1)):\n",
        "            if in_string_1[i] != in_string_2[i]:\n",
        "                count = count+1\n",
        "        print(f'Hamning Distance b/w {in_string_1} and {in_string_2} ➞ {count}')\n",
        "    else:\n",
        "        print('Both Strings Must be of Same Length')\n",
        "\n",
        "for x in range(3):\n",
        "    genHamDistance()"
      ]
    }
  ],
  "metadata": {
    "kernelspec": {
      "display_name": "Python 3",
      "language": "python",
      "name": "python3"
    },
    "language_info": {
      "codemirror_mode": {
        "name": "ipython",
        "version": 3
      },
      "file_extension": ".py",
      "mimetype": "text/x-python",
      "name": "python",
      "nbconvert_exporter": "python",
      "pygments_lexer": "ipython3",
      "version": "3.8.8"
    },
    "colab": {
      "provenance": []
    }
  },
  "nbformat": 4,
  "nbformat_minor": 5
}