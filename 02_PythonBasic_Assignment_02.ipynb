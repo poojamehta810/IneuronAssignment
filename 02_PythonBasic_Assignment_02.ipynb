{
  "cells": [
    {
      "cell_type": "markdown",
      "metadata": {
        "id": "ONqRHY7j1UNz"
      },
      "source": [
        "# Assignment 2 Solutions"
      ]
    },
    {
      "cell_type": "markdown",
      "metadata": {
        "id": "CHeYp1Gp1UN6"
      },
      "source": [
        "#### 1.What are the two values of the boolean data types? how do you write them ?\n",
        "**Ans**: `True` and `False` are two values of the boolen data types. We have to use capital T and F and with the rest of the word in lowercase"
      ]
    },
    {
      "cell_type": "code",
      "execution_count": null,
      "metadata": {
        "id": "2WuVc-mf1UN7",
        "outputId": "7fc74a27-8cea-4049-dfc8-e85132f47504"
      },
      "outputs": [
        {
          "name": "stdout",
          "output_type": "stream",
          "text": [
            "True <class 'bool'>\n",
            "False <class 'bool'>\n"
          ]
        }
      ],
      "source": [
        "a=True\n",
        "b=False\n",
        "print(a,type(a))\n",
        "print(b,type(b))"
      ]
    },
    {
      "cell_type": "markdown",
      "metadata": {
        "id": "_PHA9-Kq1UN_"
      },
      "source": [
        "#### 2. What are the three different types of Boolean operators?\n",
        "**Ans**: The three differnt types of Boolean operators in python are:  `or` `and` `not`"
      ]
    },
    {
      "cell_type": "code",
      "execution_count": 1,
      "metadata": {
        "colab": {
          "base_uri": "https://localhost:8080/"
        },
        "id": "atOkYxPk1UN_",
        "outputId": "7f4d4683-16d6-43de-da06-41fb3ec5c79d"
      },
      "outputs": [
        {
          "output_type": "stream",
          "name": "stdout",
          "text": [
            "True\n",
            "True\n",
            "False\n"
          ]
        }
      ],
      "source": [
        "a=200\n",
        "b=400\n",
        "print(a>50 and b>100) # Example of boolean and\n",
        "print(a>200 or b>100) # Example of boolean or\n",
        "print(not(a>10)) # Example of boolean not"
      ]
    },
    {
      "cell_type": "markdown",
      "metadata": {
        "id": "hAbm7k0_1UOA"
      },
      "source": [
        "#### 3. Make a list of each Boolean operator&#39;s truth tables (i.e. every possible combination of Boolean values for the operator and what it evaluate) ?\n",
        "**Ans:** The Truth tables for the boolean tables are as follows:  \n",
        "* **Truth Table for `and` operaotor**  \n",
        "    _True and True is True   \n",
        "    True and False is False  \n",
        "    False and True is False  \n",
        "    False and False is False_\n",
        "    \n",
        "    \n",
        "* **Truth Table for `or` operaotor**  \n",
        "    _True and True is True   \n",
        "    True and False is True  \n",
        "    False and True is True  \n",
        "    False and False is False_\n",
        "    \n",
        "    \n",
        "* **Truth Table for `not` operaotor**        \n",
        "    _True not is False\n",
        "    False not is True_"
      ]
    },
    {
      "cell_type": "markdown",
      "metadata": {
        "id": "s_6MaJBS1UOB"
      },
      "source": [
        "#### 4. What are the values of the following expressions ?\n",
        "* (5 &gt; 4) and (3 == 5)  \n",
        "* not (5 &gt; 4)  \n",
        "* (5 &gt; 4) or (3 == 5)  \n",
        "* not ((5 &gt; 4) or (3 == 5))  \n",
        "* (True and True) and (True == False)  \n",
        "* (not False) or (not True)  "
      ]
    },
    {
      "cell_type": "code",
      "execution_count": null,
      "metadata": {
        "id": "HkD2XETT1UOB",
        "outputId": "ac1aa9cb-d0af-4e50-95be-4f2d9578a14e"
      },
      "outputs": [
        {
          "name": "stdout",
          "output_type": "stream",
          "text": [
            "False\n",
            "False\n",
            "True\n",
            "False\n",
            "False\n",
            "True\n"
          ]
        }
      ],
      "source": [
        "print((5>4)and(3==5)) # False\n",
        "print(not(5>4)) # False\n",
        "print((5>4)or(3==5)) # True\n",
        "print(not((5>4)or(3==5))) # False\n",
        "print((True and True)and(True==False)) # False\n",
        "print((not False)or(not True)) # True"
      ]
    },
    {
      "cell_type": "markdown",
      "metadata": {
        "id": "XUm6xqU11UOC"
      },
      "source": [
        "#### 5. What are the six comparison operators?\n",
        "**Ans:**  The Six comparision operators available in python are:  \n",
        "1. `==` \n",
        "2. `!=` \n",
        "3.  `<` \n",
        "4.  `>` \n",
        "5.  `<=`  \n",
        "6.  `=>`"
      ]
    },
    {
      "cell_type": "markdown",
      "metadata": {
        "id": "4Y2AyHCb1UOD"
      },
      "source": [
        "#### 6. How do you tell the difference between the equal to and assignment operators?Describe a condition and when you would use one ? \n",
        "**Ans:** `==` is the equal to operator that compares two values and evaluates to a Boolean, while `=` is that assignment operator that stores a value in a variable.\n"
      ]
    },
    {
      "cell_type": "code",
      "execution_count": null,
      "metadata": {
        "id": "-EBkyODV1UOF",
        "outputId": "57c1cae3-d24f-486e-db27-88b5db361303"
      },
      "outputs": [
        {
          "name": "stdout",
          "output_type": "stream",
          "text": [
            "True\n"
          ]
        }
      ],
      "source": [
        "a=3 # Assigning operator that stores 3 value in a variable a\n",
        "if a==3:#comparing values of a varible value and 3\n",
        "    print(a==3)  "
      ]
    },
    {
      "cell_type": "markdown",
      "metadata": {
        "id": "iBJ3dOZl1UOF"
      },
      "source": [
        "#### 7. Identify the three blocks in this code:\n",
        "spam = 0  \n",
        "if spam == 10:  \n",
        "print('eggs')  \n",
        "if spam > 5:  \n",
        "print('bacon')  \n",
        "else:  \n",
        "print('ham')  \n",
        "print('spam')  \n",
        "print('spam')\n",
        "\n",
        "**Ans**: In Python, code block refers to a collection of code that is in the same block or indent. This is most commonly found in classes, functions, and loops."
      ]
    },
    {
      "cell_type": "code",
      "execution_count": null,
      "metadata": {
        "id": "Ioe5Geo81UOG",
        "outputId": "54bd75c4-5393-4c10-c691-e46c27a623a9"
      },
      "outputs": [
        {
          "name": "stdout",
          "output_type": "stream",
          "text": [
            "ham\n",
            "spam\n",
            "spam\n"
          ]
        }
      ],
      "source": [
        "spam = 0  \n",
        "if spam == 10:  \n",
        "    print('eggs')  # block #1\n",
        "if spam > 5:  \n",
        "    print('bacon')  # block #2\n",
        "else:  \n",
        "    print('ham')  # block #3\n",
        "print('spam')  \n",
        "print('spam')"
      ]
    },
    {
      "cell_type": "markdown",
      "metadata": {
        "id": "TnwNZF5H1UOH"
      },
      "source": [
        "#### 8. Write code that prints Hello if 1 is stored in spam, prints Howdy if 2 is stored in spam, and prints Greetings! if anything else is stored in spam.\n"
      ]
    },
    {
      "cell_type": "code",
      "execution_count": 2,
      "metadata": {
        "colab": {
          "base_uri": "https://localhost:8080/"
        },
        "id": "yfzMBmrb1UOI",
        "outputId": "f07f7bfb-b029-4b03-ac00-4d9e9c1cc74f"
      },
      "outputs": [
        {
          "output_type": "stream",
          "name": "stdout",
          "text": [
            "Hello\n",
            "Howdy\n",
            "Greetings\n"
          ]
        }
      ],
      "source": [
        "def spamCode(spam):\n",
        "    if spam==1:\n",
        "        print('Hello')\n",
        "    elif spam==2:\n",
        "        print('Howdy')\n",
        "    else:\n",
        "        print('Greetings')\n",
        "        \n",
        "spamCode(1) \n",
        "spamCode(2)\n",
        "spamCode(3)"
      ]
    },
    {
      "cell_type": "markdown",
      "metadata": {
        "id": "16BvVyOj1UOI"
      },
      "source": [
        "#### 9.If your programme is stuck in an endless loop, what keys you’ll press?\n",
        "**Ans:** To stop a program stuck in an infinite loop we need to Press `Ctrl-c` "
      ]
    },
    {
      "cell_type": "markdown",
      "metadata": {
        "id": "xBN8Pdeg1UOJ"
      },
      "source": [
        "#### 10. How can you tell the difference between break and continue?\n",
        "**Ans:** The `break` statement will move the execution outside the loop if break condtion is satisfied. Whereas the `continue` statement will move the execution to the start of the loop."
      ]
    },
    {
      "cell_type": "markdown",
      "metadata": {
        "id": "tUIakZYZ1UOK"
      },
      "source": [
        "#### 11. In a for loop, what is the difference between range(10), range(0, 10), and range(0, 10, 1)?\n",
        "**Ans:** The Differences are as follows:  \n",
        "1. The _**range(10)**_ call range from 0 to 9 (but not include 10)  \n",
        "2. The _**range (0,10)**_ explicitly tells the loop to start at 0  \n",
        "3. The _**range(0,10,1)**_ explicitly tells the loop to increase the variable by 1 on each iteration   "
      ]
    },
    {
      "cell_type": "markdown",
      "metadata": {
        "id": "ayjFOsNJ1UOK"
      },
      "source": [
        "#### 12. Write a short program that prints the numbers 1 to 10 using a for loop. Then write an equivalent program that prints the numbers 1 to 10 using a while loop ? "
      ]
    },
    {
      "cell_type": "code",
      "execution_count": 4,
      "metadata": {
        "colab": {
          "base_uri": "https://localhost:8080/"
        },
        "id": "7Eo-8P6R1UOK",
        "outputId": "ad92352e-3d80-4cc8-bfe4-be354aa56b7a"
      },
      "outputs": [
        {
          "output_type": "stream",
          "name": "stdout",
          "text": [
            "Using For Loop\n",
            "1 2 3 4 5 6 7 8 9 10 \n",
            "\n",
            "Using While Loop\n",
            "1 2 3 4 5 6 7 8 9 10 "
          ]
        }
      ],
      "source": [
        "print('Using For Loop',)\n",
        "for i in range(1,11):\n",
        "    print(i, end=\" \")\n",
        "print('\\n')\n",
        "print('Using While Loop') \n",
        "i=1\n",
        "while i<=10:\n",
        "    print(i, end=\" \")\n",
        "    i+=1"
      ]
    },
    {
      "cell_type": "markdown",
      "metadata": {
        "id": "sW9SaVTw1UOL"
      },
      "source": [
        "#### 13. If you had a function named bacon() inside a module named spam, how would you call it after importing spam ?\n",
        "**Ans:** This function can be called with `spam.bacon()`"
      ]
    }
  ],
  "metadata": {
    "kernelspec": {
      "display_name": "Python 3",
      "language": "python",
      "name": "python3"
    },
    "language_info": {
      "codemirror_mode": {
        "name": "ipython",
        "version": 3
      },
      "file_extension": ".py",
      "mimetype": "text/x-python",
      "name": "python",
      "nbconvert_exporter": "python",
      "pygments_lexer": "ipython3",
      "version": "3.8.8"
    },
    "colab": {
      "provenance": []
    }
  },
  "nbformat": 4,
  "nbformat_minor": 0
}