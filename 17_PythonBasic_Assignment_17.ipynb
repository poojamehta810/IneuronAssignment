{
  "cells": [
    {
      "cell_type": "markdown",
      "id": "13b7e725",
      "metadata": {
        "id": "13b7e725"
      },
      "source": [
        "# Assignment 17 Solutions"
      ]
    },
    {
      "cell_type": "markdown",
      "id": "0b1c9422",
      "metadata": {
        "id": "0b1c9422"
      },
      "source": [
        "#### 1. Assign the value 7 to the variable guess_me. Then, write the conditional tests (if, else, and elif) to print the string 'too low' if guess_me is less than 7, 'too high' if greater than 7, and 'just right' if equal to 7."
      ]
    },
    {
      "cell_type": "code",
      "execution_count": 2,
      "id": "9bd36b65",
      "metadata": {
        "colab": {
          "base_uri": "https://localhost:8080/"
        },
        "id": "9bd36b65",
        "outputId": "9791b257-40e3-483e-b026-d9aae245b3ab"
      },
      "outputs": [
        {
          "output_type": "stream",
          "name": "stdout",
          "text": [
            "just right\n"
          ]
        }
      ],
      "source": [
        "\n",
        "guess_me = 7\n",
        "if guess_me < 7:\n",
        "    print(\"too low\")\n",
        "elif guess_me > 7:\n",
        "    print(\"too high\")\n",
        "else:\n",
        "    print(\"just right\")\n"
      ]
    },
    {
      "cell_type": "markdown",
      "id": "4726a300",
      "metadata": {
        "id": "4726a300"
      },
      "source": [
        "#### 2. Assign the value 7 to the variable guess_me and the value 1 to the variable start. Write a while loop that compares start with guess_me. Print too low if start is less than guess me. If start equals guess_me, print 'found it!' and exit the loop. If start is greater than guess_me, print 'oops' and exit the loop. Increment start at the end of the loop"
      ]
    },
    {
      "cell_type": "code",
      "execution_count": 3,
      "id": "455c37de",
      "metadata": {
        "colab": {
          "base_uri": "https://localhost:8080/"
        },
        "id": "455c37de",
        "outputId": "bdd580af-d6bc-4aa5-c2ec-85208ffe5466"
      },
      "outputs": [
        {
          "output_type": "stream",
          "name": "stdout",
          "text": [
            "too low\n",
            "too low\n",
            "too low\n",
            "too low\n",
            "too low\n",
            "too low\n",
            "found it\n"
          ]
        }
      ],
      "source": [
        "guess_me = 7\n",
        "start = 1\n",
        "while True:\n",
        "    if start < guess_me:\n",
        "        print('too low')\n",
        "    elif start == guess_me:\n",
        "        print('found it')\n",
        "        break\n",
        "    else:\n",
        "        print('oops')\n",
        "        break\n",
        "    start += 1"
      ]
    },
    {
      "cell_type": "markdown",
      "id": "22fe6aee",
      "metadata": {
        "id": "22fe6aee"
      },
      "source": [
        "#### 3. Print the following values of the list [3, 2, 1, 0] using a for loop."
      ]
    },
    {
      "cell_type": "code",
      "execution_count": null,
      "id": "c1b70fcb",
      "metadata": {
        "id": "c1b70fcb",
        "outputId": "7410ffbf-b989-4d2a-d4e8-bd52f0668476"
      },
      "outputs": [
        {
          "name": "stdout",
          "output_type": "stream",
          "text": [
            "3\n",
            "2\n",
            "1\n",
            "0\n"
          ]
        }
      ],
      "source": [
        "in_list = [3,2,1,0]\n",
        "for ele in in_list:\n",
        "    print(ele)"
      ]
    },
    {
      "cell_type": "markdown",
      "id": "b3e4fe5e",
      "metadata": {
        "id": "b3e4fe5e"
      },
      "source": [
        "#### 4. Use a list comprehension to make a list of the even numbers in range(10)"
      ]
    },
    {
      "cell_type": "code",
      "execution_count": 4,
      "id": "c8fa10ff",
      "metadata": {
        "colab": {
          "base_uri": "https://localhost:8080/"
        },
        "id": "c8fa10ff",
        "outputId": "6c9d2f1e-60a2-4c88-91e8-d9577864ffde"
      },
      "outputs": [
        {
          "output_type": "stream",
          "name": "stdout",
          "text": [
            "[0, 2, 4, 6, 8]\n"
          ]
        }
      ],
      "source": [
        "print([num for num in range(10) if num%2==0 ])"
      ]
    },
    {
      "cell_type": "markdown",
      "id": "692f5e50",
      "metadata": {
        "id": "692f5e50"
      },
      "source": [
        "#### 5. Use a dictionary comprehension to create the dictionary squares. Use range(10) to return the keys, and use the square of each key as its value."
      ]
    },
    {
      "cell_type": "code",
      "execution_count": 5,
      "id": "98e03632",
      "metadata": {
        "colab": {
          "base_uri": "https://localhost:8080/"
        },
        "id": "98e03632",
        "outputId": "51b9df30-3a44-4594-9ca8-49f8106e807a"
      },
      "outputs": [
        {
          "output_type": "stream",
          "name": "stdout",
          "text": [
            "{0: 0, 1: 1, 2: 4, 3: 9, 4: 16, 5: 25, 6: 36, 7: 49, 8: 64, 9: 81}\n"
          ]
        }
      ],
      "source": [
        "limit = 10\n",
        "squares = {num: num * num for num in range(limit)}\n",
        "print(squares)"
      ]
    },
    {
      "cell_type": "markdown",
      "id": "898769b5",
      "metadata": {
        "id": "898769b5"
      },
      "source": [
        "#### 6. Construct the set odd from the odd numbers in the range using a set comprehension (10)."
      ]
    },
    {
      "cell_type": "code",
      "execution_count": null,
      "id": "844a0f4b",
      "metadata": {
        "id": "844a0f4b",
        "outputId": "d854eeed-1a21-4b2b-fa5d-27b3f34af958"
      },
      "outputs": [
        {
          "name": "stdout",
          "output_type": "stream",
          "text": [
            "{1, 3, 5, 7, 9}\n"
          ]
        }
      ],
      "source": [
        "print({x for x in range(10) if x%2 !=0})"
      ]
    },
    {
      "cell_type": "markdown",
      "id": "37ac8a77",
      "metadata": {
        "id": "37ac8a77"
      },
      "source": [
        "#### 7. Use a generator comprehension to return the string 'Got ' and a number for the numbers in range(10). Iterate through this by using a for loop"
      ]
    },
    {
      "cell_type": "code",
      "execution_count": 6,
      "id": "5158d350",
      "metadata": {
        "colab": {
          "base_uri": "https://localhost:8080/"
        },
        "id": "5158d350",
        "outputId": "209b59aa-8237-4202-ae53-1d906f63a954"
      },
      "outputs": [
        {
          "output_type": "stream",
          "name": "stdout",
          "text": [
            "Got 0\n",
            "Got 1\n",
            "Got 2\n",
            "Got 3\n",
            "Got 4\n",
            "Got 5\n",
            "Got 6\n",
            "Got 7\n",
            "Got 8\n",
            "Got 9\n"
          ]
        }
      ],
      "source": [
        "limit = 10\n",
        "string_generator = ('Got ' + str(num) for num in range(limit))\n",
        "for item in string_generator:\n",
        "    print(item)"
      ]
    },
    {
      "cell_type": "markdown",
      "id": "dffeae83",
      "metadata": {
        "id": "dffeae83"
      },
      "source": [
        "#### 8. Define a function called good that returns the list ['Harry', 'Ron', 'Hermione']."
      ]
    },
    {
      "cell_type": "code",
      "execution_count": 7,
      "id": "ee59ee83",
      "metadata": {
        "colab": {
          "base_uri": "https://localhost:8080/"
        },
        "id": "ee59ee83",
        "outputId": "b671d295-dabf-4a94-c235-b0296abaa23d"
      },
      "outputs": [
        {
          "output_type": "stream",
          "name": "stdout",
          "text": [
            "['Harry', 'Ron', 'Hermione']\n"
          ]
        }
      ],
      "source": [
        "def good():\n",
        "    ls =  ['Harry', 'Ron', 'Hermione']\n",
        "    return ls\n",
        "print(good())"
      ]
    },
    {
      "cell_type": "markdown",
      "id": "9c22791a",
      "metadata": {
        "id": "9c22791a"
      },
      "source": [
        "#### 9. Define a generator function called get_odds that returns the odd numbers from range(10). Use a for loop to find and print the third value returned."
      ]
    },
    {
      "cell_type": "code",
      "execution_count": 9,
      "id": "d86ab546",
      "metadata": {
        "colab": {
          "base_uri": "https://localhost:8080/"
        },
        "id": "d86ab546",
        "outputId": "34855fcd-af78-4e34-d4ef-bef9153f0a3b"
      },
      "outputs": [
        {
          "output_type": "stream",
          "name": "stdout",
          "text": [
            "5\n"
          ]
        }
      ],
      "source": [
        "limit = 10\n",
        "get_odds = (num for num in range(limit) if not num % 2 == 0)\n",
        "count = 0\n",
        "for num in get_odds:\n",
        "    if count == 2:\n",
        "        print(num)\n",
        "        break\n",
        "    count += 1"
      ]
    },
    {
      "cell_type": "markdown",
      "id": "e5cd8259",
      "metadata": {
        "id": "e5cd8259"
      },
      "source": [
        "#### 10. Define an exception called OopsException. Raise this exception to see what happens. Then write the code to catch this exception and print 'Caught an oops'."
      ]
    },
    {
      "cell_type": "code",
      "execution_count": null,
      "id": "3670b71d",
      "metadata": {
        "id": "3670b71d",
        "outputId": "83bb8ebe-6772-4a2e-a254-6b6cfcfcebfd"
      },
      "outputs": [
        {
          "name": "stdout",
          "output_type": "stream",
          "text": [
            "Caught in Oops -> name 'a' is not defined\n"
          ]
        }
      ],
      "source": [
        "class OopsException(Exception):\n",
        "    pass\n",
        "\n",
        "def test(input):\n",
        "    if input <0:\n",
        "        raise OopsException(a)\n",
        "try:\n",
        "    test(-100)\n",
        "except Exception as e:\n",
        "    print('Caught in Oops ->',e)"
      ]
    },
    {
      "cell_type": "markdown",
      "id": "6693ea2c",
      "metadata": {
        "id": "6693ea2c"
      },
      "source": [
        "#### 11. Use zip() to make a dictionary called movies that pairs these lists: titles = ['Creature of Habit', 'Crewel Fate'] and plots = ['A nun turns into a monster', 'A haunted yarn shop']."
      ]
    },
    {
      "cell_type": "code",
      "execution_count": 10,
      "id": "c7da478c",
      "metadata": {
        "colab": {
          "base_uri": "https://localhost:8080/"
        },
        "id": "c7da478c",
        "outputId": "547214e1-16b8-4068-98cd-27c18185aab6"
      },
      "outputs": [
        {
          "output_type": "stream",
          "name": "stdout",
          "text": [
            "{'Creature of Habit': 'A nun turns into a monster', 'Crewel Fate': 'A haunted yarn shop'}\n"
          ]
        }
      ],
      "source": [
        "titles = ['Creature of Habit', 'Crewel Fate']\n",
        "plots = ['A nun turns into a monster', 'A haunted yarn shop']\n",
        "output = dict(zip(titles,plots))\n",
        "print(output)"
      ]
    }
  ],
  "metadata": {
    "kernelspec": {
      "display_name": "Python 3 (ipykernel)",
      "language": "python",
      "name": "python3"
    },
    "language_info": {
      "codemirror_mode": {
        "name": "ipython",
        "version": 3
      },
      "file_extension": ".py",
      "mimetype": "text/x-python",
      "name": "python",
      "nbconvert_exporter": "python",
      "pygments_lexer": "ipython3",
      "version": "3.8.8"
    },
    "colab": {
      "provenance": []
    }
  },
  "nbformat": 4,
  "nbformat_minor": 5
}