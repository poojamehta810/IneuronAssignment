{
  "cells": [
    {
      "cell_type": "markdown",
      "id": "008a10cf",
      "metadata": {
        "id": "008a10cf"
      },
      "source": [
        "# Assignment 18 Solutions"
      ]
    },
    {
      "cell_type": "code",
      "execution_count": null,
      "id": "ceee30c4-2e1d-4191-9069-33d032e6b72f",
      "metadata": {
        "id": "ceee30c4-2e1d-4191-9069-33d032e6b72f",
        "outputId": "ac5a1cb4-4a58-43dc-c12a-ce934970766a"
      },
      "outputs": [
        {
          "name": "stdout",
          "output_type": "stream",
          "text": [
            "def hours():\n",
            "    print(\"Open 9-5 daily\")\n"
          ]
        }
      ],
      "source": [
        "!type zoo.py"
      ]
    },
    {
      "cell_type": "markdown",
      "id": "4b0045ff",
      "metadata": {
        "id": "4b0045ff"
      },
      "source": [
        "#### 1. Create a zoo.py file first. Define the hours() function, which prints the string 'Open 9-5 daily'. Then, use the interactive interpreter to import the zoo module and call its hours() function."
      ]
    },
    {
      "cell_type": "code",
      "execution_count": null,
      "id": "6ccab705",
      "metadata": {
        "id": "6ccab705",
        "outputId": "c8d8d44c-e941-4cad-b6bd-1390196591f4"
      },
      "outputs": [
        {
          "name": "stdout",
          "output_type": "stream",
          "text": [
            "Open 9-5 daily\n"
          ]
        }
      ],
      "source": [
        "import zoo\n",
        "zoo.hours()"
      ]
    },
    {
      "cell_type": "markdown",
      "id": "77c06807",
      "metadata": {
        "id": "77c06807"
      },
      "source": [
        "#### 2. In the interactive interpreter, import the zoo module as menagerie and call its hours() function."
      ]
    },
    {
      "cell_type": "code",
      "execution_count": null,
      "id": "e907fa84",
      "metadata": {
        "id": "e907fa84",
        "outputId": "6c8dcf06-afd1-4bf4-e5f1-cd64766ceabc"
      },
      "outputs": [
        {
          "name": "stdout",
          "output_type": "stream",
          "text": [
            "Open 9-5 daily\n"
          ]
        }
      ],
      "source": [
        "import zoo as menagerie\n",
        "menagerie.hours()"
      ]
    },
    {
      "cell_type": "markdown",
      "id": "7674c3cd",
      "metadata": {
        "id": "7674c3cd"
      },
      "source": [
        "#### 3. Using the interpreter, explicitly import and call the hours() function from zoo."
      ]
    },
    {
      "cell_type": "code",
      "execution_count": null,
      "id": "5cd291d4",
      "metadata": {
        "id": "5cd291d4",
        "outputId": "f9b76e27-0b9c-4322-ab9b-f200660ae068"
      },
      "outputs": [
        {
          "name": "stdout",
          "output_type": "stream",
          "text": [
            "Open 9-5 daily\n"
          ]
        }
      ],
      "source": [
        "from zoo import hours\n",
        "hours()"
      ]
    },
    {
      "cell_type": "markdown",
      "id": "1b939228",
      "metadata": {
        "id": "1b939228"
      },
      "source": [
        "#### 4. Import the hours() function as info and call it."
      ]
    },
    {
      "cell_type": "code",
      "execution_count": null,
      "id": "ad74dc37",
      "metadata": {
        "id": "ad74dc37",
        "outputId": "ea592719-bf3a-462e-fbec-60e6b7152e01"
      },
      "outputs": [
        {
          "name": "stdout",
          "output_type": "stream",
          "text": [
            "Open 9-5 daily\n"
          ]
        }
      ],
      "source": [
        "from zoo import hours as info\n",
        "info()"
      ]
    },
    {
      "cell_type": "markdown",
      "id": "8ff06188",
      "metadata": {
        "id": "8ff06188"
      },
      "source": [
        "#### 5. Create a plain dictionary with the key-value pairs 'a': 1, 'b': 2, and 'c': 3, and print it out."
      ]
    },
    {
      "cell_type": "code",
      "execution_count": null,
      "id": "fbec4dfb",
      "metadata": {
        "id": "fbec4dfb",
        "outputId": "d31aa77b-3fc4-4711-d6cb-c838d91e1941"
      },
      "outputs": [
        {
          "name": "stdout",
          "output_type": "stream",
          "text": [
            "{'a': 1, 'b': 2, 'c': 3}\n"
          ]
        }
      ],
      "source": [
        "plain_dict = {'a':1,'b':2,'c':3}\n",
        "print(plain_dict)"
      ]
    },
    {
      "cell_type": "markdown",
      "id": "096c1b21",
      "metadata": {
        "id": "096c1b21"
      },
      "source": [
        "#### 6.Make an OrderedDict called fancy from the same pairs listed in 5 and print it. Did it print in the same order as plain?"
      ]
    },
    {
      "cell_type": "code",
      "execution_count": 1,
      "id": "dd606af8",
      "metadata": {
        "colab": {
          "base_uri": "https://localhost:8080/"
        },
        "id": "dd606af8",
        "outputId": "53f2ef7e-6a4a-47a9-b164-23cd69254268"
      },
      "outputs": [
        {
          "output_type": "execute_result",
          "data": {
            "text/plain": [
              "OrderedDict([('a', 1), ('b', 2), ('c', 3)])"
            ]
          },
          "metadata": {},
          "execution_count": 1
        }
      ],
      "source": [
        "# from collections import OrderedDict\n",
        "# fancy = OrderedDict(plain_dict)\n",
        "# print(f'plain_dict -> {plain_dict}')\n",
        "# print(f'fancy -> {fancy}')\n",
        "from collections import OrderedDict\n",
        "fancy = OrderedDict([('a', 1), ('b', 2), ('c', 3)])\n",
        "fancy"
      ]
    },
    {
      "cell_type": "markdown",
      "id": "e55d1c69",
      "metadata": {
        "id": "e55d1c69"
      },
      "source": [
        "#### 7. Make a default dictionary called dict_of_lists and pass it the argument list. Make the list dict_of_lists['a'] and append the value 'something for a' to it in one assignment. Print dict_of_lists['a']."
      ]
    },
    {
      "cell_type": "code",
      "execution_count": null,
      "id": "264fc2cd",
      "metadata": {
        "id": "264fc2cd",
        "outputId": "009a2756-a558-4196-cf31-665c89dabd87"
      },
      "outputs": [
        {
          "name": "stdout",
          "output_type": "stream",
          "text": [
            "['something for a']\n"
          ]
        }
      ],
      "source": [
        "from collections import defaultdict\n",
        "dict_of_lists = defaultdict(list)\n",
        "dict_of_lists['a'].append('something for a')\n",
        "print(dict_of_lists['a'])"
      ]
    }
  ],
  "metadata": {
    "kernelspec": {
      "display_name": "Python 3 (ipykernel)",
      "language": "python",
      "name": "python3"
    },
    "language_info": {
      "codemirror_mode": {
        "name": "ipython",
        "version": 3
      },
      "file_extension": ".py",
      "mimetype": "text/x-python",
      "name": "python",
      "nbconvert_exporter": "python",
      "pygments_lexer": "ipython3",
      "version": "3.8.8"
    },
    "colab": {
      "provenance": []
    }
  },
  "nbformat": 4,
  "nbformat_minor": 5
}