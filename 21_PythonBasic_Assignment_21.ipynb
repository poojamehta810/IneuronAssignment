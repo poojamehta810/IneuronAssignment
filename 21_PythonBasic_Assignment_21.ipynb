{
  "cells": [
    {
      "cell_type": "markdown",
      "id": "984b4513",
      "metadata": {
        "id": "984b4513"
      },
      "source": [
        "# Assignment 21 Solutions"
      ]
    },
    {
      "cell_type": "markdown",
      "id": "4fe8b19e",
      "metadata": {
        "id": "4fe8b19e"
      },
      "source": [
        "#### 1. Add the current date to the text file today.txt as a string."
      ]
    },
    {
      "cell_type": "code",
      "execution_count": 1,
      "id": "4c5ad5ac",
      "metadata": {
        "colab": {
          "base_uri": "https://localhost:8080/"
        },
        "id": "4c5ad5ac",
        "outputId": "70e4dd50-a05d-47c4-b016-76d94068122d"
      },
      "outputs": [
        {
          "output_type": "stream",
          "name": "stdout",
          "text": [
            "01-06-2023\n"
          ]
        }
      ],
      "source": [
        "import datetime\n",
        "# Code to Add current date to the today.txt file\n",
        "file = open('today.txt','w')\n",
        "file.write(datetime.datetime.now().strftime(\"%d-%m-%Y\"))\n",
        "file.close()\n",
        "# Code to Read current date from today.txt file\n",
        "file = open('today.txt','r')\n",
        "print(file.read())\n",
        "file.close()"
      ]
    },
    {
      "cell_type": "markdown",
      "id": "6cf23762",
      "metadata": {
        "id": "6cf23762"
      },
      "source": [
        "#### 2. Read the text file today.txt into the string today_string"
      ]
    },
    {
      "cell_type": "code",
      "execution_count": 3,
      "id": "107143ea",
      "metadata": {
        "colab": {
          "base_uri": "https://localhost:8080/"
        },
        "id": "107143ea",
        "outputId": "024abd64-966f-4cb0-8e65-160866fd51cc"
      },
      "outputs": [
        {
          "output_type": "stream",
          "name": "stdout",
          "text": [
            "01-06-2023\n"
          ]
        }
      ],
      "source": [
        "file1 = open('today.txt','r')\n",
        "today_string = file1.read()\n",
        "print(today_string)"
      ]
    },
    {
      "cell_type": "markdown",
      "id": "165addb6",
      "metadata": {
        "id": "165addb6"
      },
      "source": [
        "#### 3. Parse the date from today_string."
      ]
    },
    {
      "cell_type": "code",
      "execution_count": 4,
      "id": "c622da5b",
      "metadata": {
        "colab": {
          "base_uri": "https://localhost:8080/"
        },
        "id": "c622da5b",
        "outputId": "91a5caa8-3baf-45de-b2f8-94b1e3b1aa22"
      },
      "outputs": [
        {
          "output_type": "stream",
          "name": "stdout",
          "text": [
            "2023-06-01 00:00:00\n"
          ]
        }
      ],
      "source": [
        "from datetime import datetime\n",
        "parsed_data = datetime.strptime(today_string, '%d-%m-%Y')\n",
        "print(parsed_data)"
      ]
    },
    {
      "cell_type": "markdown",
      "id": "664d3278",
      "metadata": {
        "id": "664d3278"
      },
      "source": [
        "#### 4. List the files in your current directory"
      ]
    },
    {
      "cell_type": "code",
      "execution_count": 5,
      "id": "cbacd0e4",
      "metadata": {
        "colab": {
          "base_uri": "https://localhost:8080/"
        },
        "id": "cbacd0e4",
        "outputId": "6435a877-1174-43ca-e9fe-a5e1eed7bf1e"
      },
      "outputs": [
        {
          "output_type": "stream",
          "name": "stdout",
          "text": [
            "today.txt\n",
            "active_config\n",
            ".last_opt_in_prompt.yaml\n",
            ".last_survey_prompt.yaml\n",
            "gce\n",
            "config_sentinel\n",
            ".last_update_check.json\n",
            "config_default\n",
            "13.34.32.871043.log\n",
            "13.33.56.456723.log\n",
            "13.34.33.647428.log\n",
            "13.34.05.212064.log\n",
            "13.33.04.214144.log\n",
            "13.33.29.758467.log\n",
            "anscombe.json\n",
            "README.md\n",
            "california_housing_train.csv\n",
            "mnist_test.csv\n",
            "california_housing_test.csv\n",
            "mnist_train_small.csv\n"
          ]
        }
      ],
      "source": [
        "import os\n",
        "for folders, subfolders, files in os.walk(os.getcwd()):\n",
        "    for file in files:\n",
        "        print(file)"
      ]
    },
    {
      "cell_type": "markdown",
      "id": "291a203b",
      "metadata": {
        "id": "291a203b"
      },
      "source": [
        "#### 5. Create a list of all of the files in your parent directory (minimum five files should be available)."
      ]
    },
    {
      "cell_type": "code",
      "execution_count": 6,
      "id": "efe9618b",
      "metadata": {
        "colab": {
          "base_uri": "https://localhost:8080/"
        },
        "id": "efe9618b",
        "outputId": "7c037217-d6d5-40fd-f2ad-b3c5f5b19158"
      },
      "outputs": [
        {
          "output_type": "execute_result",
          "data": {
            "text/plain": [
              "['.config', 'today.txt', 'sample_data']"
            ]
          },
          "metadata": {},
          "execution_count": 6
        }
      ],
      "source": [
        "import os \n",
        "os.listdir()"
      ]
    },
    {
      "cell_type": "markdown",
      "id": "203dd9fe",
      "metadata": {
        "id": "203dd9fe"
      },
      "source": [
        "#### 6. Use multiprocessing to create three separate processes. Make each one wait a random number of seconds between one and five, print the current time, and then exit."
      ]
    },
    {
      "cell_type": "code",
      "execution_count": 7,
      "id": "bcb2799b",
      "metadata": {
        "colab": {
          "base_uri": "https://localhost:8080/"
        },
        "id": "bcb2799b",
        "outputId": "684be6ec-0adc-4e50-8920-d14f5a448d95"
      },
      "outputs": [
        {
          "output_type": "stream",
          "name": "stdout",
          "text": [
            "Proc_one_Starttime -> 2023-06-01 09:24:43.742341\n",
            "Proc_two_Starttime -> 2023-06-01 09:24:43.750673\n",
            "Proc_two_Starttime -> 2023-06-01 09:24:43.766817\n",
            "Proc_two_Endtime -> 2023-06-01 09:24:44.776659\n",
            "Proc_two_Endtime -> 2023-06-01 09:24:45.757682\n",
            "Proc_one_Endtime -> 2023-06-01 09:24:46.759217\n"
          ]
        }
      ],
      "source": [
        "import multiprocessing\n",
        "import time \n",
        "import random\n",
        "import datetime\n",
        "\n",
        "def procOne():\n",
        "    print(f'Proc_one_Starttime -> {datetime.datetime.now()}')\n",
        "    time.sleep(random.randint(1,5))\n",
        "    print(f'Proc_one_Endtime -> {datetime.datetime.now()}')\n",
        "    \n",
        "def procTwo():\n",
        "    print(f'Proc_two_Starttime -> {datetime.datetime.now()}')\n",
        "    time.sleep(random.randint(1,5))\n",
        "    print(f'Proc_two_Endtime -> {datetime.datetime.now()}')\n",
        "\n",
        "def procThree():\n",
        "    print(f'Proc_two_Starttime -> {datetime.datetime.now()}')\n",
        "    time.sleep(random.randint(1,5))\n",
        "    print(f'Proc_two_Endtime -> {datetime.datetime.now()}')\n",
        "    \n",
        "if __name__ == \"__main__\":    \n",
        "    p1 = multiprocessing.Process(target=procOne)\n",
        "    p2 = multiprocessing.Process(target=procTwo)\n",
        "    p3 = multiprocessing.Process(target=procThree)\n",
        "\n",
        "    p1.start()\n",
        "    p2.start()\n",
        "    p3.start()\n",
        "\n",
        "    p1.join()\n",
        "    p2.join()\n",
        "    p3.join()"
      ]
    },
    {
      "cell_type": "markdown",
      "id": "710ba830-38ca-4814-a28d-a266099ff07f",
      "metadata": {
        "id": "710ba830-38ca-4814-a28d-a266099ff07f"
      },
      "source": []
    },
    {
      "cell_type": "markdown",
      "id": "71d07e78",
      "metadata": {
        "id": "71d07e78"
      },
      "source": [
        "#### 7. Create a date object of your day of birth."
      ]
    },
    {
      "cell_type": "code",
      "execution_count": 8,
      "id": "b3e67c1c",
      "metadata": {
        "colab": {
          "base_uri": "https://localhost:8080/"
        },
        "id": "b3e67c1c",
        "outputId": "35d56527-22a3-4099-d983-d2664538c636"
      },
      "outputs": [
        {
          "output_type": "stream",
          "name": "stdout",
          "text": [
            "1985-10-08 00:00:00 <class 'datetime.datetime'>\n"
          ]
        }
      ],
      "source": [
        "from datetime import datetime\n",
        "my_dob = datetime.strptime('08/10/1985','%d/%m/%Y')\n",
        "print(my_dob, type(my_dob))"
      ]
    },
    {
      "cell_type": "markdown",
      "id": "e5775db9",
      "metadata": {
        "id": "e5775db9"
      },
      "source": [
        "#### 8. What day of the week was your day of birth?"
      ]
    },
    {
      "cell_type": "code",
      "execution_count": 10,
      "id": "65b6ae43",
      "metadata": {
        "colab": {
          "base_uri": "https://localhost:8080/",
          "height": 35
        },
        "id": "65b6ae43",
        "outputId": "41b5cf16-e392-41d1-d16e-84b0f45a7ac2"
      },
      "outputs": [
        {
          "output_type": "execute_result",
          "data": {
            "text/plain": [
              "'Tuesday'"
            ],
            "application/vnd.google.colaboratory.intrinsic+json": {
              "type": "string"
            }
          },
          "metadata": {},
          "execution_count": 10
        }
      ],
      "source": [
        "from datetime import datetime\n",
        "my_dob = datetime(1985,10,8)\n",
        "my_dob.strftime(\"%A\")"
      ]
    },
    {
      "cell_type": "markdown",
      "id": "abe779de",
      "metadata": {
        "id": "abe779de"
      },
      "source": [
        "#### 9. When will you be (or when were you) 10,000 days old?"
      ]
    },
    {
      "cell_type": "code",
      "execution_count": 12,
      "id": "db7e28a0",
      "metadata": {
        "colab": {
          "base_uri": "https://localhost:8080/"
        },
        "id": "db7e28a0",
        "outputId": "ee8d3487-bb27-4593-9561-2edc123059b8"
      },
      "outputs": [
        {
          "output_type": "execute_result",
          "data": {
            "text/plain": [
              "datetime.datetime(1958, 5, 23, 0, 0)"
            ]
          },
          "metadata": {},
          "execution_count": 12
        }
      ],
      "source": [
        "from datetime import datetime, timedelta\n",
        "my_dob = datetime.strptime(\"08/10/1985\",'%d/%m/%Y')\n",
        "future_date = my_dob-timedelta(10000)\n",
        "future_date"
      ]
    }
  ],
  "metadata": {
    "kernelspec": {
      "display_name": "Python 3",
      "language": "python",
      "name": "python3"
    },
    "language_info": {
      "codemirror_mode": {
        "name": "ipython",
        "version": 3
      },
      "file_extension": ".py",
      "mimetype": "text/x-python",
      "name": "python",
      "nbconvert_exporter": "python",
      "pygments_lexer": "ipython3",
      "version": "3.8.8"
    },
    "colab": {
      "provenance": []
    }
  },
  "nbformat": 4,
  "nbformat_minor": 5
}