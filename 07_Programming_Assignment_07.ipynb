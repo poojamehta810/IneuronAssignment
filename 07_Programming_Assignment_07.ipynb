{
  "cells": [
    {
      "cell_type": "markdown",
      "id": "d3a4bb27",
      "metadata": {
        "id": "d3a4bb27"
      },
      "source": [
        "# Assignment 7 Solutions"
      ]
    },
    {
      "cell_type": "markdown",
      "id": "823845d3",
      "metadata": {
        "id": "823845d3"
      },
      "source": [
        "#### 1. Write a Python Program to find sum of Array ?"
      ]
    },
    {
      "cell_type": "code",
      "execution_count": 1,
      "id": "6dd2fd5c",
      "metadata": {
        "colab": {
          "base_uri": "https://localhost:8080/"
        },
        "id": "6dd2fd5c",
        "outputId": "e07e95c1-1e5c-4adf-9212-208d39170df2"
      },
      "outputs": [
        {
          "output_type": "stream",
          "name": "stdout",
          "text": [
            "Enter the Array: 4,3,2,5,1\n",
            "The sum of (4, 3, 2, 5, 1) is 15\n"
          ]
        }
      ],
      "source": [
        "in_arr = eval(input(\"Enter the Array: \"))\n",
        "print(f'The sum of {in_arr} is {sum(in_arr)}')\n",
        "\n"
      ]
    },
    {
      "cell_type": "markdown",
      "id": "9e6c1983",
      "metadata": {
        "id": "9e6c1983"
      },
      "source": [
        "#### 2. Write a Python Program to find Largest element in an Array ?"
      ]
    },
    {
      "cell_type": "code",
      "execution_count": 3,
      "id": "e5c57cb3",
      "metadata": {
        "colab": {
          "base_uri": "https://localhost:8080/"
        },
        "id": "e5c57cb3",
        "outputId": "2cef1c3b-3196-40a0-ef37-5771d06aee07"
      },
      "outputs": [
        {
          "output_type": "stream",
          "name": "stdout",
          "text": [
            "Enter the Array: 4,2,45,23,23\n",
            "The Largest Element in (4, 2, 45, 23, 23) is 45\n"
          ]
        }
      ],
      "source": [
        "in_arr = eval(input(\"Enter the Array: \"))\n",
        "print(f\"The Largest Element in {in_arr} is {sorted(in_arr, reverse=True)[0]}\")\n",
        "    \n"
      ]
    },
    {
      "cell_type": "markdown",
      "id": "c2705b7d",
      "metadata": {
        "id": "c2705b7d"
      },
      "source": [
        "#### 3. Write a Python Program for array rotation ?"
      ]
    },
    {
      "cell_type": "code",
      "execution_count": 4,
      "id": "08afb7ff",
      "metadata": {
        "colab": {
          "base_uri": "https://localhost:8080/"
        },
        "id": "08afb7ff",
        "outputId": "ef86b13d-113d-486c-c5e5-a7f8406be3fa"
      },
      "outputs": [
        {
          "output_type": "stream",
          "name": "stdout",
          "text": [
            "Enter the Array: 45,23,11,10,2,34\n",
            "The Reverse of Array (45, 23, 11, 10, 2, 34) is (34, 2, 10, 11, 23, 45)\n"
          ]
        }
      ],
      "source": [
        "in_arr = eval(input(\"Enter the Array: \"))\n",
        "print(f\"The Reverse of Array {in_arr} is {in_arr[::-1]}\")\n",
        "    \n"
      ]
    },
    {
      "cell_type": "markdown",
      "id": "5b6207c1",
      "metadata": {
        "id": "5b6207c1"
      },
      "source": [
        "#### 4. Write a Python Program to Split the array and add the first part to the end ?"
      ]
    },
    {
      "cell_type": "code",
      "execution_count": 5,
      "id": "d6e5de3d",
      "metadata": {
        "colab": {
          "base_uri": "https://localhost:8080/"
        },
        "id": "d6e5de3d",
        "outputId": "aeb5bab5-46b9-4651-8292-49325e5d75fe"
      },
      "outputs": [
        {
          "output_type": "stream",
          "name": "stdout",
          "text": [
            "Enter the Array: 4,32,12,13,45,67\n",
            "The Sum of First and Last Elements of Array (4, 32, 12, 13, 45, 67) is 71\n"
          ]
        }
      ],
      "source": [
        "in_arr = eval(input(\"Enter the Array: \"))\n",
        "print(f\"The Sum of First and Last Elements of Array {in_arr} is {in_arr[0]+in_arr[-1]}\")\n",
        "   \n"
      ]
    },
    {
      "cell_type": "markdown",
      "id": "eb0e084d",
      "metadata": {
        "id": "eb0e084d"
      },
      "source": [
        "#### 5. Write a Python Program to check if given array is Monotonic ?"
      ]
    },
    {
      "cell_type": "code",
      "execution_count": 7,
      "id": "08c0196d",
      "metadata": {
        "colab": {
          "base_uri": "https://localhost:8080/"
        },
        "id": "08c0196d",
        "outputId": "12235b45-778b-4b13-9c81-2a5b74db3da2"
      },
      "outputs": [
        {
          "output_type": "stream",
          "name": "stdout",
          "text": [
            "Enter the Array: 34,2,1,23,45,\n",
            "Array (34, 2, 1, 23, 45) is Not Monotonic\n"
          ]
        }
      ],
      "source": [
        "\n",
        "in_arr = eval(input(\"Enter the Array: \"))\n",
        "if(all(in_arr[i]<=in_arr[i+1] for i in range(len(in_arr)-1)) or all(in_arr[i]>=in_arr[i+1] for i in range(len(in_arr)-1))):\n",
        "  print(f'Array {in_arr} is Monotonic')\n",
        "else:\n",
        "  print(f'Array {in_arr} is Not Monotonic')\n"
      ]
    }
  ],
  "metadata": {
    "kernelspec": {
      "display_name": "Python 3 (ipykernel)",
      "language": "python",
      "name": "python3"
    },
    "language_info": {
      "codemirror_mode": {
        "name": "ipython",
        "version": 3
      },
      "file_extension": ".py",
      "mimetype": "text/x-python",
      "name": "python",
      "nbconvert_exporter": "python",
      "pygments_lexer": "ipython3",
      "version": "3.8.8"
    },
    "colab": {
      "provenance": []
    }
  },
  "nbformat": 4,
  "nbformat_minor": 5
}