{
  "cells": [
    {
      "cell_type": "markdown",
      "id": "62dc089c",
      "metadata": {
        "id": "62dc089c"
      },
      "source": [
        "# Assignment 15 Solutions"
      ]
    },
    {
      "cell_type": "markdown",
      "id": "3ea2824c",
      "metadata": {
        "id": "3ea2824c"
      },
      "source": [
        "#### 1. Please write a program using generator to print the numbers which can be divisible by 5 and 7 between 0 and n in comma separated form while n is input by console ?  \n",
        "**Example:**  \n",
        "If the following n is given as input to the program: `100`  \n",
        "Then, the output of the program should be: `0,35,70`  "
      ]
    },
    {
      "cell_type": "code",
      "execution_count": null,
      "id": "1fb66583",
      "metadata": {
        "id": "1fb66583",
        "outputId": "a80b8a4d-33e2-4ecf-f092-32635d9aa06d"
      },
      "outputs": [
        {
          "name": "stdout",
          "output_type": "stream",
          "text": [
            "0 35 70 "
          ]
        }
      ],
      "source": [
        "def showDivisible(in_num):\n",
        "    for ele in range(0,in_num):\n",
        "        if (ele%5 == 0) and (ele%7 == 0):\n",
        "            yield ele\n",
        "for ele in showDivisible(100):\n",
        "    print(ele,end=' ')"
      ]
    },
    {
      "cell_type": "markdown",
      "id": "22fd82eb",
      "metadata": {
        "id": "22fd82eb"
      },
      "source": [
        "#### 2.Please write a program using generator to print the even numbers between 0 and n in comma separated form while n is input by console ?\n",
        "**Example:**  \n",
        "If the following n is given as input to the program: `10`  \n",
        "Then, the output of the program should be: `0,2,4,6,8,10`"
      ]
    },
    {
      "cell_type": "code",
      "execution_count": 2,
      "id": "3e415e4c",
      "metadata": {
        "colab": {
          "base_uri": "https://localhost:8080/"
        },
        "id": "3e415e4c",
        "outputId": "732fc376-1ede-468f-9be4-3bcd5cad3560"
      },
      "outputs": [
        {
          "output_type": "stream",
          "name": "stdout",
          "text": [
            "0 2 4 6 8 10 "
          ]
        }
      ],
      "source": [
        "def genEvenNumbers(in_num):\n",
        "    for ele in range(in_num+1):\n",
        "        if ele%2 == 0:\n",
        "            yield ele\n",
        "\n",
        "for ele in genEvenNumbers(10):\n",
        "    print(ele,end=' ')"
      ]
    },
    {
      "cell_type": "markdown",
      "id": "549ded1e",
      "metadata": {
        "id": "549ded1e"
      },
      "source": [
        "#### 3.The Fibonacci Sequence is computed based on the following formula below, Please write a program using list comprehension to print the Fibonacci Sequence in comma separated form with a given n input by console ?\n",
        "`f(n)=0 if n=0\n",
        "f(n)=1 if n=1\n",
        "f(n)=f(n-1)+f(n-2) if n>1` "
      ]
    },
    {
      "cell_type": "code",
      "execution_count": null,
      "id": "90585ee0",
      "metadata": {
        "id": "90585ee0",
        "outputId": "a4702457-13b9-4c1f-b51d-35731922bcbf"
      },
      "outputs": [
        {
          "name": "stdout",
          "output_type": "stream",
          "text": [
            "[0, 1, 1, 2, 3, 5, 8, 13, 21, 34, 55, 89, 144, 233, 377, 610, 987, 1597, 2584, 4181]\n"
          ]
        }
      ],
      "source": [
        "def genFibonaci(in_num):\n",
        "    if in_num == 0:\n",
        "        return 0\n",
        "    elif in_num == 1:\n",
        "        return 1\n",
        "    else:\n",
        "        return genFibonaci(in_num-1)+genFibonaci(in_num-2)\n",
        "    \n",
        "print([genFibonaci(x) for x in range(20)])"
      ]
    },
    {
      "cell_type": "markdown",
      "id": "03d71fc6",
      "metadata": {
        "id": "03d71fc6"
      },
      "source": [
        "#### 4.Assuming that we have some email addresses in the \"username@companyname.com\" format, please write program to print the user name of a given email address. Both user names and company names are composed of letters only ?\n",
        "**Example:**   \n",
        "If the following email address is given as input to the program: `john@google.com`   \n",
        "Then, the output of the program should be: `john`"
      ]
    },
    {
      "cell_type": "code",
      "execution_count": 5,
      "id": "63af57a3",
      "metadata": {
        "colab": {
          "base_uri": "https://localhost:8080/"
        },
        "id": "63af57a3",
        "outputId": "2ae7e8da-6e30-480e-b19a-b4cc29b9ddec"
      },
      "outputs": [
        {
          "output_type": "stream",
          "name": "stdout",
          "text": [
            "Enter Email Address(es): poojamehta810@gmail.com\n",
            "Username of poojamehta810@gmail.com is poojamehta810\n",
            "Enter Email Address(es): ghjkk\n",
            "Username of ghjkk is ghjkk\n",
            "Enter Email Address(es): parthmehta@gmail.com\n",
            "Username of parthmehta@gmail.com is parthmehta\n"
          ]
        }
      ],
      "source": [
        "def getUsernames():\n",
        "    in_string = input('Enter Email Address(es): ')\n",
        "    out_string = in_string.split('@')\n",
        "    print(f'Username of {in_string} is {out_string[0]}')\n",
        "\n",
        "for i in range(3):\n",
        "    getUsernames()"
      ]
    },
    {
      "cell_type": "markdown",
      "id": "8fbb0d51",
      "metadata": {
        "id": "8fbb0d51"
      },
      "source": [
        "#### 5.Define a class named Shape and its subclass Square. The Square class has an init function which takes a length as argument. Both classes have a area function which can print the area of the shape where Shape's area is 0 by default."
      ]
    },
    {
      "cell_type": "code",
      "execution_count": 6,
      "id": "edcee9a6",
      "metadata": {
        "colab": {
          "base_uri": "https://localhost:8080/"
        },
        "id": "edcee9a6",
        "outputId": "075c1c14-c6d0-413b-f647-05a3fc0a0ba8"
      },
      "outputs": [
        {
          "output_type": "stream",
          "name": "stdout",
          "text": [
            "25\n",
            "0\n"
          ]
        }
      ],
      "source": [
        "\n",
        "class Shape():\n",
        "    def __init__(self):\n",
        "        pass\n",
        "\n",
        "    def area(self):\n",
        "        return 0\n",
        "\n",
        "class Square(Shape):\n",
        "    def __init__(self,length = 0):\n",
        "        Shape.__init__(self)\n",
        "        self.length = length\n",
        "\n",
        "    def area(self):\n",
        "        return self.length*self.length\n",
        "\n",
        "Asqr = Square(5)\n",
        "print(Asqr.area())      # prints 25 as given argument\n",
        "\n",
        "print(Square().area())  # prints zer"
      ]
    }
  ],
  "metadata": {
    "kernelspec": {
      "display_name": "Python 3 (ipykernel)",
      "language": "python",
      "name": "python3"
    },
    "language_info": {
      "codemirror_mode": {
        "name": "ipython",
        "version": 3
      },
      "file_extension": ".py",
      "mimetype": "text/x-python",
      "name": "python",
      "nbconvert_exporter": "python",
      "pygments_lexer": "ipython3",
      "version": "3.8.8"
    },
    "colab": {
      "provenance": []
    }
  },
  "nbformat": 4,
  "nbformat_minor": 5
}