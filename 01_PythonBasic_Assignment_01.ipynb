{
  "cells": [
    {
      "cell_type": "markdown",
      "metadata": {
        "id": "Brw4mGAf0Qcm"
      },
      "source": [
        "# Assignment 1 Solutions"
      ]
    },
    {
      "cell_type": "markdown",
      "metadata": {
        "id": "xIjVM4Bt0Qcs"
      },
      "source": [
        "#### 1. In the below elements which of them are values or an expression? **eg:-** values can be integer or string and expressions will be mathematical operators.  \n",
        "`*`,`'hello'`, `-87.8`,`-`,`/`,`+`,`6`\n",
        "\n",
        "**Ans:** There are a total of 4 Operators and 3 Expressions, They are:  \n",
        "**Operators:** `*`,`-`,`/`,`+`  \n",
        "**Expressions:** `'hello'`, `87.8`, `6`"
      ]
    },
    {
      "cell_type": "markdown",
      "metadata": {
        "id": "DXaBwQdh0Qcs"
      },
      "source": [
        "#### 2. What is the difference between string and variable?\n",
        "**Ans:** A Variable is used to store of information and value, and a String is a type of information you would store in a Variable. A String is a group of characters or a single character usually enclosed in Double quotes `\" \"` or single quotes `' '`"
      ]
    },
    {
      "cell_type": "markdown",
      "metadata": {
        "id": "cHinNCX-0Qct"
      },
      "source": [
        "#### 3. Describe three different Data Types ?\n",
        "**Ans:** Three fundamental Data types in python are `int`, `float`, `complex`.\n",
        "1. **int data type**:  use int data type to represent whole numbers (integral values)\n",
        "2. **float data type**: use float data type to represent floating point values (decimal values)\n",
        "3. **complex data type**: Complex number is represented by complex class. It is specified as (real part) + (imaginary part)j. "
      ]
    },
    {
      "cell_type": "code",
      "execution_count": 1,
      "metadata": {
        "colab": {
          "base_uri": "https://localhost:8080/"
        },
        "id": "NvvY-TzW0Qct",
        "outputId": "db0178af-facc-4925-d7e1-01dffb7712d5"
      },
      "outputs": [
        {
          "output_type": "stream",
          "name": "stdout",
          "text": [
            "45678 <class 'int'>\n",
            "2200.0 <class 'float'>\n",
            "(10+1.5j) <class 'complex'>\n"
          ]
        }
      ],
      "source": [
        "# Example for int data type\n",
        "int_num=45678\n",
        "print(int_num, type(int_num))\n",
        "# Example for float data type\n",
        "flo_num=2.2e3\n",
        "print(flo_num, type(flo_num))\n",
        "# Example for Complex data type\n",
        "com_num=10+1.5j\n",
        "print(com_num, type(com_num))"
      ]
    },
    {
      "cell_type": "markdown",
      "metadata": {
        "id": "VKQCGkCT0Qcv"
      },
      "source": [
        "#### 4. What is an expression made up of? What do all expressions do?\n",
        "**Ans:** An expression is a combination of values, variables, operators, and calls to functions.\n",
        "    Expressions need to be evaluated. If we ask Python to print an expression, the interpreter \n",
        "    evaluates the expression and displays the result."
      ]
    },
    {
      "cell_type": "code",
      "execution_count": null,
      "metadata": {
        "id": "21X-lvRV0Qcw",
        "outputId": "37bcbdd6-9c0b-4e42-df15-c40f01d10f55"
      },
      "outputs": [
        {
          "data": {
            "text/plain": [
              "0"
            ]
          },
          "execution_count": 2,
          "metadata": {},
          "output_type": "execute_result"
        }
      ],
      "source": [
        "4*5+20-40 # Is an Expression, The Python Interpreter Evaluates it to 0"
      ]
    },
    {
      "cell_type": "markdown",
      "metadata": {
        "id": "RAPZ32Lt0Qcw"
      },
      "source": [
        "#### 5.This assignment statements, like spam = 10. What is the difference between an expression and a statement?\n",
        "**Ans:** An expression is a combination of values, variables, and operators.When we type an expression at the prompt, \n",
        "the interpreter evaluates it, which means that it finds the value of the expression.\n",
        "\n",
        "**eg:** 4*5+20-40 is an example of a statement\n",
        "\n",
        "A statement is a unit of code that has an effect, like creating a variable or displaying a value.When we type a statement,\n",
        "the interpreter executes it, which means that it does whatever the statement says. In general, statements don’t have values.\n",
        "\n",
        "**eg:** variable declaration and assignment are statements because they do not return a value"
      ]
    },
    {
      "cell_type": "code",
      "execution_count": 2,
      "metadata": {
        "colab": {
          "base_uri": "https://localhost:8080/"
        },
        "id": "dFWXKhKx0Qc7",
        "outputId": "eb9535d3-70a5-4871-8528-a53cd9449c13"
      },
      "outputs": [
        {
          "output_type": "stream",
          "name": "stdout",
          "text": [
            "Hello World.... !\n"
          ]
        }
      ],
      "source": [
        "#Example:\n",
        "4*5+20-40 # Is a Expression\n",
        "courseName = 'INeuron FullStack DataScience 2.0' # Is a Statement\n",
        "print(\"Hello World.... !\") # Is a Expression Statement"
      ]
    },
    {
      "cell_type": "markdown",
      "metadata": {
        "id": "Jx2lUHk_0Qc8"
      },
      "source": [
        "#### 6.After running the following code, what does the variable bacon contain?\n",
        "`bacon = 22`  \n",
        "`bacon + 1`\n",
        "\n",
        "**Ans:** The variable `bacon` is set to `22` .The expression `bacon + 1` does not reassign the value in\n",
        "bacon (that would the case if the expression is like `bacon = bacon + 1` instead of `bacon + 1`)"
      ]
    },
    {
      "cell_type": "code",
      "execution_count": null,
      "metadata": {
        "id": "RuqPAZhA0Qc8",
        "outputId": "baa393e5-2700-4da7-82f8-278dbb064c39"
      },
      "outputs": [
        {
          "name": "stdout",
          "output_type": "stream",
          "text": [
            "22\n"
          ]
        }
      ],
      "source": [
        "# Example Case#1\n",
        "bacon=22\n",
        "bacon+1\n",
        "print(bacon)"
      ]
    },
    {
      "cell_type": "code",
      "execution_count": null,
      "metadata": {
        "id": "TyPB59JV0Qc8",
        "outputId": "ec9caeb7-95fb-485c-ca9a-d45456b012c2"
      },
      "outputs": [
        {
          "name": "stdout",
          "output_type": "stream",
          "text": [
            "23\n"
          ]
        }
      ],
      "source": [
        "#Example Case#2\n",
        "bacon=22\n",
        "bacon=bacon+1 \n",
        "print(bacon)"
      ]
    },
    {
      "cell_type": "markdown",
      "metadata": {
        "id": "hwbAFreF0Qc9"
      },
      "source": [
        "#### 7.What should the values of the following two terms be?  \n",
        "`'spam'+'spamspam'`  \n",
        "`'spam'*3`\n",
        "\n",
        "**Ans:** Both expressions evaluate to the string **`'spamspamspam'`**\n",
        "Where as the first expression follows `String Concatentation` and the second expression follows `String Multiplication`"
      ]
    },
    {
      "cell_type": "code",
      "execution_count": null,
      "metadata": {
        "id": "sRIzHXDs0Qc9",
        "outputId": "6b755f19-d1c8-4b3a-fc09-766ddbf7d0d5"
      },
      "outputs": [
        {
          "name": "stdout",
          "output_type": "stream",
          "text": [
            "spamspamspam\n",
            "spamspamspam\n"
          ]
        }
      ],
      "source": [
        "print('spam'+'spamspam') # string concatenation\n",
        "print('spam'*3) # string multiplication"
      ]
    },
    {
      "cell_type": "markdown",
      "metadata": {
        "id": "wRsdr5ZM0Qc-"
      },
      "source": [
        "#### 8. Why is eggs a valid variable name while 100 is invalid?\n",
        "**Ans:** As per python,Variable names cannot begin with a number. The python rules for naming a variable are :- \n",
        "1. Variable name must start with a letter or the underscore character.\n",
        "2. Variable name cannot start with a number.\n",
        "3. Variable name can only contain alpha-numeric characters and underscores (A-z, 0-9, & _ ).\n",
        "4. Variable names are case-sensitive (name, `INEURON` and `ineuron` are three different variables).\n",
        "5. The reserved words(keywords) cannot be used naming the variable."
      ]
    },
    {
      "cell_type": "code",
      "execution_count": null,
      "metadata": {
        "id": "MQiJHbVZ0Qc-",
        "outputId": "b7c39c54-e52b-4c9e-bda4-51830a83e700"
      },
      "outputs": [
        {
          "ename": "SyntaxError",
          "evalue": "cannot assign to literal (<ipython-input-7-dbb106b946bd>, line 2)",
          "output_type": "error",
          "traceback": [
            "\u001b[1;36m  File \u001b[1;32m\"<ipython-input-7-dbb106b946bd>\"\u001b[1;36m, line \u001b[1;32m2\u001b[0m\n\u001b[1;33m    100='hello' # Invalid Variable Initilization\u001b[0m\n\u001b[1;37m    ^\u001b[0m\n\u001b[1;31mSyntaxError\u001b[0m\u001b[1;31m:\u001b[0m cannot assign to literal\n"
          ]
        }
      ],
      "source": [
        "egg='Ineuron' # Valid variable Initilization\n",
        "100='hello' # Invalid Variable Initilization\n",
        "print(egg) #prints the value of egg ie Ineuron\n",
        "print(100) # Raises a Syntax Error as 100 is not a valid variable name"
      ]
    },
    {
      "cell_type": "markdown",
      "metadata": {
        "id": "XNzPkdS_0Qc-"
      },
      "source": [
        "#### 9.What three functions can be used to get the integer,floating-point number,or string version of a value?\n",
        "**Ans:** The `int()`,`float()`,and `str()` functions will evaluate to the integer,floating-point number,string version of the value passed to them."
      ]
    },
    {
      "cell_type": "code",
      "execution_count": null,
      "metadata": {
        "id": "9kWnJgYh0Qc_",
        "outputId": "5ceffd48-fe58-4f03-fa7b-53516f36929d"
      },
      "outputs": [
        {
          "name": "stdout",
          "output_type": "stream",
          "text": [
            "int(10.0) ->  10\n",
            "float(10) ->  10.0\n",
            "str(10) ->  10\n"
          ]
        }
      ],
      "source": [
        "# Examples:\n",
        "print('int(10.0) -> ',int(10.0)) # int() function converts given input to int\n",
        "print('float(10) -> ',float(10)) # float() function converts given input to float\n",
        "print('str(10) -> ',str(10)) # str() function converts given input to string"
      ]
    },
    {
      "cell_type": "markdown",
      "metadata": {
        "id": "WJ8AKN-A0Qc_"
      },
      "source": [
        "#### 10.Why does this expression cause an error? how can you fix it?  \n",
        "`'I have eaten ' + 99 + 'burritos.'`\n",
        "\n",
        "**Ans:** This cause of error is 99.because 99 is not a string. 99 must be typecasted to a string to fix this error. the correct way is:  \n",
        "**Input:** `'I have eaten ' + str(99) + 'burritos.'`  \n",
        "**Output:** `'I have eaten 99 burritos.'`"
      ]
    },
    {
      "cell_type": "code",
      "execution_count": null,
      "metadata": {
        "id": "yk4qGtgZ0Qc_",
        "outputId": "f456bd06-6083-464b-97c1-10f97cd30100"
      },
      "outputs": [
        {
          "name": "stdout",
          "output_type": "stream",
          "text": [
            "I have eaten 99 burritos\n"
          ]
        }
      ],
      "source": [
        "print('I have eaten '+str(99)+' burritos')"
      ]
    }
  ],
  "metadata": {
    "kernelspec": {
      "display_name": "Python 3",
      "language": "python",
      "name": "python3"
    },
    "language_info": {
      "codemirror_mode": {
        "name": "ipython",
        "version": 3
      },
      "file_extension": ".py",
      "mimetype": "text/x-python",
      "name": "python",
      "nbconvert_exporter": "python",
      "pygments_lexer": "ipython3",
      "version": "3.8.8"
    },
    "colab": {
      "provenance": []
    }
  },
  "nbformat": 4,
  "nbformat_minor": 0
}