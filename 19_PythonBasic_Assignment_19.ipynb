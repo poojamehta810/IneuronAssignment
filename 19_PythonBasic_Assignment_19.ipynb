{
  "cells": [
    {
      "cell_type": "markdown",
      "id": "f5a3df2f",
      "metadata": {
        "id": "f5a3df2f"
      },
      "source": [
        "# Assignment 19 Solutions"
      ]
    },
    {
      "cell_type": "markdown",
      "id": "b81faea0",
      "metadata": {
        "id": "b81faea0"
      },
      "source": [
        "#### 1. Make a class called Thing with no contents and print it. Then, create an object called example from this class and also print it. Are the printed values the same or different?"
      ]
    },
    {
      "cell_type": "code",
      "execution_count": 1,
      "id": "ca6baf51",
      "metadata": {
        "colab": {
          "base_uri": "https://localhost:8080/"
        },
        "id": "ca6baf51",
        "outputId": "2383af59-b877-4d68-a3c4-9ee6be4e1061"
      },
      "outputs": [
        {
          "output_type": "stream",
          "name": "stdout",
          "text": [
            "<class '__main__.Thing'>\n",
            "<__main__.Thing object at 0x7f618d96e5f0>\n"
          ]
        }
      ],
      "source": [
        "class Thing:\n",
        "    pass\n",
        "\n",
        "print(Thing)\n",
        "\n",
        "example = Thing()\n",
        "print(example)"
      ]
    },
    {
      "cell_type": "markdown",
      "id": "a72ea27d",
      "metadata": {
        "id": "a72ea27d"
      },
      "source": [
        "#### 2. Create a new class called Thing2 and add the value 'abc' to the letters class attribute. Letters should be printed."
      ]
    },
    {
      "cell_type": "code",
      "execution_count": null,
      "id": "2884a385",
      "metadata": {
        "id": "2884a385",
        "outputId": "0b93683c-df16-445f-9ec2-d0745bf74e22"
      },
      "outputs": [
        {
          "name": "stdout",
          "output_type": "stream",
          "text": [
            "abc\n"
          ]
        }
      ],
      "source": [
        "class Thing2:\n",
        "    letters = 'abc'\n",
        "    \n",
        "print(Thing2.letters)"
      ]
    },
    {
      "cell_type": "markdown",
      "id": "5a9babc7",
      "metadata": {
        "id": "5a9babc7"
      },
      "source": [
        "#### 3. Make yet another class called, of course, Thing3. This time, assign the value 'xyz' to an instance (object) attribute called letters. Print letters. Do you need to make an object from the class to do this?"
      ]
    },
    {
      "cell_type": "code",
      "execution_count": null,
      "id": "2431604e",
      "metadata": {
        "id": "2431604e",
        "outputId": "590a48aa-763e-4b3c-d48e-8a69ac2e5b1a"
      },
      "outputs": [
        {
          "name": "stdout",
          "output_type": "stream",
          "text": [
            "xyz\n"
          ]
        }
      ],
      "source": [
        "class Thing3:    \n",
        "    def __init__(self):\n",
        "        self.letters = 'xyz'\n",
        "        \n",
        "try:        \n",
        "    print(Thing3.letters) # Will raise a syntax Error\n",
        "except:\n",
        "    my_thing = Thing3()\n",
        "    print(my_thing.letters)"
      ]
    },
    {
      "cell_type": "markdown",
      "id": "7b7c745d",
      "metadata": {
        "id": "7b7c745d"
      },
      "source": [
        "#### 4. Create an Element class with the instance attributes name, symbol, and number. Create a class object with the values 'Hydrogen,' 'H,' and 1."
      ]
    },
    {
      "cell_type": "code",
      "execution_count": 2,
      "id": "5d1706be",
      "metadata": {
        "id": "5d1706be"
      },
      "outputs": [],
      "source": [
        "class Element:   \n",
        "    def __init__(self, name, symbol, number):\n",
        "        self.name = name\n",
        "        self.symbol = symbol\n",
        "        self.number = number\n",
        "\n",
        "my_elements = Element('Hydrogen','H',1)"
      ]
    },
    {
      "cell_type": "markdown",
      "id": "6e689470",
      "metadata": {
        "id": "6e689470"
      },
      "source": [
        "#### 5. Make a dictionary with these keys and values: 'name': 'Hydrogen', 'symbol': 'H', 'number': 1. Then, create an object called hydrogen from class Element using this dictionary."
      ]
    },
    {
      "cell_type": "code",
      "execution_count": 3,
      "id": "449c5a72",
      "metadata": {
        "colab": {
          "base_uri": "https://localhost:8080/"
        },
        "id": "449c5a72",
        "outputId": "64eb0d75-ddd5-4750-d7a2-087f98ec1f10"
      },
      "outputs": [
        {
          "output_type": "stream",
          "name": "stdout",
          "text": [
            "{'name': 'Hydrogen', 'symbol': 'H', 'number': 1}\n",
            "Dictionary ->\tHydrogen\tH\t1\n"
          ]
        }
      ],
      "source": [
        "custom_dict = {'name':'Hydrogen','symbol':'H','number':1}\n",
        "print(custom_dict)\n",
        "\n",
        "\n",
        "hydrogen = Element(**custom_dict)\n",
        "print('Dictionary ->',hydrogen.name,hydrogen.symbol,hydrogen.number, sep='\\t')"
      ]
    },
    {
      "cell_type": "markdown",
      "id": "29fcbd3c",
      "metadata": {
        "id": "29fcbd3c"
      },
      "source": [
        "#### 6. For the Element class, define a method called dump() that prints the values of the object’s attributes (name, symbol, and number). Create the hydrogen object from this new definition and use dump() to print its attributes."
      ]
    },
    {
      "cell_type": "code",
      "execution_count": null,
      "id": "29f1c595",
      "metadata": {
        "id": "29f1c595",
        "outputId": "6e843146-1da3-4836-f548-ebdce30c5610"
      },
      "outputs": [
        {
          "name": "stdout",
          "output_type": "stream",
          "text": [
            "Hydrogen H 1\n"
          ]
        }
      ],
      "source": [
        "class Element:\n",
        "    def __init__(self, name, symbol, number):\n",
        "        self.name = name\n",
        "        self.symbol = symbol\n",
        "        self.number = number      \n",
        "    def dump(self):\n",
        "        print(self.name, self.symbol, self.number)\n",
        "        \n",
        "hydrogen = Element('Hydrogen','H',1)\n",
        "hydrogen.dump()"
      ]
    },
    {
      "cell_type": "markdown",
      "id": "6ac60e69",
      "metadata": {
        "id": "6ac60e69"
      },
      "source": [
        "#### 7. Call print(hydrogen). In the definition of Element, change the name of method dump to `__str__`, create a new hydrogen object, and call print(hydrogen) again."
      ]
    },
    {
      "cell_type": "code",
      "execution_count": 4,
      "id": "dcf913a7",
      "metadata": {
        "colab": {
          "base_uri": "https://localhost:8080/"
        },
        "id": "dcf913a7",
        "outputId": "b31032e0-09ed-4a5f-d287-f53666db9a32"
      },
      "outputs": [
        {
          "output_type": "stream",
          "name": "stdout",
          "text": [
            "<__main__.Element object at 0x7f618d96f3a0>\n",
            "name=Hydrogen, symbol=H, number=1\n"
          ]
        }
      ],
      "source": [
        "print(hydrogen)\n",
        "\n",
        "class Element:\n",
        "    def __init__(self, name, symbol, number):\n",
        "        self.name = name\n",
        "        self.symbol = symbol\n",
        "        self.number = number      \n",
        "    def __str__(self):\n",
        "        \n",
        "         return ('name=%s, symbol=%s, number=%s' %(self.name, self.symbol, self.number))\n",
        "        \n",
        "Hydrogen = Element('Hydrogen','H',1)\n",
        "print(Hydrogen)"
      ]
    },
    {
      "cell_type": "markdown",
      "id": "77fe6e98",
      "metadata": {
        "id": "77fe6e98"
      },
      "source": [
        "#### 8. Modify Element to make the attributes name, symbol, and number private. Define a getter property for each to return its value."
      ]
    },
    {
      "cell_type": "code",
      "execution_count": 6,
      "id": "db24fe38",
      "metadata": {
        "colab": {
          "base_uri": "https://localhost:8080/"
        },
        "id": "db24fe38",
        "outputId": "37f54cc1-e7b9-4ed2-dd0e-008ee8e7604d"
      },
      "outputs": [
        {
          "output_type": "stream",
          "name": "stdout",
          "text": [
            "Hydrogen\n",
            "H\n",
            "1\n"
          ]
        }
      ],
      "source": [
        "class Element:\n",
        "    def __init__(self,name,symbol,number):\n",
        "        self.__name = name\n",
        "        self.__symbol = symbol\n",
        "        self.__number = number\n",
        "    \n",
        "    @property\n",
        "    def name(self):\n",
        "        return self.__name\n",
        "    \n",
        "    @property\n",
        "    def symbol(self):\n",
        "        return self.__symbol\n",
        "    \n",
        "    @property\n",
        "    def number(self):\n",
        "        return self.__number\n",
        "    \n",
        "hydrogen = Element('Hydrogen','H',1)\n",
        "print(hydrogen.name)\n",
        "print(hydrogen.symbol)\n",
        "print(hydrogen.number)"
      ]
    },
    {
      "cell_type": "markdown",
      "id": "99ebba53",
      "metadata": {
        "id": "99ebba53"
      },
      "source": [
        "#### 9. Define three classes: Bear, Rabbit, and Octothorpe. For each, define only one method: eats(). This should return 'berries' (Bear), 'clover' (Rabbit), or 'campers' (Octothorpe). Create one object from each and print what it eats."
      ]
    },
    {
      "cell_type": "code",
      "execution_count": 7,
      "id": "c3d62d48",
      "metadata": {
        "colab": {
          "base_uri": "https://localhost:8080/"
        },
        "id": "c3d62d48",
        "outputId": "7a42bca3-a46b-4b50-d200-6646031e995d"
      },
      "outputs": [
        {
          "output_type": "stream",
          "name": "stdout",
          "text": [
            "berries\n",
            "clover\n",
            "campers\n"
          ]
        }
      ],
      "source": [
        "class Bear:\n",
        "    def eats(self):\n",
        "        print('berries')\n",
        "class Rabbit:\n",
        "    def eats(self):\n",
        "        print('clover')\n",
        "class Octothorpe:\n",
        "    def eats(self):\n",
        "        print('campers')\n",
        "        \n",
        "b1 = Bear()\n",
        "r1 = Rabbit()\n",
        "o1 = Octothorpe()\n",
        "\n",
        "b1.eats()\n",
        "r1.eats()\n",
        "o1.eats()"
      ]
    },
    {
      "cell_type": "markdown",
      "id": "0b4ae61e",
      "metadata": {
        "id": "0b4ae61e"
      },
      "source": [
        "#### 10. Define these classes: Laser, Claw, and SmartPhone. Each has only one method: does(). This returns 'disintegrate' (Laser), 'crush' (Claw), or 'ring' (SmartPhone). Then, define the class Robot that has one instance (object) of each of these. Define a does() method for the Robot that prints what its component objects do."
      ]
    },
    {
      "cell_type": "code",
      "execution_count": 8,
      "id": "cee9d108",
      "metadata": {
        "colab": {
          "base_uri": "https://localhost:8080/"
        },
        "id": "cee9d108",
        "outputId": "69c9bd63-dcd4-4344-ff7d-4fc599db219d"
      },
      "outputs": [
        {
          "output_type": "stream",
          "name": "stdout",
          "text": [
            "disintegrate crush ring\n"
          ]
        }
      ],
      "source": [
        "class Laser:\n",
        "    def does(self):\n",
        "        return 'disintegrate'\n",
        "class Claw:\n",
        "    def does(self):\n",
        "        return 'crush'\n",
        "class Smartphone:\n",
        "    def does(self):\n",
        "        return 'ring'\n",
        "class Robot:\n",
        "    def __init__(self):\n",
        "        self.laser = Laser()\n",
        "        self.claw = Claw()\n",
        "        self.smartphone = Smartphone()\n",
        "    def does(self):\n",
        "        print(self.laser.does(),self.claw.does(),self.smartphone.does())\n",
        "        \n",
        "r2d2 = Robot()\n",
        "r2d2.does()"
      ]
    }
  ],
  "metadata": {
    "kernelspec": {
      "display_name": "Python 3 (ipykernel)",
      "language": "python",
      "name": "python3"
    },
    "language_info": {
      "codemirror_mode": {
        "name": "ipython",
        "version": 3
      },
      "file_extension": ".py",
      "mimetype": "text/x-python",
      "name": "python",
      "nbconvert_exporter": "python",
      "pygments_lexer": "ipython3",
      "version": "3.8.8"
    },
    "colab": {
      "provenance": []
    }
  },
  "nbformat": 4,
  "nbformat_minor": 5
}