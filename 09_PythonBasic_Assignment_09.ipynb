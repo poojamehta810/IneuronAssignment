{
  "cells": [
    {
      "cell_type": "markdown",
      "id": "5e4896b3",
      "metadata": {
        "id": "5e4896b3"
      },
      "source": [
        "# Assignment 9 Solutions"
      ]
    },
    {
      "cell_type": "markdown",
      "id": "7a719726",
      "metadata": {
        "id": "7a719726"
      },
      "source": [
        "#### 1.To what does a relative path refer ?\n",
        "**Ans:** The relative path is the path to some file with respect to your current working directory (PWD).  \n",
        "**For example:** if Absolute path to a file called stuff.txt is: `C:/users/admin/docs/stuff.txt` If my PWD is `C:/users/admin/` , then the relative path to `stuff.txt` would be: `docs/stuff.txt`       \n",
        "**Note:** PWD + relative path = absolute path"
      ]
    },
    {
      "cell_type": "markdown",
      "id": "1e5a7601",
      "metadata": {
        "id": "1e5a7601"
      },
      "source": [
        "#### 2.Where does an absolute path start with your Operating System ?\n",
        "**Ans:** In Linux based systems the absolute path starts with **`/`**. Where as in Windows based systems absolute path starts with **`C:`**"
      ]
    },
    {
      "cell_type": "markdown",
      "id": "20cf4bf7",
      "metadata": {
        "id": "20cf4bf7"
      },
      "source": [
        "#### 3.What does the functions `os.getcwd()` and `os.chdir()` do ?\n",
        "**Ans:** `os.getcwd()` method tells us the location of current working directory (CWD). Whereas `os.chdir()` method in Python used to change the current working directory to specified path. These functions are similar to linux commands `pwd` and `cd`"
      ]
    },
    {
      "cell_type": "code",
      "execution_count": 6,
      "id": "b45b79f1",
      "metadata": {
        "colab": {
          "base_uri": "https://localhost:8080/",
          "height": 235
        },
        "id": "b45b79f1",
        "outputId": "79b51f24-25bc-4259-f35b-bc247a39d6ce"
      },
      "outputs": [
        {
          "output_type": "stream",
          "name": "stdout",
          "text": [
            "/content\n"
          ]
        },
        {
          "output_type": "error",
          "ename": "FileNotFoundError",
          "evalue": "ignored",
          "traceback": [
            "\u001b[0;31m---------------------------------------------------------------------------\u001b[0m",
            "\u001b[0;31mFileNotFoundError\u001b[0m                         Traceback (most recent call last)",
            "\u001b[0;32m<ipython-input-6-2876db7b08dd>\u001b[0m in \u001b[0;36m<cell line: 4>\u001b[0;34m()\u001b[0m\n\u001b[1;32m      2\u001b[0m \u001b[0mprint\u001b[0m\u001b[0;34m(\u001b[0m\u001b[0mos\u001b[0m\u001b[0;34m.\u001b[0m\u001b[0mgetcwd\u001b[0m\u001b[0;34m(\u001b[0m\u001b[0;34m)\u001b[0m\u001b[0;34m)\u001b[0m \u001b[0;31m# Prints the current Working Directory\u001b[0m\u001b[0;34m\u001b[0m\u001b[0;34m\u001b[0m\u001b[0m\n\u001b[1;32m      3\u001b[0m \u001b[0mpath\u001b[0m \u001b[0;34m=\u001b[0m \u001b[0;34mr'C:\\Users\\Pooja\\Documents'\u001b[0m\u001b[0;34m\u001b[0m\u001b[0;34m\u001b[0m\u001b[0m\n\u001b[0;32m----> 4\u001b[0;31m \u001b[0mos\u001b[0m\u001b[0;34m.\u001b[0m\u001b[0mchdir\u001b[0m\u001b[0;34m(\u001b[0m\u001b[0mpath\u001b[0m\u001b[0;34m)\u001b[0m\u001b[0;34m\u001b[0m\u001b[0;34m\u001b[0m\u001b[0m\n\u001b[0m\u001b[1;32m      5\u001b[0m \u001b[0mprint\u001b[0m\u001b[0;34m(\u001b[0m\u001b[0mos\u001b[0m\u001b[0;34m.\u001b[0m\u001b[0mgetcwd\u001b[0m\u001b[0;34m(\u001b[0m\u001b[0;34m)\u001b[0m\u001b[0;34m)\u001b[0m\u001b[0;34m\u001b[0m\u001b[0;34m\u001b[0m\u001b[0m\n",
            "\u001b[0;31mFileNotFoundError\u001b[0m: [Errno 2] No such file or directory: 'C:\\\\Users\\\\Pooja\\\\Documents'"
          ]
        }
      ],
      "source": [
        "import os\n",
        "print(os.getcwd()) # Prints the current Working Directory\n",
        "path = r'C:\\Users\\Pooja\\Documents'\n",
        "os.chdir(path)\n",
        "print(os.getcwd())"
      ]
    },
    {
      "cell_type": "markdown",
      "id": "ef89a436",
      "metadata": {
        "id": "ef89a436"
      },
      "source": [
        "#### 4.What are `.` and `..`  folders ?\n",
        "**Ans:** `.` Represents the Current Directory Whereas `..` Represents the Parent Directory of the Current Directory  \n",
        "**For Example:** \n",
        "if the below path is my absolute path:  \n",
        " \n",
        "` D:\\\\Ineuron-Assignment\\\\iNeuron Assignment Python  Basic\\\\Basic Python `\n",
        "Then `.` represents the path  \n",
        "`D:\\\\Ineuron-Assignment\\\\iNeuron Assignment Python  Basic\\\\Basic Python `\n",
        "Where as `..` represents the path \n",
        "`D:\\\\Ineuron-Assignment\\\\iNeuron Assignment Python  Basic`"
      ]
    },
    {
      "cell_type": "markdown",
      "id": "dc9559e2",
      "metadata": {
        "id": "dc9559e2"
      },
      "source": [
        "#### 5.In `C:\\bacon\\eggs\\spam.txt` which part is the dir name and which part is the base name ?\n",
        "**Ans:** For `C:\\bacon\\eggs\\spam.txt`  \n",
        "The dir name is `C:\\\\bacon\\\\eggs`  \n",
        "The Base name is `spam.txt`"
      ]
    },
    {
      "cell_type": "code",
      "execution_count": null,
      "id": "3e63e793",
      "metadata": {
        "id": "3e63e793",
        "outputId": "55ef2fcb-6394-415c-edd9-e29642833f2a"
      },
      "outputs": [
        {
          "name": "stdout",
          "output_type": "stream",
          "text": [
            "C:\\bacon\\eggs\n",
            "spam.txt\n"
          ]
        }
      ],
      "source": [
        "import os\n",
        "path = r'C:\\bacon\\eggs\\spam.txt'\n",
        "print(os.path.dirname(path))\n",
        "print(os.path.basename(path))"
      ]
    },
    {
      "cell_type": "markdown",
      "id": "edb97d1b",
      "metadata": {
        "id": "edb97d1b"
      },
      "source": [
        "#### 6.What are the three `mode` arguments that can be passed to the `open()` function ?\n",
        "**Ans:** A file can be Accessed in python using `open()` function. open function takes two arguments filename and mode of operation (optional). if mode is not provided the default mode of opening is read mode   \n",
        "So, the syntax being: **`open(filename, mode)`**\n",
        "* **`‘r’`** – Read Mode: This is the default mode for open(). The file is opened and a pointer is positioned at the beginning of the file’s content.\n",
        "* **`‘w’`** – Write Mode: Using this mode will overwrite any existing content in a file. If the given file does not exist, a new one will be created. \n",
        "* **`‘r+’`** – Read/Write Mode: Use this mode if you need to simultaneously read and write to a file.\n",
        "* **`‘a’`** – Append Mode: With this mode the user can append the data without overwriting any already existing data in the file. \n",
        "* **`‘a+’`** – Append and Read Mode: In this mode you can read and append the data without overwriting the original file.\n",
        "* **`‘x’`** – Exclusive Creating Mode: This mode is for the sole purpose of creating new files. Use this mode if you know the file to be written doesn’t exist beforehand."
      ]
    },
    {
      "cell_type": "markdown",
      "id": "a6250b7d",
      "metadata": {
        "id": "a6250b7d"
      },
      "source": [
        "#### 7.What happens if an existing file is opened in write mode ?\n",
        "**Ans:** Using this mode will overwrite any existing content in a file. If the given file does not exist, a new one will be created."
      ]
    },
    {
      "cell_type": "markdown",
      "id": "e76da392",
      "metadata": {
        "id": "e76da392"
      },
      "source": [
        "#### 8.How do you tell the difference between `read()` and `readlines()` ?\n",
        "**Ans:** The main difference is that **`read()`** will read the whole file at once and then print out the first characters that take up as many bytes as you specify in the parenthesis\n",
        "* Whereas the **`readline()`** that will read and print out only the first characters that take up as many bytes as you specify in the parenthesis. You may want to use readline() when you're reading files that are too big for your RAM.\n",
        "* The **`read()`** would treat each character in the file separately, meaning that the iteration would happen for every character.\n",
        "* The **`readline()`** function, on the other hand, only reads a single line of the file. This means that if the first line of the file were three lines long, the readline() function would only parse (or iterate/operate) on the first line of the file."
      ]
    },
    {
      "cell_type": "markdown",
      "id": "9e161992",
      "metadata": {
        "id": "9e161992"
      },
      "source": [
        "#### 9.What data structure does a shelf value resemble ?\n",
        "**Ans:** it contains key and values it represents dictionary."
      ]
    }
  ],
  "metadata": {
    "kernelspec": {
      "display_name": "Python 3",
      "language": "python",
      "name": "python3"
    },
    "language_info": {
      "codemirror_mode": {
        "name": "ipython",
        "version": 3
      },
      "file_extension": ".py",
      "mimetype": "text/x-python",
      "name": "python",
      "nbconvert_exporter": "python",
      "pygments_lexer": "ipython3",
      "version": "3.8.8"
    },
    "colab": {
      "provenance": []
    }
  },
  "nbformat": 4,
  "nbformat_minor": 5
}