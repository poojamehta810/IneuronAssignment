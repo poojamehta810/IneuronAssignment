{
  "cells": [
    {
      "cell_type": "markdown",
      "metadata": {
        "id": "gs_QMZGpwaN7"
      },
      "source": [
        "# Assignment 3 Solutions"
      ]
    },
    {
      "cell_type": "markdown",
      "metadata": {
        "id": "mFyraoZOwaOE"
      },
      "source": [
        "#### 1.Write a Python program to check if a Number is Positive, Negative or Zero ?"
      ]
    },
    {
      "cell_type": "code",
      "execution_count": 2,
      "metadata": {
        "colab": {
          "base_uri": "https://localhost:8080/"
        },
        "id": "Nwp-rB7uwaOF",
        "outputId": "66a7bd8a-591f-4974-af52-93824f1b5987"
      },
      "outputs": [
        {
          "output_type": "stream",
          "name": "stdout",
          "text": [
            "Enter a number: 6\n",
            "6 is a Postive number\n"
          ]
        }
      ],
      "source": [
        "num = int(input(\"Enter a number: \"))\n",
        "if num > 0:\n",
        "   print('{} is a Postive number'.format(num))\n",
        "elif num < 0:\n",
        "   print('{} is a Negative number'.format(num))\n",
        "else:\n",
        "   print(\"Number is Zero\")\n",
        "        \n",
        "\n"
      ]
    },
    {
      "cell_type": "markdown",
      "metadata": {
        "id": "n8Fs_Y64waOI"
      },
      "source": [
        "#### 2.Write a Python program to check if a Number is Odd or Even ?"
      ]
    },
    {
      "cell_type": "code",
      "execution_count": 3,
      "metadata": {
        "colab": {
          "base_uri": "https://localhost:8080/"
        },
        "id": "JNFML4l7waOI",
        "outputId": "1e3bc253-0249-4c64-f5a3-a20e037f4433"
      },
      "outputs": [
        {
          "output_type": "stream",
          "name": "stdout",
          "text": [
            "Enter a number: 56\n",
            "56 is a Even number\n"
          ]
        }
      ],
      "source": [
        "num = int(input(\"Enter a number: \"))\n",
        "if num%2 == 0:\n",
        "    print('{} is a Even number'.format(num))\n",
        "else:\n",
        "    print('{} is a Odd number'.format(num))\n",
        "        \n"
      ]
    },
    {
      "cell_type": "markdown",
      "metadata": {
        "id": "HVeb8J__waOJ"
      },
      "source": [
        "#### 3.Write a Python program to check  Leap Year ?"
      ]
    },
    {
      "cell_type": "code",
      "execution_count": 4,
      "metadata": {
        "colab": {
          "base_uri": "https://localhost:8080/"
        },
        "id": "8oBg88YnwaOJ",
        "outputId": "b3535cf1-70b0-4c8d-f0eb-842dd0d30fbe"
      },
      "outputs": [
        {
          "output_type": "stream",
          "name": "stdout",
          "text": [
            "Enter year: 2023\n",
            "2023 is not a Leap year\n"
          ]
        }
      ],
      "source": [
        "year = int(input(\"Enter year: \"))\n",
        "if (year%4 == 0 and year%100 != 0 or year%400 == 0):\n",
        "    print(f'{year} is a Leap year')\n",
        "else:\n",
        "    print(f'{year} is not a Leap year')\n"
      ]
    },
    {
      "cell_type": "markdown",
      "metadata": {
        "id": "hy-yQGnXwaOK"
      },
      "source": [
        "#### 4.Write a Python program to check Prime Number ?"
      ]
    },
    {
      "cell_type": "code",
      "execution_count": 9,
      "metadata": {
        "colab": {
          "base_uri": "https://localhost:8080/"
        },
        "id": "CePZgV8WwaOL",
        "outputId": "e01de600-6cec-44e3-b79b-6d54cba4b1d3"
      },
      "outputs": [
        {
          "output_type": "stream",
          "name": "stdout",
          "text": [
            "Enter a number: 45\n",
            "45 is a prime number\n"
          ]
        }
      ],
      "source": [
        "number = int(input(\"Enter a number: \"))\n",
        "flag = False\n",
        "for i in range(2,number):\n",
        "    if number%i ==0:\n",
        "        flag= True\n",
        "        break\n",
        "    if (not flag):\n",
        "        print(f'{number} is a prime number')\n",
        "    else:\n",
        "        print(f'{number} is not a prime number')\n",
        "       \n"
      ]
    },
    {
      "cell_type": "markdown",
      "metadata": {
        "id": "zvmztgYBwaOL"
      },
      "source": [
        "#### 5.Write a Python program to print all Prime Numbers in an interval of 1-10000 ?"
      ]
    },
    {
      "cell_type": "markdown",
      "source": [
        "\n"
      ],
      "metadata": {
        "id": "J89wJssrwaOM"
      }
    },
    {
      "cell_type": "code",
      "source": [
        "lower_value = int(input (\"Please, Enter the Lowest Range Value: \"))  \n",
        "upper_value = int(input (\"Please, Enter the Upper Range Value: \"))  \n",
        "  \n",
        "print (\"The Prime Numbers in the range are: \")  \n",
        "for number in range (lower_value, upper_value + 1):  \n",
        "    if number > 1:  \n",
        "        for i in range (2, number):  \n",
        "            if (number % i) == 0:  \n",
        "                break  \n",
        "        else:  \n",
        "            print (number)  \n"
      ],
      "metadata": {
        "colab": {
          "base_uri": "https://localhost:8080/"
        },
        "id": "w8aFd8BO1LbP",
        "outputId": "5f9ff6e4-2fa7-4eed-824d-91bf214f6689"
      },
      "execution_count": 12,
      "outputs": [
        {
          "output_type": "stream",
          "name": "stdout",
          "text": [
            "Please, Enter the Lowest Range Value: 45\n",
            "Please, Enter the Upper Range Value: 100\n",
            "The Prime Numbers in the range are: \n",
            "47\n",
            "53\n",
            "59\n",
            "61\n",
            "67\n",
            "71\n",
            "73\n",
            "79\n",
            "83\n",
            "89\n",
            "97\n"
          ]
        }
      ]
    }
  ],
  "metadata": {
    "kernelspec": {
      "display_name": "Python 3",
      "language": "python",
      "name": "python3"
    },
    "language_info": {
      "codemirror_mode": {
        "name": "ipython",
        "version": 3
      },
      "file_extension": ".py",
      "mimetype": "text/x-python",
      "name": "python",
      "nbconvert_exporter": "python",
      "pygments_lexer": "ipython3",
      "version": "3.8.8"
    },
    "colab": {
      "provenance": []
    }
  },
  "nbformat": 4,
  "nbformat_minor": 0
}