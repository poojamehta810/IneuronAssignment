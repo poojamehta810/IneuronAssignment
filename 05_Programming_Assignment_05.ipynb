{
  "cells": [
    {
      "cell_type": "markdown",
      "id": "9e1733f2",
      "metadata": {
        "id": "9e1733f2"
      },
      "source": [
        "# Assignment 5 Solutions"
      ]
    },
    {
      "cell_type": "markdown",
      "id": "901748b2",
      "metadata": {
        "id": "901748b2"
      },
      "source": [
        "#### 1. Write a Python Program to find LCM ?"
      ]
    },
    {
      "cell_type": "code",
      "execution_count": 2,
      "id": "91140999",
      "metadata": {
        "colab": {
          "base_uri": "https://localhost:8080/"
        },
        "id": "91140999",
        "outputId": "5e8f92ab-9b4c-495b-fae6-1b9710d0ffeb"
      },
      "outputs": [
        {
          "output_type": "stream",
          "name": "stdout",
          "text": [
            "The LCM of 3,6 is 6\n"
          ]
        }
      ],
      "source": [
        "def findTheLcm(x_term,y_term):\n",
        "    if x_term > y_term:\n",
        "        greater = x_term\n",
        "    else:\n",
        "        greater = x_term\n",
        "    while True:\n",
        "        if((greater%x_term == 0) and (greater%y_term == 0)):\n",
        "            lcm = greater\n",
        "            break\n",
        "        else:\n",
        "            greater +=1\n",
        "    print(f'The LCM of {x_term},{y_term} is {lcm}')\n",
        "\n",
        "findTheLcm(3,6)\n"
      ]
    },
    {
      "cell_type": "markdown",
      "id": "5998fa74",
      "metadata": {
        "id": "5998fa74"
      },
      "source": [
        "#### 2. Write a Python Program to find HCF ?"
      ]
    },
    {
      "cell_type": "code",
      "execution_count": 3,
      "id": "352d08d9",
      "metadata": {
        "colab": {
          "base_uri": "https://localhost:8080/"
        },
        "id": "352d08d9",
        "outputId": "c24f3944-1f95-4327-d98b-9e0a523d2624"
      },
      "outputs": [
        {
          "output_type": "stream",
          "name": "stdout",
          "text": [
            "The HCF of 6,12 is 6\n"
          ]
        }
      ],
      "source": [
        "def findTheHcf(x_term,y_term):\n",
        "    if x_term>y_term:\n",
        "        smaller = y_term\n",
        "    else:\n",
        "        smaller = x_term\n",
        "    for ele in range(1,smaller+1):\n",
        "        if((x_term%ele == 0) and (y_term%ele == 0)):\n",
        "            hcf = ele\n",
        "    print(f'The HCF of {x_term},{y_term} is {hcf}')\n",
        "\n",
        "findTheHcf(6,12)\n"
      ]
    },
    {
      "cell_type": "markdown",
      "id": "f29f8214",
      "metadata": {
        "id": "f29f8214"
      },
      "source": [
        "#### 3. Write a Python Program to Convert Decimal to Binary, Octal and Hexadecimal ?"
      ]
    },
    {
      "cell_type": "code",
      "execution_count": 5,
      "id": "53212645",
      "metadata": {
        "colab": {
          "base_uri": "https://localhost:8080/"
        },
        "id": "53212645",
        "outputId": "ef6f37ba-081f-4df6-96d5-b03786099799"
      },
      "outputs": [
        {
          "output_type": "stream",
          "name": "stdout",
          "text": [
            "Enter a Number: 3\n",
            "Binary Number -> 0b11\n",
            "Octal Number -> 0o3\n",
            "Hexadecimal Number -> 0x3\n"
          ]
        }
      ],
      "source": [
        "num = int(input('Enter a Number: '))\n",
        "print(f'Binary Number -> {bin(num)}')\n",
        "print(f'Octal Number -> {oct(num)}')    \n",
        "print(f'Hexadecimal Number -> {hex(num)}')    \n"
      ]
    },
    {
      "cell_type": "markdown",
      "id": "1a4ed424",
      "metadata": {
        "id": "1a4ed424"
      },
      "source": [
        "#### 4. Write a Python Program to Find the ASCII value of  a Character ?"
      ]
    },
    {
      "cell_type": "code",
      "execution_count": 6,
      "id": "8173265f",
      "metadata": {
        "colab": {
          "base_uri": "https://localhost:8080/"
        },
        "id": "8173265f",
        "outputId": "aaa789de-6c9c-416f-f143-bb1b38098934"
      },
      "outputs": [
        {
          "output_type": "stream",
          "name": "stdout",
          "text": [
            "Enter a Character: M\n",
            "Ascii Character of M is 77\n"
          ]
        }
      ],
      "source": [
        "    char = input('Enter a Character: ')\n",
        "    if len(char) > 1:\n",
        "        print('Please Enter a Single Character')\n",
        "    else:\n",
        "        print(f'Ascii Character of {char} is {ord(char)}')\n",
        "\n"
      ]
    },
    {
      "cell_type": "markdown",
      "id": "e9f467f1",
      "metadata": {
        "id": "e9f467f1"
      },
      "source": [
        "#### 5. Write a Python Program to Make a Simple Calculator with 4 Basic Mathematical operations ?"
      ]
    },
    {
      "cell_type": "code",
      "execution_count": 7,
      "id": "846d7a21",
      "metadata": {
        "colab": {
          "base_uri": "https://localhost:8080/"
        },
        "id": "846d7a21",
        "outputId": "598a45cf-77af-49b9-f142-3a3693cb3068"
      },
      "outputs": [
        {
          "output_type": "stream",
          "name": "stdout",
          "text": [
            "Please select the operation.\n",
            "a. Add\n",
            "b. Subtract\n",
            "c. Multiply\n",
            "d. Divide\n",
            "Please enter choice (a/ b/ c/ d): a\n",
            "Please enter the first number: 56\n",
            "Please enter the second number: 10\n",
            "56  +  10  =  66\n"
          ]
        }
      ],
      "source": [
        "def add(P, Q):    \n",
        "   # This function is used for adding two numbers   \n",
        "   return P + Q   \n",
        "def subtract(P, Q):   \n",
        "   # This function is used for subtracting two numbers   \n",
        "   return P - Q   \n",
        "def multiply(P, Q):   \n",
        "   # This function is used for multiplying two numbers   \n",
        "   return P * Q   \n",
        "def divide(P, Q):   \n",
        "   # This function is used for dividing two numbers    \n",
        "   return P / Q    \n",
        "# Now we will take inputs from the user    \n",
        "print (\"Please select the operation.\")    \n",
        "print (\"a. Add\")    \n",
        "print (\"b. Subtract\")    \n",
        "print (\"c. Multiply\")    \n",
        "print (\"d. Divide\")    \n",
        "    \n",
        "choice = input(\"Please enter choice (a/ b/ c/ d): \")    \n",
        "    \n",
        "num_1 = int (input (\"Please enter the first number: \"))    \n",
        "num_2 = int (input (\"Please enter the second number: \"))    \n",
        "    \n",
        "if choice == 'a':    \n",
        "   print (num_1, \" + \", num_2, \" = \", add(num_1, num_2))    \n",
        "    \n",
        "elif choice == 'b':    \n",
        "   print (num_1, \" - \", num_2, \" = \", subtract(num_1, num_2))    \n",
        "    \n",
        "elif choice == 'c':    \n",
        "   print (num_1, \" * \", num_2, \" = \", multiply(num_1, num_2))    \n",
        "elif choice == 'd':    \n",
        "   print (num_1, \" / \", num_2, \" = \", divide(num_1, num_2))    \n",
        "else:    \n",
        "   print (\"This is an invalid input\")    "
      ]
    }
  ],
  "metadata": {
    "kernelspec": {
      "display_name": "Python 3",
      "language": "python",
      "name": "python3"
    },
    "language_info": {
      "codemirror_mode": {
        "name": "ipython",
        "version": 3
      },
      "file_extension": ".py",
      "mimetype": "text/x-python",
      "name": "python",
      "nbconvert_exporter": "python",
      "pygments_lexer": "ipython3",
      "version": "3.8.8"
    },
    "colab": {
      "provenance": []
    }
  },
  "nbformat": 4,
  "nbformat_minor": 5
}