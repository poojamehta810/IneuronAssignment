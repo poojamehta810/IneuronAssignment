{
  "cells": [
    {
      "cell_type": "markdown",
      "metadata": {
        "id": "ndBo6kAFnhBc"
      },
      "source": [
        "# Assignment 1 Solutions"
      ]
    },
    {
      "cell_type": "markdown",
      "metadata": {
        "id": "7q9j_2yxnhDe"
      },
      "source": [
        "#### 1.Write a Python program to print 'Hello Python' ?"
      ]
    },
    {
      "cell_type": "code",
      "execution_count": null,
      "metadata": {
        "id": "1hzaSdAKnhDf",
        "outputId": "afb9ff35-8053-435f-9d6f-522569062066"
      },
      "outputs": [
        {
          "name": "stdout",
          "output_type": "stream",
          "text": [
            "Hello Python\n"
          ]
        }
      ],
      "source": [
        "print('Hello Python')"
      ]
    },
    {
      "cell_type": "markdown",
      "metadata": {
        "id": "QCT3RiilnhDj"
      },
      "source": [
        "#### 2.Write a Python program to do arithmetic operations addition and division ?"
      ]
    },
    {
      "cell_type": "code",
      "execution_count": 6,
      "metadata": {
        "colab": {
          "base_uri": "https://localhost:8080/"
        },
        "id": "HZxkhM1unhDk",
        "outputId": "1622d4d9-69f0-4b50-ced2-d3a14b8cb3ba"
      },
      "outputs": [
        {
          "output_type": "stream",
          "name": "stdout",
          "text": [
            "\n",
            "Enter 1st Number: 6\n",
            "Enter 2nd Number: 2\n",
            "8\n",
            "3.0\n"
          ]
        }
      ],
      "source": [
        "\n",
        "# using the Addition operator\n",
        "num_1 = int(input('\\nEnter 1st Number: '))\n",
        "num_2 = int(input('Enter 2nd Number: '))\n",
        "Add = num_1 + num_2\n",
        "print(Add)\n",
        "# using the division operator\n",
        "div = num_1 / num_2\n",
        "print(div)"
      ]
    },
    {
      "cell_type": "markdown",
      "metadata": {
        "id": "abaQjXJtnhDl"
      },
      "source": [
        "#### 3.Write a Python program to find the area of a triangle ?"
      ]
    },
    {
      "cell_type": "code",
      "execution_count": 7,
      "metadata": {
        "colab": {
          "base_uri": "https://localhost:8080/"
        },
        "id": "VR3ShpJdnhDm",
        "outputId": "838eb8c5-5a6c-49cb-a514-f1a8f408536b"
      },
      "outputs": [
        {
          "output_type": "stream",
          "name": "stdout",
          "text": [
            "Enter height of triangle: 5\n",
            "Enter base of triangle: 3\n",
            "\n",
            "Area of triangle -> 7.5\n"
          ]
        }
      ],
      "source": [
        "height = int(input('Enter height of triangle: '))\n",
        "base = int(input('Enter base of triangle: '))\n",
        "\n",
        "def area_Triangle(height, base):\n",
        "    print('\\nArea of triangle ->', 0.5*height*base)\n",
        "\n",
        "area_Triangle(height,base)"
      ]
    },
    {
      "cell_type": "markdown",
      "metadata": {
        "id": "SuCKw_y8nhDn"
      },
      "source": [
        "#### 4.Write a Python program to swap two variables ?"
      ]
    },
    {
      "cell_type": "code",
      "execution_count": 8,
      "metadata": {
        "colab": {
          "base_uri": "https://localhost:8080/"
        },
        "id": "z13ND0JonhDn",
        "outputId": "6abfcc80-5748-4485-b705-4ab44dc52cd1"
      },
      "outputs": [
        {
          "output_type": "stream",
          "name": "stdout",
          "text": [
            "Enter First Number: 4\n",
            "Enter Second Number: 7\n",
            "Before swapping ->  4 7\n",
            "After swapping ->  7 4\n"
          ]
        }
      ],
      "source": [
        "num_1 = int(input(\"Enter First Number: \"))\n",
        "num_2 = int(input(\"Enter Second Number: \"))\n",
        "\n",
        "\n",
        "print('Before swapping -> ',num_1, num_2)\n",
        "temp = num_1\n",
        "num_1 = num_2\n",
        "num_2 = temp\n",
        "print('After swapping -> ',num_1,num_2)\n",
        "\n",
        "   "
      ]
    },
    {
      "cell_type": "markdown",
      "metadata": {
        "id": "XVRQwCyrnhDo"
      },
      "source": [
        "#### 5.Write a Python program to generate a random number ?"
      ]
    },
    {
      "cell_type": "code",
      "execution_count": 11,
      "metadata": {
        "colab": {
          "base_uri": "https://localhost:8080/"
        },
        "id": "u2pbEGM3nhDp",
        "outputId": "9ef4e237-6aa3-4e5d-e1de-652c5b4543a1"
      },
      "outputs": [
        {
          "output_type": "stream",
          "name": "stdout",
          "text": [
            "Random number ->  41\n"
          ]
        }
      ],
      "source": [
        "from random import randint\n",
        "\n",
        "def generateRandomNumber(start=0, end=100):\n",
        "    print('Random number -> ',randint(start,end))\n",
        "\n",
        "# Generating random numbers with arguments    \n",
        "generateRandomNumber(0,100)"
      ]
    }
  ],
  "metadata": {
    "kernelspec": {
      "display_name": "Python 3",
      "language": "python",
      "name": "python3"
    },
    "language_info": {
      "codemirror_mode": {
        "name": "ipython",
        "version": 3
      },
      "file_extension": ".py",
      "mimetype": "text/x-python",
      "name": "python",
      "nbconvert_exporter": "python",
      "pygments_lexer": "ipython3",
      "version": "3.8.8"
    },
    "colab": {
      "provenance": []
    }
  },
  "nbformat": 4,
  "nbformat_minor": 0
}