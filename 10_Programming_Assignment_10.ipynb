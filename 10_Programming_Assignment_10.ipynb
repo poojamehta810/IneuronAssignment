{
  "cells": [
    {
      "cell_type": "markdown",
      "id": "0753e292",
      "metadata": {
        "id": "0753e292"
      },
      "source": [
        "# Assignment 10 Solutions"
      ]
    },
    {
      "cell_type": "markdown",
      "id": "d6f96d38",
      "metadata": {
        "id": "d6f96d38"
      },
      "source": [
        "#### 1.Write a Python Program to find sum of elements in a list ?"
      ]
    },
    {
      "cell_type": "code",
      "execution_count": 1,
      "id": "1fbea5b2",
      "metadata": {
        "colab": {
          "base_uri": "https://localhost:8080/"
        },
        "id": "1fbea5b2",
        "outputId": "3207bb21-1519-46fb-853c-5b8b5d8d4112"
      },
      "outputs": [
        {
          "output_type": "stream",
          "name": "stdout",
          "text": [
            "Enter the No of Entries in a List: 4\n",
            "Enter a element: 5\n",
            "Enter a element: 4\n",
            "Enter a element: 3\n",
            "Enter a element: 1\n",
            "Sum of Elements: 13\n"
          ]
        }
      ],
      "source": [
        "\n",
        "in_ele = int(input('Enter the No of Entries in a List: '))\n",
        "in_list = []\n",
        "for itr in range(in_ele):\n",
        "    in_list.append(int(input('Enter a element: ')))\n",
        "    print(f'Sum of Elements: {sum(in_list)}')\n",
        "\n"
      ]
    },
    {
      "cell_type": "markdown",
      "id": "35ff9c7c",
      "metadata": {
        "id": "35ff9c7c"
      },
      "source": [
        "#### 2.Write a Python Program to multiply all numbers in the list ?"
      ]
    },
    {
      "cell_type": "code",
      "execution_count": null,
      "id": "d77e77e6",
      "metadata": {
        "id": "d77e77e6",
        "outputId": "0b8fef9d-d3bc-4bb7-b249-f30a5060a661"
      },
      "outputs": [
        {
          "name": "stdout",
          "output_type": "stream",
          "text": [
            "Enter the No of Entries in a List: 5\n",
            "Enter a element: 1\n",
            "Enter a element: 2\n",
            "Enter a element: 3\n",
            "Enter a element: 4\n",
            "Enter a element: 5\n",
            "120\n"
          ]
        }
      ],
      "source": [
        "in_ele = int(input('Enter the No of Entries in a List: '))\n",
        "in_list = []\n",
        "mul = 1\n",
        "for itr in range(in_ele):\n",
        "    in_list.append(int(input('Enter a element: ')))\n",
        "for ele in in_list:\n",
        "    mul = mul * ele\n",
        "    print(mul)\n"
      ]
    },
    {
      "cell_type": "markdown",
      "id": "0561967b",
      "metadata": {
        "id": "0561967b"
      },
      "source": [
        "#### 3.Write a Python Program to find smallest number in the list ?"
      ]
    },
    {
      "cell_type": "code",
      "execution_count": 2,
      "id": "3e9863eb",
      "metadata": {
        "colab": {
          "base_uri": "https://localhost:8080/"
        },
        "id": "3e9863eb",
        "outputId": "cee43412-fb5d-4c21-e5f1-4c0a8d6b6eb7"
      },
      "outputs": [
        {
          "output_type": "stream",
          "name": "stdout",
          "text": [
            "Enter the No of elements in a list: 4\n",
            "Enter a Element: 4\n",
            "Enter a Element: 3\n",
            "Enter a Element: 9\n",
            "Enter a Element: 1\n",
            "The Smallest Element in [4, 3, 9, 1] is 1\n"
          ]
        }
      ],
      "source": [
        "def smallEleInList():\n",
        "    in_ele = int(input('Enter the No of elements in a list: '))\n",
        "    in_list = []\n",
        "    for ele in range(in_ele):\n",
        "        in_list.append(int(input('Enter a Element: ')))\n",
        "    print(f'The Smallest Element in {in_list} is {sorted(in_list)[0]}')\n",
        "smallEleInList()"
      ]
    },
    {
      "cell_type": "markdown",
      "id": "0684d2e6",
      "metadata": {
        "id": "0684d2e6"
      },
      "source": [
        "#### 4.Write a Python Program to find largest number in the list ?"
      ]
    },
    {
      "cell_type": "code",
      "execution_count": 3,
      "id": "c1984a1c",
      "metadata": {
        "colab": {
          "base_uri": "https://localhost:8080/"
        },
        "id": "c1984a1c",
        "outputId": "bf353468-e302-4406-e442-65770d9d1484"
      },
      "outputs": [
        {
          "output_type": "stream",
          "name": "stdout",
          "text": [
            "Enter the No of elements in a list: 5\n",
            "Enter a Element: 7\n",
            "Enter a Element: 2\n",
            "Enter a Element: 67\n",
            "Enter a Element: 43\n",
            "Enter a Element: 67\n",
            "The Largest Element in [7, 2, 67, 43, 67] is 67\n"
          ]
        }
      ],
      "source": [
        "def largestEleInList():\n",
        "    in_ele = int(input('Enter the No of elements in a list: '))\n",
        "    in_list = []\n",
        "    for ele in range(in_ele):\n",
        "        in_list.append(int(input('Enter a Element: ')))\n",
        "    print(f'The Largest Element in {in_list} is {sorted(in_list, reverse=True)[0]}')\n",
        "\n",
        "largestEleInList()"
      ]
    },
    {
      "cell_type": "markdown",
      "id": "ef882ac4",
      "metadata": {
        "id": "ef882ac4"
      },
      "source": [
        "#### 5.Write a Python Program to find second largest number in the list ?"
      ]
    },
    {
      "cell_type": "code",
      "execution_count": 6,
      "id": "ca2c5e29",
      "metadata": {
        "colab": {
          "base_uri": "https://localhost:8080/"
        },
        "id": "ca2c5e29",
        "outputId": "cdbd6821-5375-40ea-df1f-794de98ad498"
      },
      "outputs": [
        {
          "output_type": "stream",
          "name": "stdout",
          "text": [
            "Enter the No of elements in a list: 5\n",
            "Enter a Element: 23\n",
            "Enter a Element: 56\n",
            "Enter a Element: 34\n",
            "Enter a Element: 12\n",
            "Enter a Element: 67\n",
            "The Second Largest Element in [23, 56, 34, 12, 67] is 56\n"
          ]
        }
      ],
      "source": [
        "def secondLargestEleInList():\n",
        "    in_ele = int(input('Enter the No of elements in a list: '))\n",
        "    in_list = []\n",
        "    for ele in range(in_ele):\n",
        "        in_list.append(int(input('Enter a Element: ')))\n",
        "    print(f'The Second Largest Element in {in_list} is {sorted(in_list, reverse=True)[1]}')\n",
        "\n",
        "secondLargestEleInList()"
      ]
    },
    {
      "cell_type": "markdown",
      "id": "ee185d52",
      "metadata": {
        "id": "ee185d52"
      },
      "source": [
        "#### 6.Write a Python Program to find N largest elements in the list ?"
      ]
    },
    {
      "cell_type": "code",
      "execution_count": 7,
      "id": "e2c518fa",
      "metadata": {
        "colab": {
          "base_uri": "https://localhost:8080/"
        },
        "id": "e2c518fa",
        "outputId": "da9bcb6d-7f0d-411d-ea9a-3bb5a5ab52a9"
      },
      "outputs": [
        {
          "output_type": "stream",
          "name": "stdout",
          "text": [
            "Enter the No of elements in a list: 5\n",
            "Enter a Element: 4\n",
            "Enter a Element: 34\n",
            "Enter a Element: 36\n",
            "Enter a Element: 67\n",
            "Enter a Element: 78\n",
            "The 4 Largest Element in [4, 34, 36, 67, 78] is [78, 67, 36, 34]\n"
          ]
        }
      ],
      "source": [
        "def nLargestEleInList(k):\n",
        "    in_ele = int(input('Enter the No of elements in a list: '))\n",
        "    in_list = []\n",
        "    for ele in range(in_ele):\n",
        "        in_list.append(int(input('Enter a Element: ')))\n",
        "    print(f'The {k} Largest Element in {in_list} is {sorted(in_list, reverse=True)[0:k]}')\n",
        "\n",
        "nLargestEleInList(4)"
      ]
    },
    {
      "cell_type": "markdown",
      "id": "7f5a2b91",
      "metadata": {
        "id": "7f5a2b91"
      },
      "source": [
        "#### 7.Write a Python Program to find even numbers in the list ?"
      ]
    },
    {
      "cell_type": "code",
      "execution_count": 8,
      "id": "e9b0d19a",
      "metadata": {
        "colab": {
          "base_uri": "https://localhost:8080/"
        },
        "id": "e9b0d19a",
        "outputId": "9e3cc1ad-2a2e-4c6a-b178-685ebb3d1872"
      },
      "outputs": [
        {
          "output_type": "stream",
          "name": "stdout",
          "text": [
            "Enter the No of elements in a list: 5\n",
            "Enter a Element: 34\n",
            "Enter a Element: 33\n",
            "Enter a Element: 89\n",
            "Enter a Element: 12\n",
            "Enter a Element: 45\n",
            "The Even Elements in [34, 33, 89, 12, 45] are [34, 12]\n"
          ]
        }
      ],
      "source": [
        "def evenNoInList():\n",
        "    in_ele = int(input('Enter the No of elements in a list: '))\n",
        "    in_list = []\n",
        "    even_list = []\n",
        "    for ele in range(in_ele):\n",
        "        in_list.append(int(input('Enter a Element: ')))\n",
        "    for ele in in_list:\n",
        "        if ele%2 == 0:\n",
        "            even_list.append(ele)\n",
        "    print(f'The Even Elements in {in_list} are {even_list}')\n",
        "\n",
        "evenNoInList()"
      ]
    },
    {
      "cell_type": "markdown",
      "id": "a5d3f862",
      "metadata": {
        "id": "a5d3f862"
      },
      "source": [
        "#### 8.Write a Python Program to find odd numbers in the list ?"
      ]
    },
    {
      "cell_type": "code",
      "execution_count": 9,
      "id": "101d0718",
      "metadata": {
        "colab": {
          "base_uri": "https://localhost:8080/"
        },
        "id": "101d0718",
        "outputId": "947cc09e-e885-46fa-a0fb-f2ff1665f562"
      },
      "outputs": [
        {
          "output_type": "stream",
          "name": "stdout",
          "text": [
            "Enter the No of elements in a list: 5\n",
            "Enter a Element: 4\n",
            "Enter a Element: 6\n",
            "Enter a Element: 81\n",
            "Enter a Element: 89\n",
            "Enter a Element: 33\n",
            "The Even Elements in [4, 6, 81, 89, 33] are [81, 89, 33]\n"
          ]
        }
      ],
      "source": [
        "def oddNoInList():\n",
        "    in_ele = int(input('Enter the No of elements in a list: '))\n",
        "    in_list = []\n",
        "    odd_list = []\n",
        "    for ele in range(in_ele):\n",
        "        in_list.append(int(input('Enter a Element: ')))\n",
        "    for ele in in_list:\n",
        "        if ele%2 != 0:\n",
        "            odd_list.append(ele)\n",
        "    print(f'The Even Elements in {in_list} are {odd_list}')\n",
        "\n",
        "oddNoInList()"
      ]
    },
    {
      "cell_type": "markdown",
      "id": "f97fa7ea",
      "metadata": {
        "id": "f97fa7ea"
      },
      "source": [
        "#### 9.Write a Python Program to remove empty list from list ?"
      ]
    },
    {
      "cell_type": "code",
      "execution_count": 13,
      "id": "193a2ef1",
      "metadata": {
        "colab": {
          "base_uri": "https://localhost:8080/"
        },
        "id": "193a2ef1",
        "outputId": "f29fc8af-8449-42eb-ca83-37cd789b8913"
      },
      "outputs": [
        {
          "output_type": "stream",
          "name": "stdout",
          "text": [
            "Enter all elements of the list: 4,7,8,9,11\n",
            "There is no [] List in the list (4, 7, 8, 9, 11)\n"
          ]
        }
      ],
      "source": [
        "def checkEmptyList():\n",
        "    in_list = eval(input('Enter all elements of the list: '))\n",
        "    if [] in in_list:\n",
        "        print(f'There is an Empty list in {in_list} at Position {in_list.index([])}')\n",
        "        in_list.remove([])\n",
        "        print(f'The List after removing [] is {in_list}')\n",
        "    else:\n",
        "        print(f'There is no [] List in the list {in_list}')\n",
        "        \n",
        "checkEmptyList()"
      ]
    },
    {
      "cell_type": "markdown",
      "id": "1a5b1f91",
      "metadata": {
        "id": "1a5b1f91"
      },
      "source": [
        "#### 10.Write a Python Program to Cloning or Copying a list ?"
      ]
    },
    {
      "cell_type": "code",
      "execution_count": 16,
      "id": "55882ca5",
      "metadata": {
        "colab": {
          "base_uri": "https://localhost:8080/"
        },
        "id": "55882ca5",
        "outputId": "16174f7f-7ceb-4de2-c4be-d3f87a72b1c6"
      },
      "outputs": [
        {
          "output_type": "stream",
          "name": "stdout",
          "text": [
            "[11, 23, 54, 23, 41]\n",
            "[11, 23, 54, 23, 41]\n"
          ]
        }
      ],
      "source": [
        "\n",
        "original_list = [11, 23, 54, 23, 41]\n",
        "new_list = list(original_list)\n",
        "print(original_list)\n",
        "print(new_list)\n"
      ]
    },
    {
      "cell_type": "markdown",
      "id": "37e5e6bd",
      "metadata": {
        "id": "37e5e6bd"
      },
      "source": [
        "#### 11.Write a Python Program to count occurences of an element in a list ?"
      ]
    },
    {
      "cell_type": "code",
      "execution_count": 17,
      "id": "8a5e7b52",
      "metadata": {
        "colab": {
          "base_uri": "https://localhost:8080/"
        },
        "id": "8a5e7b52",
        "outputId": "e1e51d61-114e-4f50-ad47-117e4f54f28c"
      },
      "outputs": [
        {
          "output_type": "stream",
          "name": "stdout",
          "text": [
            "Enter the elements of the list: 12,12,34,5,6,7,8,6,5\n",
            "Enter the element to find: 12\n",
            "There are 2 occurences of 12 in (12, 12, 34, 5, 6, 7, 8, 6, 5)\n"
          ]
        }
      ],
      "source": [
        "def checkOccurence():\n",
        "    in_list = eval(input('Enter the elements of the list: '))\n",
        "    in_num = eval(input('Enter the element to find: '))\n",
        "    count = 0\n",
        "    if in_num in in_list:\n",
        "        for ele in in_list:\n",
        "            if ele == in_num:\n",
        "                count = count+1\n",
        "    print(f'There are {count} occurences of {in_num} in {in_list}')\n",
        "    \n",
        "checkOccurence()"
      ]
    }
  ],
  "metadata": {
    "kernelspec": {
      "display_name": "Python 3",
      "language": "python",
      "name": "python3"
    },
    "language_info": {
      "codemirror_mode": {
        "name": "ipython",
        "version": 3
      },
      "file_extension": ".py",
      "mimetype": "text/x-python",
      "name": "python",
      "nbconvert_exporter": "python",
      "pygments_lexer": "ipython3",
      "version": "3.8.8"
    },
    "colab": {
      "provenance": []
    }
  },
  "nbformat": 4,
  "nbformat_minor": 5
}