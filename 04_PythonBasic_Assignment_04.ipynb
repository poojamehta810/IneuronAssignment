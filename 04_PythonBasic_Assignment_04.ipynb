{
  "cells": [
    {
      "cell_type": "markdown",
      "id": "41bc56d1",
      "metadata": {
        "id": "41bc56d1"
      },
      "source": [
        "# 04_PythonBasic_Assignment_04"
      ]
    },
    {
      "cell_type": "markdown",
      "id": "4d2ed0e4",
      "metadata": {
        "id": "4d2ed0e4"
      },
      "source": [
        "#### 1.What exactly is `[ ]`?\n",
        "**Ans**: The empty list represented by `[]` is a list that contains no items. This is similar to `''` which represents an empty string"
      ]
    },
    {
      "cell_type": "markdown",
      "id": "b6e56852",
      "metadata": {
        "id": "b6e56852"
      },
      "source": [
        "#### 2.In a list of values stored in a variable called spam, how would you assign the value 'hello' as the third value? (Assume [2, 4, 6, 8, 10] are in spam.) \n",
        "**Ans:** `spam[2]='hello'` (Note: Lists follows zero based indexing)"
      ]
    },
    {
      "cell_type": "code",
      "execution_count": null,
      "id": "737fb672",
      "metadata": {
        "id": "737fb672",
        "outputId": "ed6c74e2-e3cd-47b5-9c7b-05d86bce2e1c"
      },
      "outputs": [
        {
          "name": "stdout",
          "output_type": "stream",
          "text": [
            "[2, 4, 6, 8, 10]\n",
            "[2, 4, 'hello', 8, 10]\n"
          ]
        }
      ],
      "source": [
        "# Example\n",
        "spam=[2,4,6,8,10]\n",
        "print(spam)\n",
        "spam[2]='hello' #List uses zero based indexing\n",
        "print(spam)"
      ]
    },
    {
      "cell_type": "markdown",
      "id": "423f2578",
      "metadata": {
        "id": "423f2578"
      },
      "source": [
        "## Let's pretend the spam includes the list ['a','b','c',d'] for the next three queries."
      ]
    },
    {
      "cell_type": "markdown",
      "id": "c3093377",
      "metadata": {
        "id": "c3093377"
      },
      "source": [
        "#### 3. What is the value of `spam[int(int('3'*2)//11)]` ?\n",
        "**Ans:** `'d'` (Note that '3' * 2 is the string '33', which is passed to int() before being divided by 11.\n",
        "     This eventually evaluates to 3, `spam[3]` is equal to `d`.)"
      ]
    },
    {
      "cell_type": "code",
      "execution_count": 2,
      "id": "338984fe",
      "metadata": {
        "colab": {
          "base_uri": "https://localhost:8080/"
        },
        "id": "338984fe",
        "outputId": "ac53625b-c657-4f31-a165-3d2203d742ea"
      },
      "outputs": [
        {
          "output_type": "stream",
          "name": "stdout",
          "text": [
            "spam[int(int('3'*2)//11)] -> d\n"
          ]
        }
      ],
      "source": [
        "spam=['a','b','c','d']\n",
        "print(\"spam[int(int('3'*2)//11)] ->\",spam[int(int('3'*2)//11)])"
      ]
    },
    {
      "cell_type": "markdown",
      "id": "9e1182c8",
      "metadata": {
        "id": "9e1182c8"
      },
      "source": [
        "#### 4. What is the value of spam[-1]?\n",
        "**Ans:** `'d'` (Lists support Negative indexing, Hence `spam[-1]` returs `'d'`)"
      ]
    },
    {
      "cell_type": "code",
      "execution_count": 3,
      "id": "ee415de9",
      "metadata": {
        "colab": {
          "base_uri": "https://localhost:8080/"
        },
        "id": "ee415de9",
        "outputId": "d995a322-2a7a-40cc-c573-5adfed5a7e58"
      },
      "outputs": [
        {
          "output_type": "stream",
          "name": "stdout",
          "text": [
            "spam[-1] ->  d\n"
          ]
        }
      ],
      "source": [
        "spam=['a','b','c','d']\n",
        "print('spam[-1] -> ',spam[-1])"
      ]
    },
    {
      "cell_type": "markdown",
      "id": "95920e0b",
      "metadata": {
        "id": "95920e0b"
      },
      "source": [
        "#### 5. What is the value of spam[:2]?\n",
        "**Ans:** `spam[:2]` returns all elements in the list spam from 0 to 2 excluding 2"
      ]
    },
    {
      "cell_type": "code",
      "execution_count": null,
      "id": "19c06353",
      "metadata": {
        "id": "19c06353",
        "outputId": "1b7c136e-0c54-4eb6-e682-4855ef138b19"
      },
      "outputs": [
        {
          "name": "stdout",
          "output_type": "stream",
          "text": [
            "['a', 'b', 'c', 'd']\n",
            "['a', 'b']\n"
          ]
        }
      ],
      "source": [
        "print(spam)\n",
        "print(spam[:2])"
      ]
    },
    {
      "cell_type": "markdown",
      "id": "0c597670",
      "metadata": {
        "id": "0c597670"
      },
      "source": [
        "## Let's pretend bacon has the list [3.14,'cat',11,'cat',True] for the next three question"
      ]
    },
    {
      "cell_type": "markdown",
      "id": "4532aa75",
      "metadata": {
        "id": "4532aa75"
      },
      "source": [
        "#### 6. What is the value of bacon.index('cat')?"
      ]
    },
    {
      "cell_type": "markdown",
      "id": "b6d1d5fe",
      "metadata": {
        "id": "b6d1d5fe"
      },
      "source": [
        "**Ans:** The value of `bacon.index('cat')` is `1` (Note: index method returns the index of first occuerence of `'cat'`)"
      ]
    },
    {
      "cell_type": "code",
      "execution_count": 4,
      "id": "29ad2c43",
      "metadata": {
        "colab": {
          "base_uri": "https://localhost:8080/"
        },
        "id": "29ad2c43",
        "outputId": "e6155679-2da1-484c-a1f1-3a587014a3aa"
      },
      "outputs": [
        {
          "output_type": "stream",
          "name": "stdout",
          "text": [
            "bacon.index('cat') -> 1\n"
          ]
        }
      ],
      "source": [
        "bacon=[3.14,'cat',11,'cat',True]\n",
        "print(\"bacon.index('cat') ->\",bacon.index('cat'))"
      ]
    },
    {
      "cell_type": "markdown",
      "id": "a6315daa",
      "metadata": {
        "id": "a6315daa"
      },
      "source": [
        "#### 7. How does bacon.append(99) change the look of the list value in bacon?\n",
        "**Ans:** The `append` method adds new elements to the end of the list"
      ]
    },
    {
      "cell_type": "code",
      "execution_count": null,
      "id": "be0ebd05",
      "metadata": {
        "id": "be0ebd05",
        "outputId": "7287e8c7-f309-4365-e003-f12dc4ee8604"
      },
      "outputs": [
        {
          "name": "stdout",
          "output_type": "stream",
          "text": [
            "[3.14, 'cat', 11, 'cat', True]\n",
            "[3.14, 'cat', 11, 'cat', True, 99]\n"
          ]
        }
      ],
      "source": [
        "# Example\n",
        "print(bacon)\n",
        "bacon.append(99) # appends 99 to the end of the list\n",
        "print(bacon)"
      ]
    },
    {
      "cell_type": "markdown",
      "id": "85e81927",
      "metadata": {
        "id": "85e81927"
      },
      "source": [
        "#### 8. How does bacon.remove('cat') change the look of the list in bacon?\n",
        "**Ans:** The `remove` method removes the first occurence of the element in the list"
      ]
    },
    {
      "cell_type": "code",
      "execution_count": null,
      "id": "c3aca074",
      "metadata": {
        "id": "c3aca074",
        "outputId": "e78170df-53eb-4b21-f086-de4a3eee0bfe"
      },
      "outputs": [
        {
          "name": "stdout",
          "output_type": "stream",
          "text": [
            "[3.14, 'cat', 11, 'cat', True, 99]\n",
            "[3.14, 11, 'cat', True, 99]\n"
          ]
        }
      ],
      "source": [
        "print(bacon)\n",
        "bacon.remove('cat')\n",
        "print(bacon)"
      ]
    },
    {
      "cell_type": "markdown",
      "id": "cdbe3c4a",
      "metadata": {
        "id": "cdbe3c4a"
      },
      "source": [
        "#### 9.what are the list concatenation and list replication operations?\n",
        "**Ans:** The operator for list concatenation is `+`, while the operator for replication is `*`. (This is the same as for strings.)"
      ]
    },
    {
      "cell_type": "code",
      "execution_count": null,
      "id": "bd9dc39a",
      "metadata": {
        "id": "bd9dc39a",
        "outputId": "1574783a-6e0b-41d6-828b-fee6e04a827e"
      },
      "outputs": [
        {
          "name": "stdout",
          "output_type": "stream",
          "text": [
            "['ML', 'DL', 'AI', 'CV', 'NLP', 'RNN', 'CNN', 'SVN']\n",
            "['RNN', 'CNN', 'SVN', 'RNN', 'CNN', 'SVN']\n"
          ]
        }
      ],
      "source": [
        "# Example\n",
        "list_1 = ['ML','DL','AI','CV','NLP']\n",
        "list_2 = ['RNN','CNN','SVN']\n",
        "print(list_1 + list_2) # List Concatenation\n",
        "print(list_2*2) # List Replication"
      ]
    },
    {
      "cell_type": "markdown",
      "id": "d4f9b87c",
      "metadata": {
        "id": "d4f9b87c"
      },
      "source": [
        "#### 10.what is the difference between the list method append() and insert()?\n",
        "**Ans:** While append() will add values only to the end of a list, insert() can add them anywhere in the list."
      ]
    },
    {
      "cell_type": "code",
      "execution_count": null,
      "id": "e2901ff6",
      "metadata": {
        "id": "e2901ff6",
        "outputId": "8f5fb09c-d20c-4e6d-9b98-b2283bb51030"
      },
      "outputs": [
        {
          "name": "stdout",
          "output_type": "stream",
          "text": [
            "[1, 2, 3, 4, 5, 6]\n",
            "[1, 2, 'Demo', 3, 4, 5, 6]\n"
          ]
        }
      ],
      "source": [
        "#Examples\n",
        "list = [1,2,3,4,5]\n",
        "list.append(6)\n",
        "print(list)\n",
        "list.insert(2,'Demo')\n",
        "print(list)"
      ]
    },
    {
      "cell_type": "markdown",
      "id": "3b178c74",
      "metadata": {
        "id": "3b178c74"
      },
      "source": [
        "*italicized text*#### 11. What are the two methods for removing items from a list?\n",
        "**Ans:** two ways to remove values from a list : 1.  `del` statement and 2. `remove()` methods  "
      ]
    },
    {
      "cell_type": "code",
      "source": [],
      "metadata": {
        "id": "sbM19GJF8iA-"
      },
      "id": "sbM19GJF8iA-",
      "execution_count": null,
      "outputs": []
    },
    {
      "cell_type": "markdown",
      "id": "3811c0e8",
      "metadata": {
        "id": "3811c0e8"
      },
      "source": [
        "#### 12. Describe how list values and string values are identical.\n",
        "**Ans:** Both lists and strings can be passed to `len()` function, have indexes and slices, be used in `for` loops, be concatenated or replicated, and be used with the `in` and `not in` operators."
      ]
    },
    {
      "cell_type": "markdown",
      "id": "4845136b",
      "metadata": {
        "id": "4845136b"
      },
      "source": [
        "#### 13. What's the difference between tuples and lists?\n",
        "**Ans:** Lists are `Mutable`, `Indexable` and `Slicable`. they can have values added, removed, or changed. Tuples are `Immutable` but `Indexable` and `Slicable`. the tuple values cannot be changed at all. Also, tuples are represented using parentheses, `()`, while lists use the square brackets, `[]`."
      ]
    },
    {
      "cell_type": "markdown",
      "id": "7fa16181",
      "metadata": {
        "id": "7fa16181"
      },
      "source": [
        "#### 14. How do you type a tuple value that only contains the integer 42?\n",
        "**Ans:**(42,) (The trailing comma is mandatory. otherwise its considered as a int by python Interpreter)"
      ]
    },
    {
      "cell_type": "code",
      "execution_count": null,
      "id": "20c9775f",
      "metadata": {
        "id": "20c9775f",
        "outputId": "2285e9e9-090e-4a99-deef-c8a5df11d553"
      },
      "outputs": [
        {
          "name": "stdout",
          "output_type": "stream",
          "text": [
            "<class 'int'>\n",
            "<class 'tuple'>\n"
          ]
        }
      ],
      "source": [
        "tup1=(42)\n",
        "tup2=(42,)\n",
        "print(type(tup1))\n",
        "print(type(tup2))"
      ]
    },
    {
      "cell_type": "markdown",
      "id": "42d87c87",
      "metadata": {
        "id": "42d87c87"
      },
      "source": [
        "#### 15. How do you get a list value's tuple form? How do you get a tuple value's list form?\n",
        "**Ans:** The tuple() and list() functions, respectively are used to convert a list to tuple and vice versa"
      ]
    },
    {
      "cell_type": "markdown",
      "id": "eac0fa89",
      "metadata": {
        "id": "eac0fa89"
      },
      "source": [
        "#### 16. Variables that &quot;contain&quot; list values are not necessarily lists themselves. Instead, what do they contain?\n",
        "**Ans**: They contain references to list values."
      ]
    },
    {
      "cell_type": "markdown",
      "id": "c0f78aa7",
      "metadata": {
        "id": "c0f78aa7"
      },
      "source": [
        "#### 17. How do you distinguish between copy.copy() and copy.deepcopy()?\n",
        "**Ans:** The `copy.copy()` function will do a shallow copy of a list, while the `copy.deepcopy()` function will do a deep copy of a list. That is, only `copy.deepcopy()` will duplicate any lists inside the list."
      ]
    }
  ],
  "metadata": {
    "kernelspec": {
      "display_name": "Python 3",
      "language": "python",
      "name": "python3"
    },
    "language_info": {
      "codemirror_mode": {
        "name": "ipython",
        "version": 3
      },
      "file_extension": ".py",
      "mimetype": "text/x-python",
      "name": "python",
      "nbconvert_exporter": "python",
      "pygments_lexer": "ipython3",
      "version": "3.8.8"
    },
    "colab": {
      "provenance": []
    }
  },
  "nbformat": 4,
  "nbformat_minor": 5
}