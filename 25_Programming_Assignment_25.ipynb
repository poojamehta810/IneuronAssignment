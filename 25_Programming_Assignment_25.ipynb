{
  "cells": [
    {
      "cell_type": "markdown",
      "id": "e2951151",
      "metadata": {
        "id": "e2951151"
      },
      "source": [
        "# Assignment 25 Solutions"
      ]
    },
    {
      "cell_type": "markdown",
      "id": "84af1303",
      "metadata": {
        "id": "84af1303"
      },
      "source": [
        "#### 1.Create a function that takes three integer arguments (a, b, c) and returns the amount of integers which are of equal value.\n",
        "**Examples:**  \n",
        "`equal(3, 4, 3) ➞ 2`  \n",
        "`equal(1, 1, 1) ➞ 3`  \n",
        "`equal(3, 4, 1) ➞ 0`  \n",
        "\n",
        "**Notes:**  \n",
        "Your function must return 0, 2 or 3."
      ]
    },
    {
      "cell_type": "code",
      "execution_count": 4,
      "id": "e1853788",
      "metadata": {
        "colab": {
          "base_uri": "https://localhost:8080/"
        },
        "id": "e1853788",
        "outputId": "9d3943bb-e0f2-4024-c97a-9783cd52b019"
      },
      "outputs": [
        {
          "output_type": "stream",
          "name": "stdout",
          "text": [
            "1\n",
            "3\n",
            "0\n"
          ]
        }
      ],
      "source": [
        "def checkequalvalues(a, b, c):\n",
        "    count = 0\n",
        "    \n",
        "    if a == b:\n",
        "        count += 1\n",
        "    \n",
        "    if a == c:\n",
        "        count += 1\n",
        "    \n",
        "    if b == c:\n",
        "        count += 1\n",
        "    \n",
        "    return count\n",
        "\n",
        "# Test the function\n",
        "print(checkequalvalues(3,4,3))  \n",
        "\n",
        "print(checkequalvalues(1, 1, 1)) \n",
        "print(checkequalvalues(3, 4, 1))  \n",
        "\n"
      ]
    },
    {
      "cell_type": "markdown",
      "id": "3a880d02",
      "metadata": {
        "id": "3a880d02"
      },
      "source": [
        "#### 2.Write a function that converts a dictionary into a list of keys-values tuples.\n",
        "**Examples:**  \n",
        "`dict_to_list({\n",
        "    \"D\": 1,\n",
        "    \"B\": 2,\n",
        "    \"C\": 3\n",
        "    }) ➞ [(\"B\", 2), (\"C\", 3), (\"D\", 1)]  \n",
        "dict_to_list({\n",
        "    \"likes\": 2,\n",
        "    \"dislikes\": 3,\n",
        "    \"followers\": 10\n",
        "    }) ➞ [(\"dislikes\", 3), (\"followers\", 10), (\"likes\", 2)]`\n",
        "\n",
        "**Notes:**  \n",
        "Return the elements in the list in alphabetical order."
      ]
    },
    {
      "cell_type": "code",
      "execution_count": null,
      "id": "2470a4da",
      "metadata": {
        "id": "2470a4da",
        "outputId": "fb058013-a8aa-42aa-c7c1-a7e648ce252b"
      },
      "outputs": [
        {
          "name": "stdout",
          "output_type": "stream",
          "text": [
            "{'D': 1, 'B': 2, 'C': 3} ➞ [('D', 1), ('B', 2), ('C', 3)]\n",
            "{'likes': 2, 'dislikes': 3, 'followers': 10} ➞ [('likes', 2), ('dislikes', 3), ('followers', 10)]\n"
          ]
        }
      ],
      "source": [
        "def convertdicttolist(in_dict):\n",
        "    out_list = []\n",
        "    for keys,values in in_dict.items():\n",
        "        out_list.append((keys,values))\n",
        "    print(f'{in_dict} ➞ {out_list}')\n",
        "                   \n",
        "convertdicttolist({\"D\": 1,\"B\": 2,\"C\": 3})\n",
        "convertdicttolist({\"likes\": 2,\"dislikes\": 3,\"followers\": 10})"
      ]
    },
    {
      "cell_type": "markdown",
      "id": "440aa907",
      "metadata": {
        "id": "440aa907"
      },
      "source": [
        "#### 3.Write a function that creates a dictionary with each (key, value) pair being the (lower case, upper case) versions of a letter, respectively.\n",
        "**Examples:**  \n",
        "`mapping([\"p\", \"s\"]) ➞ { \"p\": \"P\", \"s\": \"S\" }`  \n",
        "`mapping([\"a\", \"b\", \"c\"]) ➞ { \"a\": \"A\", \"b\": \"B\", \"c\": \"C\" }`  \n",
        "`mapping([\"a\", \"v\", \"y\", \"z\"]) ➞ { \"a\": \"A\", \"v\": \"V\", \"y\": \"Y\", \"z\": \"Z\" }`  \n",
        "\n",
        "**Notes:**  \n",
        "All of the letters in the input list will always be lowercase."
      ]
    },
    {
      "cell_type": "code",
      "execution_count": 5,
      "id": "0150a479",
      "metadata": {
        "colab": {
          "base_uri": "https://localhost:8080/"
        },
        "id": "0150a479",
        "outputId": "64adc201-2a1d-4de2-a798-4d745dfdc3a2"
      },
      "outputs": [
        {
          "output_type": "stream",
          "name": "stdout",
          "text": [
            "['p', 's'] ➞ {'p': 'P', 's': 'S'}\n",
            "['a', 'b', 'c'] ➞ {'a': 'A', 'b': 'B', 'c': 'C'}\n",
            "['a', 'v', 'y', 'z'] ➞ {'a': 'A', 'v': 'V', 'y': 'Y', 'z': 'Z'}\n"
          ]
        }
      ],
      "source": [
        "def convertmapping(inputlist):\n",
        "    out_dict = {}\n",
        "    for ele in inputlist:\n",
        "        out_dict[ele] = ele.upper()\n",
        "    print(f'{inputlist} ➞ {out_dict}')\n",
        "    \n",
        "convertmapping([\"p\", \"s\"])\n",
        "convertmapping([\"a\", \"b\", \"c\"])\n",
        "convertmapping([\"a\", \"v\", \"y\", \"z\"])"
      ]
    },
    {
      "cell_type": "markdown",
      "id": "e35b45e5",
      "metadata": {
        "id": "e35b45e5"
      },
      "source": [
        "#### 4.Write a function, that replaces all vowels in a string with a specified vowel.\n",
        "**Examples:**  \n",
        "`vow_replace(\"apples and bananas\", \"u\") ➞ \"upplus und bununus\"`  \n",
        "`vow_replace(\"cheese casserole\", \"o\") ➞ \"chooso cossorolo\"`  \n",
        "`vow_replace(\"stuffed jalapeno poppers\", \"e\") ➞ \"steffed jelepene peppers\"`  \n",
        "\n",
        "**Notes:**   \n",
        "All words will be lowercase. Y is not considered a vowel."
      ]
    },
    {
      "cell_type": "code",
      "execution_count": null,
      "id": "f29523dc",
      "metadata": {
        "id": "f29523dc",
        "outputId": "a611971b-6519-44c7-e0e6-6e2677630932"
      },
      "outputs": [
        {
          "name": "stdout",
          "output_type": "stream",
          "text": [
            "apples and bananas ➞ upplus und bununus\n",
            "cheese casserole ➞ chooso cossorolo\n",
            "stuffed jalapeno poppers ➞ steffed jelepene peppers\n"
          ]
        }
      ],
      "source": [
        "def replacevowels(in_string,vow_char):\n",
        "    vowels = ['a','e','i','o','u']\n",
        "    out_string = ''\n",
        "    for ele in in_string:\n",
        "        if ele in vowels:\n",
        "            out_string += vow_char\n",
        "        else:\n",
        "            out_string += ele\n",
        "    print(f'{in_string} ➞ {out_string}')\n",
        "        \n",
        "replacevowels(\"apples and bananas\", \"u\")\n",
        "replacevowels(\"cheese casserole\", \"o\")\n",
        "replacevowels(\"stuffed jalapeno poppers\", \"e\")"
      ]
    },
    {
      "cell_type": "markdown",
      "id": "71a67c59",
      "metadata": {
        "id": "71a67c59"
      },
      "source": [
        "#### 5.Create a function that takes a string as input and capitalizes a letter if its ASCII code is even and returns its lower case version if its ASCII code is odd.\n",
        "**Examples:**  \n",
        "`ascii_capitalize(\"to be or not to be!\") ➞ \"To Be oR NoT To Be!\"`  \n",
        "`ascii_capitalize(\"THE LITTLE MERMAID\") ➞ \"THe LiTTLe meRmaiD\"`  \n",
        "`ascii_capitalize(\"Oh what a beautiful morning.\") ➞ \"oH wHaT a BeauTiFuL moRNiNg.\"`  "
      ]
    },
    {
      "cell_type": "code",
      "execution_count": 6,
      "id": "6afe0c64",
      "metadata": {
        "colab": {
          "base_uri": "https://localhost:8080/"
        },
        "id": "6afe0c64",
        "outputId": "711b120f-7a3c-48aa-cdb6-2e0665563a8d"
      },
      "outputs": [
        {
          "output_type": "stream",
          "name": "stdout",
          "text": [
            "to be or not to be! ➞ To Be oR NoT To Be!\n",
            "THE LITTLE MERMAID ➞ THe LiTTLe meRmaiD\n",
            "Oh what a beautiful morning. ➞ oH wHaT a BeauTiFuL moRNiNg.\n"
          ]
        }
      ],
      "source": [
        "def checkcapitalize(in_string):\n",
        "    out_string = ''\n",
        "    for ele in in_string.lower():\n",
        "        if (ord(ele)%2 == 0):\n",
        "            out_string += ele.upper()\n",
        "        else:\n",
        "            out_string += ele\n",
        "    print(f'{in_string} ➞ {out_string}')\n",
        "        \n",
        "checkcapitalize(\"to be or not to be!\")\n",
        "checkcapitalize(\"THE LITTLE MERMAID\")\n",
        "checkcapitalize(\"Oh what a beautiful morning.\")"
      ]
    }
  ],
  "metadata": {
    "kernelspec": {
      "display_name": "Python 3",
      "language": "python",
      "name": "python3"
    },
    "language_info": {
      "codemirror_mode": {
        "name": "ipython",
        "version": 3
      },
      "file_extension": ".py",
      "mimetype": "text/x-python",
      "name": "python",
      "nbconvert_exporter": "python",
      "pygments_lexer": "ipython3",
      "version": "3.8.8"
    },
    "colab": {
      "provenance": []
    }
  },
  "nbformat": 4,
  "nbformat_minor": 5
}